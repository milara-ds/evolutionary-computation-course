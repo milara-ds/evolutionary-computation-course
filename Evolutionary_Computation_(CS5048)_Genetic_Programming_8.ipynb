{
  "nbformat": 4,
  "nbformat_minor": 0,
  "metadata": {
    "colab": {
      "name": "Evolutionary_Computation_(CS5048)_Genetic_Programming.ipynb",
      "provenance": [],
      "collapsed_sections": []
    },
    "kernelspec": {
      "name": "python3",
      "display_name": "Python 3"
    }
  },
  "cells": [
    {
      "cell_type": "markdown",
      "metadata": {
        "id": "QK47uyhQVWsK"
      },
      "source": [
        "# Evolutionary Computation (CS5048)\n",
        "\n",
        "Edgar Covantes Osuna, PhD\n",
        "\n",
        "Email: edgar.covantes@tec.mx\n",
        "\n",
        "Student name: **Miguel Lara **\n",
        "\n",
        "ID: \n",
        "\n",
        "$\n",
        "\\def\\order{{\\rm O{\\Tiny RDER}}}\n",
        "\\def\\mayority{{\\rm M{\\Tiny AYORITY}}}\n",
        "\\def\\sorting{{\\rm S{\\Tiny ORTING}}}\n",
        "\\def\\inv{{\\rm INV}}\n",
        "\\def\\ham{{\\rm HAM}}\n",
        "\\def\\run{{\\rm RUN}}\n",
        "\\def\\las{{\\rm LAS}}\n",
        "\\def\\exc{{\\rm EXC}}\n",
        "$"
      ]
    },
    {
      "cell_type": "markdown",
      "metadata": {
        "id": "A6RJjt-yVa39"
      },
      "source": [
        "## Genetic Programming\n",
        "From the Lecture \"Genetic Programming\" you learned the theoretical fundations of genetic programming as a small set of optimisation and black box optimisation problems whose main goal is to evolve a population of computer\n",
        "programs.\n",
        "\n",
        "You know are familiar with the terms genetic programming, tree-based and linear genetic programming, including their representation, initialisation and operators such as mutation and crossover. You are also familiar with Automatically Defined Functions."
      ]
    },
    {
      "cell_type": "markdown",
      "metadata": {
        "id": "zQTNHtEjpfLu"
      },
      "source": [
        "## Instructions\n",
        "\n",
        "In this activity you will need to make a literature review of the well-known GPs approaches to tackle 3 fitness functions (all of them are defined as maximisation problems). \n",
        "\n",
        "You can use any GP representation you want, and you can use any framework available on the internet. This is, you are free to use any tool available on internet so you do not program your solution from scratch.\n",
        "\n",
        "A good place to start is to check [DEAP](https://github.com/deap/deap), this is an evolutionary computation framework with GP capabilities.\n",
        "\n",
        "It is expected from you to read the literature so you can solve these problems. By knowing the problem it will be easier for you to make decisions about parameter settings, mechanisms to apply, the search space to use and the structure of the individuals to use.\n",
        "\n",
        "**The goal**:\n",
        "\n",
        "At the end of the execution of your evolutionary strategy you should present at least one individual representing the global optimum and its corresponding fitness value.\n",
        "\n",
        "**Marking scheme**:\n",
        "\n",
        "- $\\order$ (33.5 points). \n",
        "- $\\mayority$ (33.5 points).\n",
        "- $\\sorting$\n",
        "  - $\\inv$ (6.6 points).\n",
        "  - $\\ham$ (6.6 points).\n",
        "  - $\\run$ (6.6 points).\n",
        "  - $\\las$ (6.6 points).\n",
        "  - $\\exc$ (6.6 points).\n",
        "\n",
        "**Suggestions**\n",
        "- Read carefully each section and spend time understanding each function. Each function may require specific representations or operator. I highly suggest reading the slides and the papers referenced there before solving the functions."
      ]
    },
    {
      "cell_type": "markdown",
      "metadata": {
        "id": "OD2bjL2TsMob"
      },
      "source": [
        "## Imports\n",
        "\n",
        "You can add all the necessary packages in the following cell."
      ]
    },
    {
      "cell_type": "code",
      "metadata": {
        "id": "mLNaN9ujsKhi",
        "outputId": "9de155a6-ee3f-44cc-ab82-5f6c4aa617f4",
        "colab": {
          "base_uri": "https://localhost:8080/"
        }
      },
      "source": [
        "import numpy as np\n",
        "import string\n",
        "import random\n",
        "\n",
        "!pip install deap\n",
        "\n",
        "from deap import algorithms\n",
        "from deap import base\n",
        "from deap import creator\n",
        "from deap import tools\n",
        "from deap import gp\n",
        "\n",
        "!sudo apt-get install graphviz libgraphviz-dev pkg-config\n",
        "!sudo apt-get install python-pip python-virtualenv\n",
        "!pip install pygraphviz"
      ],
      "execution_count": 272,
      "outputs": [
        {
          "output_type": "stream",
          "text": [
            "Requirement already satisfied: deap in /usr/local/lib/python3.6/dist-packages (1.3.1)\n",
            "Requirement already satisfied: numpy in /usr/local/lib/python3.6/dist-packages (from deap) (1.18.5)\n",
            "Reading package lists... Done\n",
            "Building dependency tree       \n",
            "Reading state information... Done\n",
            "pkg-config is already the newest version (0.29.1-0ubuntu2).\n",
            "graphviz is already the newest version (2.40.1-2).\n",
            "libgraphviz-dev is already the newest version (2.40.1-2).\n",
            "0 upgraded, 0 newly installed, 0 to remove and 11 not upgraded.\n",
            "Reading package lists... Done\n",
            "Building dependency tree       \n",
            "Reading state information... Done\n",
            "The following additional packages will be installed:\n",
            "  libpython-all-dev python-all python-all-dev python-asn1crypto\n",
            "  python-cffi-backend python-crypto python-cryptography python-dbus\n",
            "  python-enum34 python-gi python-idna python-ipaddress python-keyring\n",
            "  python-keyrings.alt python-pip-whl python-pkg-resources python-secretstorage\n",
            "  python-setuptools python-six python-wheel python-xdg python3-pkg-resources\n",
            "  python3-virtualenv virtualenv\n",
            "Suggested packages:\n",
            "  python-crypto-doc python-cryptography-doc python-cryptography-vectors\n",
            "  python-dbus-dbg python-dbus-doc python-enum34-doc python-gi-cairo\n",
            "  gnome-keyring libkf5wallet-bin gir1.2-gnomekeyring-1.0 python-fs\n",
            "  python-gdata python-keyczar python-secretstorage-doc python-setuptools-doc\n",
            "  python3-setuptools\n",
            "The following NEW packages will be installed:\n",
            "  libpython-all-dev python-all python-all-dev python-asn1crypto\n",
            "  python-cffi-backend python-crypto python-cryptography python-dbus\n",
            "  python-enum34 python-gi python-idna python-ipaddress python-keyring\n",
            "  python-keyrings.alt python-pip python-pip-whl python-pkg-resources\n",
            "  python-secretstorage python-setuptools python-six python-virtualenv\n",
            "  python-wheel python-xdg python3-pkg-resources python3-virtualenv virtualenv\n",
            "0 upgraded, 26 newly installed, 0 to remove and 11 not upgraded.\n",
            "Need to get 221 kB/3,569 kB of archives.\n",
            "After this operation, 11.4 MB of additional disk space will be used.\n",
            "Ign:1 http://archive.ubuntu.com/ubuntu bionic-updates/main amd64 python-cryptography amd64 2.1.4-1ubuntu1.3\n",
            "Err:1 http://security.ubuntu.com/ubuntu bionic-updates/main amd64 python-cryptography amd64 2.1.4-1ubuntu1.3\n",
            "  404  Not Found [IP: 91.189.88.152 80]\n",
            "E: Failed to fetch http://security.ubuntu.com/ubuntu/pool/main/p/python-cryptography/python-cryptography_2.1.4-1ubuntu1.3_amd64.deb  404  Not Found [IP: 91.189.88.152 80]\n",
            "E: Unable to fetch some archives, maybe run apt-get update or try with --fix-missing?\n",
            "Requirement already satisfied: pygraphviz in /usr/local/lib/python3.6/dist-packages (1.6)\n"
          ],
          "name": "stdout"
        }
      ]
    },
    {
      "cell_type": "markdown",
      "metadata": {
        "id": "pDDjczOxOcxY"
      },
      "source": [
        "# Inputs\n",
        "\n",
        "The following code can be used to generate individuals, where a symbol with $\\neg x_i$ corresponds to a symbol $\\bar{x}_i$ in the following function definitions. "
      ]
    },
    {
      "cell_type": "code",
      "metadata": {
        "id": "b-L28oKUVVuN",
        "outputId": "4c0b619a-66ff-4b35-e354-eba0378fcd6b",
        "colab": {
          "base_uri": "https://localhost:8080/"
        }
      },
      "source": [
        "input_num = 3\n",
        "inputs = []\n",
        "literals = []\n",
        "\n",
        "for i in string.ascii_letters:\n",
        "  literals.append(i)\n",
        "  literals.append('¬' + i)\n",
        "\n",
        "for i in range(input_num):\n",
        "  inputs.append(random.sample(literals, len(literals)))\n",
        "\n",
        "print(inputs[0])\n",
        "print(inputs[1])\n",
        "print(inputs[2])"
      ],
      "execution_count": 273,
      "outputs": [
        {
          "output_type": "stream",
          "text": [
            "['F', '¬v', '¬S', '¬B', 's', '¬H', 'a', '¬q', 'E', '¬b', '¬M', '¬s', 'L', '¬Z', 'j', 'i', '¬X', 'X', 'U', 'R', 'd', '¬m', 'H', 'O', 'm', '¬P', 'V', 'J', 'p', 'f', '¬F', 'q', '¬j', 't', '¬Q', '¬L', '¬G', 'n', '¬p', 'l', '¬w', 'M', '¬y', '¬Y', '¬W', 'h', '¬C', '¬n', 'P', '¬a', 'y', '¬i', '¬f', '¬E', 'K', 'I', '¬N', 'u', 'B', '¬t', '¬h', '¬x', 'N', 'g', 'C', '¬r', 'D', 'Q', 'A', '¬K', 'Z', '¬O', '¬D', 'c', '¬u', 'z', 'k', 'Y', 'G', 'S', '¬o', 'b', '¬U', '¬c', '¬d', '¬A', 'e', 'v', '¬g', 'W', '¬V', 'w', '¬l', 'o', '¬T', 'x', '¬J', 'r', '¬k', '¬R', 'T', '¬z', '¬I', '¬e']\n",
            "['¬k', '¬T', '¬z', 'L', '¬V', 'E', 'H', '¬p', 'c', 'U', '¬F', 't', '¬I', '¬v', '¬e', 'W', 'A', '¬o', '¬Q', '¬x', 'T', 'i', 'D', '¬Y', '¬i', '¬P', 'V', '¬J', 'u', 'y', '¬W', '¬s', 'K', '¬L', '¬a', '¬c', 'P', '¬b', 'R', 'C', '¬U', '¬u', '¬S', '¬B', 'q', 'Q', 'a', 'O', 'J', '¬X', '¬r', 'x', '¬R', 'b', 'v', '¬f', 'G', 'g', '¬K', '¬A', 'S', '¬M', 'Y', '¬E', '¬g', 'F', '¬H', 'd', 'M', '¬h', 'f', 'm', 'k', 'p', 's', '¬y', '¬q', 'r', '¬t', '¬l', '¬d', 'n', '¬m', 'w', '¬n', '¬Z', 'X', '¬C', '¬j', '¬N', '¬D', 'B', 'h', 'j', 'l', '¬O', 'I', 'N', 'Z', '¬G', 'o', '¬w', 'e', 'z']\n",
            "['K', '¬q', '¬C', 'X', 'h', '¬s', '¬A', '¬G', '¬x', 'N', 'l', '¬k', '¬c', '¬S', '¬R', '¬m', '¬Y', 'W', '¬l', '¬h', 'Y', '¬F', 'L', '¬y', '¬X', 'R', 'a', 'E', 'T', 'u', 'Q', 'z', 'A', 'x', '¬L', '¬a', '¬g', 'o', 'S', 'n', '¬I', '¬M', '¬T', 'G', '¬n', '¬E', 't', '¬H', '¬d', 'H', '¬V', 'k', '¬o', 'y', 'D', '¬D', 'Z', '¬e', 'V', '¬B', '¬v', 'P', 'm', '¬u', 'd', 'j', '¬Q', 'I', '¬f', '¬U', '¬r', '¬K', '¬b', '¬W', '¬j', '¬Z', '¬w', 'w', '¬t', 'v', 'e', 'r', '¬O', '¬J', '¬z', '¬N', 'q', 's', 'c', '¬P', 'U', 'C', 'p', 'b', 'g', 'M', '¬i', '¬p', 'B', 'i', 'J', 'f', 'F', 'O']\n"
          ],
          "name": "stdout"
        }
      ]
    },
    {
      "cell_type": "markdown",
      "metadata": {
        "id": "AbpeeyDQXziP"
      },
      "source": [
        "## $\\order$\n",
        "\n",
        "The $\\order$ problem, as originally introduced by Goldberg and O’Reilly [1],\n",
        "is defined as follows.\n",
        "\n",
        "**Definition ($\\order$)**: Let $F=\\{J\\}$, and $L=\\{x_1, \\bar{x}_1,\\ldots,x_n,\\bar{x}_n\\}$. The fitness of a tree $X$ is the number of literals $x_i$ for which the positive literal $x_i$ appears before the negative literal $\\bar{x}_i$ in the in-order parse of $X$.\n",
        "\n",
        "$J$ (for \"join\") is the only available function in this problem, and the fitness of a tree is determined by an in-order parse of its leaf nodes; this reduces the importance of the tree structure in the analysis, making the representation somewhat similar to a variable-length list.\n",
        "\n",
        "For example, a tree $X$ with in-order parse $(x_1,\\bar{x}_4,x_2,\\bar{x}_1,x_3,\\bar{x}_6)$ has fitness $\\order(X):=3$ because $x_1$, $x_2$, and $x_3$ appear before their negations. Any tree that contains all the positive literals and in which each negative literal $\\bar{x}_i$ that appears in the tree is preceded by the corresponding positive literal $x_i$ has a fitness of $n$ and is optimal.\n"
      ]
    },
    {
      "cell_type": "markdown",
      "metadata": {
        "id": "A1amCpv5oo_i"
      },
      "source": [
        "### Evolution Strategy for $\\order$\n",
        "**This problem was solved with trees-based programming using the DEAP framework. The following lines of code create the algorithm and the specific parameters that are required to get to the solution. It is important to mention that the presented solution was based on the code of  [4], however important changes were made to make it suitable for this problem. The code is organized as follows:**\n",
        "\n",
        "1. The creation of the structure of the algorithm\n",
        "\n",
        "\n",
        "> The creation starts by defining a primitive set, then the operator are  defined as well, and finally the terminal, which in this case are constants. Then, the algorithm is set to have a maximization/minimization approach. Later, the type of individual are created, in this case it is defined as a tree with half with the same depth and the other half with random depth. Finally, the population is defined.\n",
        "\n",
        "2. The Selection for reproduction\n",
        "3. The code for variation (crossover and mutation)\n",
        "4. Selection for survival\n",
        "> In this part of the code, the evaluation function is defined. It is not completely a selection for survival but it helps the selection process by assining a fitness to the individuals.\n",
        "5. The main function whichs put together all the previous code to find a solution to the problem\n",
        "6. The best solution is printed\n",
        "\n",
        "\n"
      ]
    },
    {
      "cell_type": "markdown",
      "metadata": {
        "id": "INAmXB9KPS1o"
      },
      "source": [
        "#### Initialisation\n",
        "\n",
        "**As mentioned before, the following code creates from scratch the algorithm. This is where the operator is set ('concatenation'), where the constants are defined (taken from literals) and where the type of individuals and population are created.**"
      ]
    },
    {
      "cell_type": "code",
      "metadata": {
        "id": "NMoaaXB-OgvU",
        "outputId": "5a958efb-360d-465b-9735-c19fd31d3590",
        "colab": {
          "base_uri": "https://localhost:8080/"
        }
      },
      "source": [
        "\n",
        "import operator\n",
        "import math\n",
        "import random\n",
        "\n",
        "import numpy\n",
        "\n",
        "from deap import algorithms\n",
        "from deap import base\n",
        "from deap import creator\n",
        "from deap import tools\n",
        "from deap import gp\n",
        "\n",
        "rand_val = random.random() * random.random()\n",
        "\n",
        "pset = gp.PrimitiveSet(\"MAIN\", 0)\n",
        "pset.addPrimitive(operator.concat, 2)\n",
        "pset.addEphemeralConstant(\"rand\"+str(rand_val), lambda: random.sample(literals, 1))\n",
        "\n",
        "creator.create(\"FitnessMax\", base.Fitness, weights=(1.0,))\n",
        "creator.create(\"Individual\", gp.PrimitiveTree, fitness=creator.FitnessMax)\n",
        "\n",
        "toolbox = base.Toolbox()\n",
        "toolbox.register(\"expr\", gp.genHalfAndHalf, pset=pset, min_=1, max_=2)\n",
        "toolbox.register(\"individual\", tools.initIterate, creator.Individual, toolbox.expr)\n",
        "toolbox.register(\"population\", tools.initRepeat, list, toolbox.individual)\n",
        "toolbox.register(\"compile\", gp.compile, pset=pset)"
      ],
      "execution_count": 274,
      "outputs": [
        {
          "output_type": "stream",
          "text": [
            "/usr/local/lib/python3.6/dist-packages/deap/creator.py:141: RuntimeWarning: A class named 'FitnessMax' has already been created and it will be overwritten. Consider deleting previous creation of that class or rename it.\n",
            "  RuntimeWarning)\n",
            "/usr/local/lib/python3.6/dist-packages/deap/creator.py:141: RuntimeWarning: A class named 'Individual' has already been created and it will be overwritten. Consider deleting previous creation of that class or rename it.\n",
            "  RuntimeWarning)\n"
          ],
          "name": "stderr"
        }
      ]
    },
    {
      "cell_type": "markdown",
      "metadata": {
        "id": "ePYftoWGQuFd"
      },
      "source": [
        "#### Stopping Criterion\n",
        "**The stopping criterion is defined as the number of generations defined in the main function**"
      ]
    },
    {
      "cell_type": "markdown",
      "metadata": {
        "id": "nQA2eiG7RH1l"
      },
      "source": [
        "#### Selection for Reproduction\n",
        "\n",
        "**The Selection method is tournament selection**"
      ]
    },
    {
      "cell_type": "code",
      "metadata": {
        "id": "nZ9MJpw4Rcw9"
      },
      "source": [
        "toolbox.register(\"select\", tools.selTournament, tournsize=3)"
      ],
      "execution_count": 275,
      "outputs": []
    },
    {
      "cell_type": "markdown",
      "metadata": {
        "id": "GF-SlVgvRO9-"
      },
      "source": [
        "#### Variation\n",
        "\n",
        "**The variation method is composed by crossover and mutation. The crossover is \"one point\" and the mutation replaces a random node with a tree with the same depth.**"
      ]
    },
    {
      "cell_type": "code",
      "metadata": {
        "id": "LniLVCbDR8zm"
      },
      "source": [
        "toolbox.register(\"mate\", gp.cxOnePoint)\n",
        "toolbox.register(\"expr_mut\", gp.genFull, min_=0, max_=2)\n",
        "toolbox.register(\"mutate\", gp.mutUniform, expr=toolbox.expr_mut, pset=pset)\n",
        "\n",
        "toolbox.decorate(\"mate\", gp.staticLimit(key=operator.attrgetter(\"height\"), max_value=10))\n",
        "toolbox.decorate(\"mutate\", gp.staticLimit(key=operator.attrgetter(\"height\"), max_value=10))"
      ],
      "execution_count": 276,
      "outputs": []
    },
    {
      "cell_type": "markdown",
      "metadata": {
        "id": "AomECWtlRSGx"
      },
      "source": [
        "#### Selection for Survival\n",
        "\n",
        "**It is not exactly a method for survival, but is help to sort the individuals by providing the fitness value. This is the fitness funtion suited for this problem**"
      ]
    },
    {
      "cell_type": "code",
      "metadata": {
        "id": "wEKVPDcvSBwv"
      },
      "source": [
        "def eval_order(individual):\n",
        "  func = toolbox.compile(expr=individual)\n",
        "  count = 0\n",
        "  neg = []\n",
        "  pos = []\n",
        "  for var in func:\n",
        "    if '¬' in var:\n",
        "      neg.append(var)\n",
        "    else:\n",
        "      if ('¬'+var not in neg) and (var not in pos):\n",
        "        count += 1\n",
        "        pos.append(var)\n",
        "  return count,\n",
        "\n",
        "toolbox.register(\"evaluate\", eval_order)"
      ],
      "execution_count": 277,
      "outputs": []
    },
    {
      "cell_type": "markdown",
      "metadata": {
        "id": "E6boK1MxRZc2"
      },
      "source": [
        "#### Main Cycle\n",
        "In the following cell you should implement the main cycle of your evolutionary strategy, this is, putting together all elements defined previously so you can solve the problem.\n",
        "\n",
        "Once you run the main cycle, the standard output should looks something like this\n",
        "```\n",
        "# <Generation/Fitness Evaluation number> <Fitness> <Genotype>\n",
        "```\n",
        "Feel free to add extra spaces when needed or use any other format you think will make the output look nicer. But please preserve the order.\n"
      ]
    },
    {
      "cell_type": "markdown",
      "metadata": {
        "id": "vBSZUPBT9Wku"
      },
      "source": [
        "**The code below puts together all the components of the algorithm previously defined.**"
      ]
    },
    {
      "cell_type": "code",
      "metadata": {
        "id": "8CA8raztSUbu",
        "outputId": "6b9163ce-97f0-4974-a34d-b68799a7f0da",
        "colab": {
          "base_uri": "https://localhost:8080/"
        }
      },
      "source": [
        "mRate = 0.2\n",
        "cRate = 0.1\n",
        "nGenerations = 120\n",
        "\n",
        "def main():\n",
        "    random.seed(318)\n",
        "\n",
        "    pop = toolbox.population(n=300)\n",
        "    hof = tools.HallOfFame(1)\n",
        "    \n",
        "    stats_fit = tools.Statistics(lambda ind: ind.fitness.values)\n",
        "    stats_size = tools.Statistics(len)\n",
        "    mstats = tools.MultiStatistics(fitness=stats_fit, size=stats_size)\n",
        "    mstats.register(\"avg\", numpy.mean)\n",
        "    mstats.register(\"std\", numpy.std)\n",
        "    mstats.register(\"min\", numpy.min)\n",
        "    mstats.register(\"max\", numpy.max)\n",
        "\n",
        "    pop, log = algorithms.eaSimple(pop, toolbox, cRate, mRate, nGenerations, stats=mstats,\n",
        "                                   halloffame=hof, verbose=True)\n",
        "    #print log\n",
        "    return pop, log, hof \n",
        "\n",
        "if __name__ == \"__main__\":\n",
        "    pop,log,hof = main()"
      ],
      "execution_count": 278,
      "outputs": [
        {
          "output_type": "stream",
          "text": [
            "   \t      \t                    fitness                     \t                      size                     \n",
            "   \t      \t------------------------------------------------\t-----------------------------------------------\n",
            "gen\tnevals\tavg    \tgen\tmax\tmin\tnevals\tstd     \tavg    \tgen\tmax\tmin\tnevals\tstd    \n",
            "0  \t300   \t1.41667\t0  \t4  \t0  \t300   \t0.903542\t4.52667\t0  \t7  \t3  \t300   \t1.78212\n",
            "1  \t76    \t2.19333\t1  \t5  \t0  \t76    \t0.873282\t5.68667\t1  \t13 \t1  \t76    \t2.18369\n",
            "2  \t95    \t2.91   \t2  \t6  \t0  \t95    \t0.994267\t7.03333\t2  \t17 \t1  \t95    \t2.59979\n",
            "3  \t81    \t3.64   \t3  \t7  \t0  \t81    \t1.00519 \t8.94667\t3  \t19 \t1  \t81    \t2.97049\n",
            "4  \t89    \t4.31667\t4  \t8  \t0  \t89    \t1.16178 \t10.5   \t4  \t25 \t1  \t89    \t3.53318\n",
            "5  \t81    \t4.93667\t5  \t11 \t1  \t81    \t1.32136 \t12.3067\t5  \t25 \t1  \t81    \t4.10519\n",
            "6  \t88    \t5.78   \t6  \t12 \t0  \t88    \t1.64467 \t14.7067\t6  \t31 \t1  \t88    \t4.94712\n",
            "7  \t77    \t6.95   \t7  \t12 \t0  \t77    \t1.54083 \t18.44  \t7  \t31 \t1  \t77    \t4.71661\n",
            "8  \t81    \t7.92333\t8  \t12 \t0  \t81    \t1.68843 \t20.9867\t8  \t37 \t1  \t81    \t4.61301\n",
            "9  \t89    \t8.94   \t9  \t13 \t1  \t89    \t1.74061 \t23.5467\t9  \t37 \t1  \t89    \t5.05119\n",
            "10 \t81    \t9.87333\t10 \t15 \t0  \t81    \t1.74087 \t26.2133\t10 \t45 \t1  \t81    \t5.64693\n",
            "11 \t82    \t10.94  \t11 \t15 \t0  \t82    \t1.61133 \t29.9   \t11 \t51 \t7  \t82    \t5.7111 \n",
            "12 \t89    \t11.6333\t12 \t15 \t1  \t89    \t1.74706 \t33.12  \t12 \t51 \t1  \t89    \t6.32763\n",
            "13 \t83    \t12.4767\t13 \t18 \t4  \t83    \t1.50426 \t35.92  \t13 \t55 \t9  \t83    \t6.17578\n",
            "14 \t82    \t13.42  \t14 \t18 \t1  \t82    \t1.92101 \t38.28  \t14 \t59 \t1  \t82    \t7.17135\n",
            "15 \t80    \t14.4233\t15 \t19 \t1  \t80    \t2.03243 \t40.1467\t15 \t77 \t3  \t80    \t8.2973 \n",
            "16 \t84    \t15.4167\t16 \t19 \t1  \t84    \t1.97562 \t43.8467\t16 \t77 \t1  \t84    \t8.90186\n",
            "17 \t80    \t16.3867\t17 \t20 \t1  \t80    \t1.97412 \t48.52  \t17 \t79 \t1  \t80    \t8.86696\n",
            "18 \t100   \t17.51  \t18 \t25 \t8  \t100   \t1.59266 \t52.5867\t18 \t81 \t19 \t100   \t8.09542\n",
            "19 \t75    \t18.4267\t19 \t25 \t10 \t75    \t1.57838 \t55.68  \t19 \t83 \t29 \t75    \t9.2501 \n",
            "20 \t81    \t19.0733\t20 \t25 \t0  \t81    \t2.14972 \t58.7   \t20 \t83 \t1  \t81    \t11.6529\n",
            "21 \t95    \t19.83  \t21 \t25 \t7  \t95    \t2.21986 \t64.3467\t21 \t83 \t17 \t95    \t12.3774\n",
            "22 \t92    \t20.8267\t22 \t25 \t2  \t92    \t2.45424 \t66.62  \t22 \t95 \t3  \t92    \t12.3322\n",
            "23 \t78    \t21.7533\t23 \t27 \t2  \t78    \t2.49115 \t66.7867\t23 \t93 \t7  \t78    \t10.9133\n",
            "24 \t88    \t22.99  \t24 \t27 \t1  \t88    \t2.37555 \t68.4333\t24 \t93 \t3  \t88    \t9.15563\n",
            "25 \t88    \t23.8067\t25 \t28 \t8  \t88    \t2.10142 \t69.82  \t25 \t91 \t23 \t88    \t7.31261\n",
            "26 \t91    \t24.53  \t26 \t28 \t10 \t91    \t1.67205 \t70.9733\t26 \t91 \t25 \t91    \t5.84231\n",
            "27 \t100   \t24.7567\t27 \t29 \t2  \t100   \t2.21453 \t72.4933\t27 \t93 \t7  \t100   \t8.08022\n",
            "28 \t102   \t25.01  \t28 \t29 \t1  \t102   \t3.32314 \t73.7667\t28 \t103\t1  \t102   \t11.4431\n",
            "29 \t80    \t26.0967\t29 \t29 \t15 \t80    \t1.69135 \t77.9667\t29 \t103\t45 \t80    \t7.7278 \n",
            "30 \t81    \t26.89  \t30 \t29 \t19 \t81    \t1.52465 \t78.54  \t30 \t103\t53 \t81    \t7.37666\n",
            "31 \t83    \t27.4033\t31 \t29 \t2  \t83    \t2.22126 \t76.6333\t31 \t99 \t7  \t83    \t8.12807\n",
            "32 \t77    \t27.8633\t32 \t30 \t7  \t77    \t2.45994 \t74.4733\t32 \t95 \t25 \t77    \t7.17421\n",
            "33 \t90    \t28.3267\t33 \t31 \t21 \t90    \t1.49219 \t74.1133\t33 \t89 \t53 \t90    \t4.99338\n",
            "34 \t91    \t28.3733\t34 \t31 \t2  \t91    \t2.32105 \t73.88  \t34 \t99 \t7  \t91    \t6.30335\n",
            "35 \t82    \t28.6333\t35 \t31 \t0  \t82    \t2.70904 \t74.74  \t35 \t99 \t1  \t82    \t8.25424\n",
            "36 \t83    \t28.95  \t36 \t31 \t19 \t83    \t1.78162 \t76.5867\t36 \t99 \t51 \t83    \t5.75406\n",
            "37 \t92    \t29.17  \t37 \t31 \t2  \t92    \t2.93731 \t77.9733\t37 \t99 \t3  \t92    \t8.72311\n",
            "38 \t90    \t29.4567\t38 \t31 \t1  \t90    \t3.07703 \t79.5467\t38 \t97 \t1  \t90    \t9.14883\n",
            "39 \t94    \t29.8833\t39 \t32 \t0  \t94    \t2.55272 \t81.1333\t39 \t97 \t1  \t94    \t7.79801\n",
            "40 \t82    \t30.36  \t40 \t33 \t11 \t82    \t2.00759 \t82.6867\t40 \t99 \t35 \t82    \t7.24765\n",
            "41 \t103   \t30.23  \t41 \t33 \t8  \t103   \t2.88394 \t83.4867\t41 \t103\t25 \t103   \t9.54654\n",
            "42 \t71    \t30.8533\t42 \t33 \t20 \t71    \t1.62844 \t85.8333\t42 \t103\t53 \t71    \t7.40533\n",
            "43 \t66    \t31.3133\t43 \t34 \t11 \t66    \t1.63966 \t88.8333\t43 \t103\t39 \t66    \t8.329  \n",
            "44 \t98    \t31.3333\t44 \t35 \t0  \t98    \t3.19722 \t91.5667\t44 \t123\t1  \t98    \t11.5429\n",
            "45 \t101   \t31.94  \t45 \t35 \t2  \t101   \t2.41172 \t94.9533\t45 \t123\t3  \t101   \t10.0099\n",
            "46 \t89    \t32.4033\t46 \t35 \t2  \t89    \t2.70567 \t97.4667\t46 \t123\t3  \t89    \t10.098 \n",
            "47 \t90    \t33.1033\t47 \t36 \t24 \t90    \t1.60603 \t100.227\t47 \t129\t61 \t90    \t6.59206\n",
            "48 \t90    \t33.49  \t48 \t37 \t2  \t90    \t2.73067 \t101.353\t48 \t135\t3  \t90    \t9.96235\n",
            "49 \t93    \t33.8167\t49 \t37 \t9  \t93    \t2.90684 \t102.84 \t49 \t137\t23 \t93    \t10.4881\n",
            "50 \t102   \t34.4233\t50 \t37 \t13 \t102   \t2.08745 \t105.687\t50 \t137\t31 \t102   \t9.28342\n",
            "51 \t96    \t35.1533\t51 \t38 \t29 \t96    \t1.29479 \t108.46 \t51 \t143\t81 \t96    \t10.4429\n",
            "52 \t86    \t35.4367\t52 \t39 \t0  \t86    \t3.55612 \t110.947\t52 \t145\t7  \t86    \t17.5923\n",
            "53 \t86    \t36.15  \t53 \t39 \t11 \t86    \t2.31102 \t117.673\t53 \t149\t27 \t86    \t18.0876\n",
            "54 \t79    \t36.57  \t54 \t39 \t1  \t79    \t3.52019 \t123.927\t54 \t151\t3  \t79    \t19.7945\n",
            "55 \t102   \t37.31  \t55 \t40 \t26 \t102   \t1.67548 \t129.067\t55 \t153\t75 \t102   \t15.497 \n",
            "56 \t84    \t37.9433\t56 \t41 \t22 \t84    \t1.90266 \t132.687\t56 \t159\t61 \t84    \t14.2219\n",
            "57 \t91    \t38.4133\t57 \t41 \t22 \t91    \t1.89275 \t133.96 \t57 \t159\t61 \t91    \t12.3897\n",
            "58 \t92    \t38.8867\t58 \t41 \t29 \t92    \t1.54504 \t134.447\t58 \t169\t73 \t92    \t13.3607\n",
            "59 \t82    \t39.1667\t59 \t41 \t1  \t82    \t2.77829 \t134.407\t59 \t159\t7  \t82    \t16.5355\n",
            "60 \t92    \t39.2567\t60 \t42 \t0  \t92    \t3.72346 \t135.227\t60 \t165\t3  \t92    \t19.4471\n",
            "61 \t74    \t39.74  \t61 \t42 \t2  \t74    \t2.50581 \t136.567\t61 \t165\t7  \t74    \t16.0279\n",
            "62 \t81    \t40.1967\t62 \t42 \t28 \t81    \t1.27984 \t134.547\t62 \t159\t95 \t81    \t14.5211\n",
            "63 \t97    \t39.9967\t63 \t42 \t0  \t97    \t3.77138 \t133.46 \t63 \t181\t1  \t97    \t19.3133\n",
            "64 \t72    \t40.97  \t64 \t43 \t22 \t72    \t1.61114 \t136.067\t64 \t181\t61 \t72    \t15.0238\n",
            "65 \t89    \t40.7533\t65 \t43 \t19 \t89    \t3.5203  \t133.987\t65 \t159\t51 \t89    \t19.637 \n",
            "66 \t97    \t41.41  \t66 \t43 \t20 \t97    \t2.04007 \t134.26 \t66 \t159\t55 \t97    \t15.877 \n",
            "67 \t89    \t41.6333\t67 \t43 \t21 \t89    \t1.87942 \t135.473\t67 \t159\t57 \t89    \t15.3207\n",
            "68 \t88    \t41.9367\t68 \t44 \t34 \t88    \t1.37331 \t134.227\t68 \t161\t103\t88    \t14.4624\n",
            "69 \t80    \t41.87  \t69 \t44 \t1  \t80    \t3.90979 \t133.34 \t69 \t157\t1  \t80    \t18.9147\n",
            "70 \t87    \t42.3567\t70 \t45 \t31 \t87    \t2.00403 \t136.14 \t70 \t179\t79 \t87    \t16.1194\n",
            "71 \t90    \t43     \t71 \t45 \t36 \t90    \t1.09848 \t140.6  \t71 \t185\t91 \t90    \t15.2525\n",
            "72 \t79    \t43.0667\t72 \t45 \t19 \t79    \t2.54602 \t144.067\t72 \t163\t53 \t79    \t16.6488\n",
            "73 \t74    \t43.4867\t73 \t45 \t20 \t74    \t2.27519 \t147.793\t73 \t189\t55 \t74    \t14.8969\n",
            "74 \t80    \t43.61  \t74 \t45 \t0  \t80    \t3.04815 \t150.227\t74 \t167\t1  \t80    \t15.5371\n",
            "75 \t86    \t44.0133\t75 \t46 \t22 \t86    \t1.72235 \t151.847\t75 \t169\t61 \t86    \t12.7443\n",
            "76 \t90    \t43.98  \t76 \t46 \t23 \t90    \t2.36916 \t152.687\t76 \t181\t67 \t90    \t13.5743\n",
            "77 \t60    \t44.5967\t77 \t46 \t22 \t60    \t1.82227 \t156.307\t77 \t171\t73 \t60    \t10.1087\n",
            "78 \t81    \t44.69  \t78 \t46 \t2  \t81    \t2.76536 \t156.827\t78 \t171\t7  \t81    \t12.5856\n",
            "79 \t92    \t44.8033\t79 \t47 \t31 \t92    \t1.78829 \t158.347\t79 \t175\t103\t92    \t10.6082\n",
            "80 \t84    \t45.1133\t80 \t47 \t0  \t84    \t2.98895 \t160.987\t80 \t173\t1  \t84    \t12.3267\n",
            "81 \t90    \t45.4233\t81 \t48 \t31 \t90    \t1.60959 \t163.687\t81 \t177\t115\t90    \t6.92593\n",
            "82 \t75    \t45.6167\t82 \t48 \t32 \t75    \t1.59887 \t164.28 \t82 \t177\t103\t75    \t7.57286\n",
            "83 \t78    \t45.6533\t83 \t48 \t2  \t78    \t3.0419  \t164.647\t83 \t179\t3  \t78    \t11.5098\n",
            "84 \t70    \t45.8833\t84 \t48 \t23 \t70    \t2.56054 \t165.08 \t84 \t179\t67 \t70    \t11.1508\n",
            "85 \t85    \t46.1433\t85 \t48 \t1  \t85    \t3.56129 \t166.513\t85 \t183\t3  \t85    \t13.9529\n",
            "86 \t81    \t46.72  \t86 \t48 \t0  \t81    \t4.02181 \t168.327\t86 \t183\t1  \t81    \t14.7264\n",
            "87 \t86    \t47.1067\t87 \t48 \t31 \t86    \t1.87669 \t168.953\t87 \t183\t123\t86    \t7.79302\n",
            "88 \t77    \t47.63  \t88 \t49 \t39 \t77    \t0.972848\t170.013\t88 \t185\t141\t77    \t4.59998\n",
            "89 \t80    \t47.3433\t89 \t49 \t1  \t80    \t3.17471 \t169.247\t89 \t187\t3  \t80    \t11.4778\n",
            "90 \t83    \t47.5267\t90 \t49 \t33 \t83    \t1.74049 \t169.6  \t90 \t185\t119\t83    \t6.83423\n",
            "91 \t83    \t47.53  \t91 \t50 \t23 \t83    \t2.12817 \t170.167\t91 \t191\t71 \t83    \t8.63861\n",
            "92 \t82    \t47.72  \t92 \t50 \t32 \t82    \t1.85336 \t170.613\t92 \t187\t119\t82    \t6.70799\n",
            "93 \t89    \t47.91  \t93 \t50 \t1  \t89    \t3.14249 \t170.807\t93 \t189\t7  \t89    \t11.0949\n",
            "94 \t84    \t48.1567\t94 \t50 \t1  \t84    \t3.2658  \t170.253\t94 \t189\t1  \t84    \t12.2791\n",
            "95 \t74    \t48.6833\t95 \t50 \t35 \t74    \t1.73869 \t172.18 \t95 \t189\t115\t74    \t7.45884\n",
            "96 \t93    \t48.57  \t96 \t50 \t22 \t93    \t2.87723 \t172.067\t96 \t193\t67 \t93    \t11.4243\n",
            "97 \t77    \t49.2633\t97 \t50 \t38 \t77    \t1.59185 \t175.607\t97 \t207\t113\t77    \t8.0923 \n",
            "98 \t82    \t49.1733\t98 \t50 \t0  \t82    \t3.57257 \t176.187\t98 \t207\t1  \t82    \t13.5028\n",
            "99 \t95    \t49.0567\t99 \t50 \t1  \t95    \t3.90813 \t176.107\t99 \t207\t3  \t95    \t15.7464\n",
            "100\t84    \t49.4267\t100\t50 \t24 \t84    \t2.27111 \t177.627\t100\t207\t67 \t84    \t10.3219\n",
            "101\t86    \t49.5733\t101\t51 \t39 \t86    \t1.31325 \t178.473\t101\t207\t121\t86    \t7.09384\n",
            "102\t64    \t49.5133\t102\t51 \t26 \t64    \t2.00578 \t178.027\t102\t207\t73 \t64    \t9.89205\n",
            "103\t93    \t49.3633\t103\t51 \t2  \t93    \t3.17353 \t178.407\t103\t211\t3  \t93    \t12.6694\n",
            "104\t78    \t49.4033\t104\t51 \t22 \t78    \t2.60908 \t178.093\t104\t207\t73 \t78    \t11.6644\n",
            "105\t69    \t49.8967\t105\t51 \t41 \t69    \t1.16304 \t179.273\t105\t207\t143\t69    \t6.71853\n",
            "106\t71    \t49.95  \t106\t51 \t36 \t71    \t1.51465 \t179.147\t106\t207\t133\t71    \t6.63163\n",
            "107\t57    \t50.2   \t107\t51 \t0  \t57    \t3.19166 \t179.227\t107\t209\t1  \t57    \t12.7217\n",
            "108\t74    \t50.4767\t108\t51 \t31 \t74    \t1.9121  \t178.553\t108\t195\t121\t74    \t7.15731\n",
            "109\t105   \t50.47  \t109\t51 \t41 \t105   \t1.36959 \t178.753\t109\t195\t121\t105   \t6.12801\n",
            "110\t98    \t50.2967\t110\t51 \t33 \t98    \t2.04988 \t178.373\t110\t199\t121\t98    \t7.70848\n",
            "111\t79    \t50.49  \t111\t51 \t38 \t79    \t1.36256 \t179.173\t111\t199\t143\t79    \t5.47448\n",
            "112\t98    \t50.1033\t112\t51 \t0  \t98    \t3.71474 \t177.293\t112\t197\t1  \t98    \t14.3106\n",
            "113\t78    \t50.37  \t113\t51 \t1  \t78    \t3.23622 \t178.187\t113\t201\t1  \t78    \t12.4034\n",
            "114\t78    \t50.5867\t114\t51 \t33 \t78    \t1.45    \t179.167\t114\t199\t125\t78    \t5.42207\n",
            "115\t90    \t50.47  \t115\t51 \t24 \t90    \t2.23363 \t178.36 \t115\t199\t67 \t90    \t9.49476\n",
            "116\t74    \t50.51  \t116\t51 \t33 \t74    \t1.64415 \t178.687\t116\t199\t117\t74    \t7.53803\n",
            "117\t85    \t50.4167\t117\t52 \t33 \t85    \t1.9773  \t178.347\t117\t193\t115\t85    \t8.78938\n",
            "118\t93    \t50.0133\t118\t52 \t1  \t93    \t5.10292 \t177.033\t118\t193\t1  \t93    \t18.4676\n",
            "119\t76    \t50.4033\t119\t52 \t2  \t76    \t3.38142 \t177.827\t119\t191\t7  \t76    \t12.5192\n",
            "120\t99    \t50.4233\t120\t52 \t40 \t99    \t1.72553 \t177.88 \t120\t189\t143\t99    \t6.35602\n"
          ],
          "name": "stdout"
        }
      ]
    },
    {
      "cell_type": "markdown",
      "metadata": {
        "id": "F8FGa9fe9NPP"
      },
      "source": [
        "**The next lines of code present the best individual of the population**"
      ]
    },
    {
      "cell_type": "code",
      "metadata": {
        "id": "wRUuvGm6l4bJ",
        "outputId": "9557df0e-7004-438b-b3e1-7b1fe65f7336",
        "colab": {
          "base_uri": "https://localhost:8080/",
          "height": 110
        }
      },
      "source": [
        "best_ind = hof.items[0]\n",
        "func = toolbox.compile(expr=best_ind)\n",
        "\n",
        "print('Best Individual Length:', len(toolbox.compile(expr=best_ind)), 'Fitness:',eval_order(best_ind) )\n",
        "str(func)"
      ],
      "execution_count": 279,
      "outputs": [
        {
          "output_type": "stream",
          "text": [
            "Best Individual Length: 90 Fitness: (52,)\n"
          ],
          "name": "stdout"
        },
        {
          "output_type": "execute_result",
          "data": {
            "application/vnd.google.colaboratory.intrinsic+json": {
              "type": "string"
            },
            "text/plain": [
              "\"['T', 'p', 'i', 'h', 'X', 'B', 's', 'L', 'o', 'A', 'Q', '¬B', 'S', 'f', 'R', 'H', 'b', '¬A', 'V', 'g', 'v', 'M', 'H', 'C', 'E', 'm', 'w', 'O', 'j', 'u', '¬C', 'n', '¬u', 'd', 'E', 'z', '¬O', 'Z', 'I', 'n', 'y', 'x', 'j', 'R', '¬m', 'q', 'K', 'c', 'U', '¬m', 'e', '¬i', 'F', '¬v', 'w', 'J', '¬z', 'r', 'k', 'h', '¬e', 'N', 'A', 'S', 'i', 'h', '¬X', 'g', '¬f', 'E', 'z', 'O', 'j', 'u', 'W', 'w', 't', '¬F', 'Y', 'Y', '¬o', 'P', 'a', 'G', 'd', 'S', '¬i', 'l', '¬S', 'D']\""
            ]
          },
          "metadata": {
            "tags": []
          },
          "execution_count": 279
        }
      ]
    },
    {
      "cell_type": "markdown",
      "metadata": {
        "id": "lUyFAcRtsOHO"
      },
      "source": [
        "## $\\mayority$\n",
        "\n",
        "The $\\mayority$ problem, as originally introduced by Goldberg and O’Reilly [1], is defined as follows.\n",
        "\n",
        "**Definition ($\\mayority$)**: Let $F=\\{J\\}$, and $L=\\{x_1,\\bar{x}_1,\\ldots,x_n,\\bar{x}_n\\}$. The fitness of a tree $X$ is the number of literals $x_i$ for which the positive literal $x_i$ appears in $X$ at least once, and at least as many times as the corresponding negative literal $\\bar{x}_i$.\n",
        "\n",
        "$J$ (for \"join\") is the only available function in this problem, and the fitness of a tree is determined by an in-order parse of its leaf nodes; this reduces the importance of the tree structure in the analysis, making the representation somewhat similar to a variable-length list.\n",
        "\n",
        "For example, a tree with an in-order parse of $(\\bar{x}_1,x_1,x_2,x_3,\\bar{x}_3,\\bar{x}_3)$ would have a fitness $\\mayority(X):=2$, as only the literals $x_1$ and $x_2$ are expressed (while $\\bar{x}_3$ outnumbers $x_3$ in the tree, and $x_3$ is therefore suppresed). Any optimal, solution, expressing all $n$ positive literals, has a fitness $\\mayority(X):=n$."
      ]
    },
    {
      "cell_type": "markdown",
      "metadata": {
        "id": "zFxZW4V2-zfn"
      },
      "source": [
        "### Evolution Strategy for $\\mayority$\n",
        "**This problem was solved with trees-based programming using the DEAP framework. The following lines of code create the algorithm and the specific parameters that are required to get to the solution. It is important to mention that the presented solution was based on the code of  [4], however important changes were made to make it suitable for this problem. The code is organized as follows:**\n",
        "\n",
        "1. The creation of the structure of the algorithm\n",
        "\n",
        "\n",
        "> The creation starts by defining a primitive set, then the operator are  defined as well, and finally the terminal, which in this case are constants. Then, the algorithm is set to have a maximization/minimization approach. Later, the type of individual are created, in this case it is defined as a tree with half with the same depth and the other half with random depth. Finally, the population is defined.\n",
        "\n",
        "2. The Selection for reproduction\n",
        "3. The code for variation (crossover and mutation)\n",
        "4. Selection for survival\n",
        "> In this part of the code, the evaluation function is defined. It is not completely a selection for survival but it helps the selection process by assining a fitness to the individuals.\n",
        "5. The main function whichs put together all the previous code to find a solution to the problem\n",
        "6. The best solution is printed\n",
        "\n",
        "\n"
      ]
    },
    {
      "cell_type": "markdown",
      "metadata": {
        "id": "J1t0lu_pQHGt"
      },
      "source": [
        "#### Initialisation\n",
        "\n",
        "**As mentioned before, the following code creates from scratch the algorithm. This is where the operator is set ('concatenation'), where the constants are defined (taken from literals) and where the type of individuals and population are created.**\n"
      ]
    },
    {
      "cell_type": "code",
      "metadata": {
        "id": "U1TkqZgzQHGy",
        "outputId": "ed6eb9c1-8ec0-4b9c-837b-d107b78e7cbc",
        "colab": {
          "base_uri": "https://localhost:8080/"
        }
      },
      "source": [
        "import operator\n",
        "import math\n",
        "import random\n",
        "import pandas as pd\n",
        "import numpy\n",
        "\n",
        "from deap import algorithms\n",
        "from deap import base\n",
        "from deap import creator\n",
        "from deap import tools\n",
        "from deap import gp\n",
        "\n",
        "rand_val = random.random() * random.random()\n",
        "\n",
        "pset = gp.PrimitiveSet(\"MAIN\", 0)\n",
        "pset.addPrimitive(operator.concat, 2)\n",
        "pset.addEphemeralConstant(\"rand90\"+str(rand_val), lambda: random.sample(literals, 1))\n",
        "\n",
        "creator.create(\"FitnessMax\", base.Fitness, weights=(1.0,))\n",
        "creator.create(\"Individual\", gp.PrimitiveTree, fitness=creator.FitnessMax)\n",
        "\n",
        "toolbox = base.Toolbox()\n",
        "toolbox.register(\"expr\", gp.genHalfAndHalf, pset=pset, min_=1, max_=2)\n",
        "toolbox.register(\"individual\", tools.initIterate, creator.Individual, toolbox.expr)\n",
        "toolbox.register(\"population\", tools.initRepeat, list, toolbox.individual)\n",
        "toolbox.register(\"compile\", gp.compile, pset=pset)"
      ],
      "execution_count": 281,
      "outputs": [
        {
          "output_type": "stream",
          "text": [
            "/usr/local/lib/python3.6/dist-packages/deap/creator.py:141: RuntimeWarning: A class named 'FitnessMax' has already been created and it will be overwritten. Consider deleting previous creation of that class or rename it.\n",
            "  RuntimeWarning)\n",
            "/usr/local/lib/python3.6/dist-packages/deap/creator.py:141: RuntimeWarning: A class named 'Individual' has already been created and it will be overwritten. Consider deleting previous creation of that class or rename it.\n",
            "  RuntimeWarning)\n"
          ],
          "name": "stderr"
        }
      ]
    },
    {
      "cell_type": "markdown",
      "metadata": {
        "id": "9B1bBx4dQHG5"
      },
      "source": [
        "#### Stopping Criterion\n",
        "**The stopping criterion is defined as the number of generations defined in the main function**\n"
      ]
    },
    {
      "cell_type": "markdown",
      "metadata": {
        "id": "12zjB26mQHHC"
      },
      "source": [
        "#### Selection for Reproduction\n",
        "\n",
        "**The Selection method is tournament selection**"
      ]
    },
    {
      "cell_type": "code",
      "metadata": {
        "id": "6aDZS0UhQHHE"
      },
      "source": [
        "toolbox.register(\"select\", tools.selTournament, tournsize=10)"
      ],
      "execution_count": 282,
      "outputs": []
    },
    {
      "cell_type": "markdown",
      "metadata": {
        "id": "XXElMfvTQHHM"
      },
      "source": [
        "#### Variation\n",
        "\n",
        "**The variation method is composed by crossover and mutation. The crossover is \"one point\" and the mutation replaces a random node with a tree with the same depth.**"
      ]
    },
    {
      "cell_type": "code",
      "metadata": {
        "id": "3DM5SzamQHHN"
      },
      "source": [
        "toolbox.register(\"mate\", gp.cxOnePoint)\n",
        "toolbox.register(\"expr_mut\", gp.genFull, min_=0, max_=2)\n",
        "toolbox.register(\"mutate\", gp.mutUniform, expr=toolbox.expr_mut, pset=pset)\n",
        "\n",
        "toolbox.decorate(\"mate\", gp.staticLimit(key=operator.attrgetter(\"height\"), max_value=17))\n",
        "toolbox.decorate(\"mutate\", gp.staticLimit(key=operator.attrgetter(\"height\"), max_value=17))\n"
      ],
      "execution_count": 283,
      "outputs": []
    },
    {
      "cell_type": "markdown",
      "metadata": {
        "id": "NpLrxhFXQHHS"
      },
      "source": [
        "#### Selection for Survival\n",
        "\n",
        "**It is not exactly a method for survival, but is help to sort the individuals by providing the fitness value. This is the fitness funtion suited for this problem**"
      ]
    },
    {
      "cell_type": "code",
      "metadata": {
        "id": "_r7WKLxOQHHS"
      },
      "source": [
        "def eval_mayority(individual):\n",
        "  func = toolbox.compile(expr=individual)\n",
        "\n",
        "  df = pd.DataFrame(data = {'pos':[0],'neg':[0]}, index = ['a'])\n",
        "  for elem in func:\n",
        "    if (elem in df.index.to_list()) or (elem[-1] in df.index.to_list()):\n",
        "      if '¬' in elem:\n",
        "        df.loc[elem[-1]]['neg'] = df.loc[elem[-1]]['neg'] + 1 \n",
        "      else:\n",
        "        df.loc[elem]['pos'] = df.loc[elem]['pos'] + 1 \n",
        "    else:\n",
        "      if '¬' in elem:\n",
        "        df = pd.concat([pd.DataFrame(data = {'pos':[0],'neg':[0]}, index = [elem[-1]]),df],axis = 0)\n",
        "        df.loc[elem[-1]]['neg'] = df.loc[elem[-1]]['neg'] + 1 \n",
        "      else:\n",
        "        df = pd.concat([pd.DataFrame(data = {'pos':[0],'neg':[0]}, index = [elem]),df],axis = 0)\n",
        "        df.loc[elem]['pos'] = df.loc[elem]['pos'] + 1\n",
        "    \n",
        "  res = df['pos'] >= df['neg'] \n",
        "  return res.sum(),\n",
        "\n",
        "toolbox.register(\"evaluate\", eval_mayority)\n"
      ],
      "execution_count": 284,
      "outputs": []
    },
    {
      "cell_type": "markdown",
      "metadata": {
        "id": "vRPxP4P1QHHW"
      },
      "source": [
        "#### Main Cycle\n",
        "In the following cell you should implement the main cycle of your evolutionary strategy, this is, putting together all elements defined previously so you can solve the problem.\n",
        "\n",
        "Once you run the main cycle, the standard output should looks something like this\n",
        "```\n",
        "# <Generation/Fitness Evaluation number> <Fitness> <Genotype>\n",
        "```\n",
        "Feel free to add extra spaces when needed or use any other format you think will make the output look nicer. But please preserve the order.\n"
      ]
    },
    {
      "cell_type": "markdown",
      "metadata": {
        "id": "B1sA4HFX_Nos"
      },
      "source": [
        "**The code below puts together all the components of the algorithm previously defined. NOTE: THE CODE TAKES AROUND 2min AND 30sec TO GET TO THE OPTIMAL**"
      ]
    },
    {
      "cell_type": "code",
      "metadata": {
        "id": "6XYgCBS8QHHX",
        "outputId": "dfd62b0e-2918-4e43-e0d7-8bd5a27c5699",
        "colab": {
          "base_uri": "https://localhost:8080/"
        }
      },
      "source": [
        "cRate = 0.0\n",
        "mRate = 0.1\n",
        "nGenerations = 90\n",
        "\n",
        "\n",
        "def main():\n",
        "    random.seed(318)\n",
        "\n",
        "    pop = toolbox.population(n=300)\n",
        "    hof = tools.HallOfFame(1)\n",
        "    \n",
        "    stats_fit = tools.Statistics(lambda ind: ind.fitness.values)\n",
        "    stats_size = tools.Statistics(len)\n",
        "    mstats = tools.MultiStatistics(fitness=stats_fit, size=stats_size)\n",
        "    mstats.register(\"avg\", numpy.mean)\n",
        "    mstats.register(\"std\", numpy.std)\n",
        "    mstats.register(\"min\", numpy.min)\n",
        "    mstats.register(\"max\", numpy.max)\n",
        "\n",
        "    pop, log = algorithms.eaSimple(pop, toolbox, cRate, mRate,nGenerations, stats=mstats,\n",
        "                                   halloffame=hof, verbose=True)\n",
        "    #print log\n",
        "    return pop, log, hof \n",
        "\n",
        "if __name__ == \"__main__\":\n",
        "    pop,log,hof = main()"
      ],
      "execution_count": 286,
      "outputs": [
        {
          "output_type": "stream",
          "text": [
            "   \t      \t                    fitness                     \t                      size                     \n",
            "   \t      \t------------------------------------------------\t-----------------------------------------------\n",
            "gen\tnevals\tavg \tgen\tmax\tmin\tnevals\tstd     \tavg    \tgen\tmax\tmin\tnevals\tstd    \n",
            "0  \t300   \t2.33\t0  \t5  \t0  \t300   \t0.935111\t4.52667\t0  \t7  \t3  \t300   \t1.78212\n",
            "1  \t27    \t3.77\t1  \t8  \t1  \t27    \t0.793998\t6.28667\t1  \t13 \t3  \t27    \t1.96244\n",
            "2  \t43    \t4.94333\t2  \t8  \t1  \t43    \t1.05204 \t8.48667\t2  \t19 \t1  \t43    \t2.96476\n",
            "3  \t21    \t6.47667\t3  \t10 \t2  \t21    \t1.16739 \t12.4467\t3  \t21 \t1  \t21    \t2.97105\n",
            "4  \t28    \t7.89667\t4  \t10 \t1  \t28    \t0.875208\t13.2933\t4  \t23 \t3  \t28    \t1.9237 \n",
            "5  \t24    \t8.42333\t5  \t10 \t1  \t24    \t1.1154  \t14.9333\t5  \t23 \t1  \t24    \t3.11056\n",
            "6  \t32    \t9.67   \t6  \t11 \t1  \t32    \t1.1638  \t18.5933\t6  \t25 \t1  \t32    \t2.52612\n",
            "7  \t35    \t9.91   \t7  \t12 \t3  \t35    \t0.817659\t19.1467\t7  \t25 \t5  \t35    \t1.96769\n",
            "8  \t31    \t10.3467\t8  \t12 \t5  \t31    \t0.916418\t20.2733\t8  \t25 \t7  \t31    \t2.40942\n",
            "9  \t44    \t11.1967\t9  \t13 \t3  \t44    \t1.1006  \t22.4867\t9  \t31 \t5  \t44    \t2.79818\n",
            "10 \t26    \t11.92  \t10 \t14 \t1  \t26    \t1.08333 \t24.2   \t10 \t33 \t1  \t26    \t2.97546\n",
            "11 \t28    \t12.55  \t11 \t15 \t1  \t28    \t1.30416 \t27.12  \t11 \t39 \t1  \t28    \t3.93772\n",
            "12 \t27    \t13.2767\t12 \t15 \t1  \t27    \t1.70688 \t29.7333\t12 \t39 \t1  \t27    \t4.4597 \n",
            "13 \t30    \t14.0933\t13 \t17 \t6  \t30    \t0.9581  \t32.5867\t13 \t45 \t13 \t30    \t4.23822\n",
            "14 \t25    \t14.9533\t14 \t19 \t5  \t25    \t0.982084\t38.14  \t14 \t45 \t11 \t25    \t2.9519 \n",
            "15 \t20    \t15.8633\t15 \t19 \t3  \t20    \t1.49376 \t39.1867\t15 \t45 \t3  \t20    \t3.06243\n",
            "16 \t25    \t17.5567\t16 \t19 \t5  \t25    \t1.23833 \t40.7133\t16 \t51 \t13 \t25    \t3.09588\n",
            "17 \t32    \t18.72  \t17 \t21 \t3  \t32    \t1.60674 \t42.5733\t17 \t51 \t3  \t32    \t3.61542\n",
            "18 \t28    \t19.23  \t18 \t22 \t2  \t28    \t1.35785 \t43.8867\t18 \t51 \t3  \t28    \t3.65885\n",
            "19 \t37    \t20.2567\t19 \t23 \t1  \t37    \t2.00934 \t46.8067\t19 \t57 \t1  \t37    \t5.27914\n",
            "20 \t30    \t21.2833\t20 \t23 \t2  \t30    \t1.98571 \t49.22  \t20 \t57 \t7  \t30    \t4.85712\n",
            "21 \t35    \t22.1833\t21 \t25 \t3  \t35    \t1.97224 \t51.2667\t21 \t59 \t7  \t35    \t4.82862\n",
            "22 \t34    \t22.89  \t22 \t27 \t2  \t34    \t2.05538 \t52.6267\t22 \t65 \t7  \t34    \t4.96595\n",
            "23 \t23    \t23.95  \t23 \t27 \t1  \t23    \t2.00354 \t55.3267\t23 \t65 \t1  \t23    \t5.05832\n",
            "24 \t32    \t25.3633\t24 \t29 \t14 \t32    \t1.26675 \t57.7467\t24 \t65 \t33 \t32    \t2.55653\n",
            "25 \t29    \t26.74  \t25 \t30 \t7  \t29    \t1.74902 \t57.2267\t25 \t65 \t15 \t29    \t3.70252\n",
            "26 \t41    \t27.3667\t26 \t31 \t3  \t41    \t2.71886 \t60.08  \t26 \t69 \t3  \t41    \t6.50592\n",
            "27 \t32    \t28.9633\t27 \t32 \t14 \t32    \t1.51943 \t63.9733\t27 \t75 \t33 \t32    \t3.14737\n",
            "28 \t30    \t30.0667\t28 \t33 \t7  \t30    \t1.69771 \t65.5667\t28 \t77 \t17 \t30    \t4.07417\n",
            "29 \t34    \t31.0033\t29 \t33 \t2  \t34    \t2.66771 \t67.32  \t29 \t77 \t7  \t34    \t6.33542\n",
            "30 \t29    \t32.0567\t30 \t34 \t19 \t29    \t1.08018 \t71.1   \t30 \t77 \t45 \t29    \t2.32164\n",
            "31 \t23    \t32.6467\t31 \t34 \t8  \t23    \t2.01209 \t70.8067\t31 \t79 \t19 \t23    \t4.17644\n",
            "32 \t24    \t33.1667\t32 \t35 \t15 \t24    \t1.2106  \t71.8067\t32 \t79 \t39 \t24    \t2.45002\n",
            "33 \t21    \t33.8367\t33 \t36 \t19 \t21    \t1.14746 \t73.0667\t33 \t79 \t39 \t21    \t2.74145\n",
            "34 \t32    \t34.0767\t34 \t36 \t6  \t32    \t1.83597 \t73.3933\t34 \t81 \t17 \t32    \t3.88741\n",
            "35 \t34    \t34.8   \t35 \t37 \t1  \t34    \t3.39509 \t74.86  \t35 \t87 \t1  \t34    \t7.5503 \n",
            "36 \t26    \t35.8233\t36 \t37 \t9  \t26    \t1.78478 \t79.0267\t36 \t87 \t23 \t26    \t4.11493\n",
            "37 \t29    \t36.3933\t37 \t39 \t10 \t29    \t1.90926 \t81.2467\t37 \t91 \t29 \t29    \t4.64534\n",
            "38 \t20    \t36.9567\t38 \t39 \t18 \t20    \t1.5016  \t83.14  \t38 \t95 \t43 \t20    \t4.42648\n",
            "39 \t33    \t37.5867\t39 \t39 \t2  \t33    \t2.56043 \t85.4133\t39 \t97 \t3  \t33    \t7.13226\n",
            "40 \t26    \t38.7333\t40 \t39 \t9  \t26    \t1.92065 \t90.64  \t40 \t97 \t27 \t26    \t4.32401\n",
            "41 \t27    \t38.5933\t41 \t40 \t2  \t27    \t3.20124 \t90.2933\t41 \t97 \t3  \t27    \t7.66859\n",
            "42 \t31    \t38.8333\t42 \t40 \t18 \t31    \t1.46249 \t91.0133\t42 \t103\t47 \t31    \t3.71661\n",
            "43 \t23    \t39.2067\t43 \t41 \t10 \t23    \t2.24588 \t91.6733\t43 \t99 \t29 \t23    \t5.57972\n",
            "44 \t39    \t39.7467\t44 \t41 \t25 \t39    \t1.40801 \t92.4867\t44 \t103\t57 \t39    \t4.97626\n",
            "45 \t27    \t40.28  \t45 \t42 \t25 \t27    \t1.32474 \t93.76  \t45 \t103\t57 \t27    \t4.12582\n",
            "46 \t28    \t40.8233\t46 \t42 \t32 \t28    \t0.982576\t94.8   \t46 \t101\t73 \t28    \t2.26569\n",
            "47 \t22    \t41.02  \t47 \t42 \t27 \t22    \t1.19983 \t94.9533\t47 \t99 \t65 \t22    \t2.63018\n",
            "48 \t26    \t41.6333\t48 \t42 \t11 \t26    \t1.92671 \t95.3867\t48 \t101\t27 \t26    \t4.42235\n",
            "49 \t22    \t41.61  \t49 \t43 \t1  \t22    \t3.13229 \t95.06  \t49 \t107\t3  \t22    \t7.40876\n",
            "50 \t26    \t41.68  \t50 \t43 \t10 \t26    \t2.69399 \t95.68  \t50 \t105\t23 \t26    \t6.40346\n",
            "51 \t29    \t41.95  \t51 \t43 \t15 \t29    \t1.98179 \t97.02  \t51 \t107\t35 \t29    \t4.98928\n",
            "52 \t31    \t42.4933\t52 \t44 \t2  \t31    \t3.11501 \t99.82  \t52 \t107\t3  \t31    \t7.66165\n",
            "53 \t17    \t42.89  \t53 \t44 \t16 \t17    \t1.76764 \t100.96 \t53 \t107\t37 \t17    \t4.53414\n",
            "54 \t23    \t43.0133\t54 \t44 \t2  \t23    \t3.85052 \t102.527\t54 \t113\t7  \t23    \t9.4954 \n",
            "55 \t18    \t43.8867\t55 \t44 \t29 \t18    \t0.962889\t105.927\t55 \t113\t71 \t18    \t3.41877\n",
            "56 \t36    \t43.7833\t56 \t46 \t25 \t36    \t1.31265 \t106.06 \t56 \t113\t57 \t36    \t4.07387\n",
            "57 \t22    \t43.9533\t57 \t46 \t37 \t22    \t0.862838\t106.16 \t57 \t113\t87 \t22    \t3.34082\n",
            "58 \t27    \t44.4467\t58 \t46 \t15 \t27    \t2.20011 \t107.427\t58 \t119\t35 \t27    \t6.40244\n",
            "59 \t36    \t45.5467\t59 \t46 \t30 \t36    \t1.65967 \t105.133\t59 \t115\t69 \t36    \t4.51467\n",
            "60 \t23    \t45.7133\t60 \t46 \t19 \t23    \t1.88622 \t104.553\t60 \t111\t41 \t23    \t4.52554\n",
            "61 \t41    \t45.5067\t61 \t47 \t3  \t41    \t3.12676 \t104.367\t61 \t111\t7  \t41    \t7.12827\n",
            "62 \t31    \t45.46  \t62 \t47 \t17 \t31    \t3.37269 \t104.46 \t62 \t111\t39 \t31    \t7.79327\n",
            "63 \t33    \t46.3867\t63 \t48 \t32 \t33    \t1.36766 \t108.253\t63 \t117\t73 \t33    \t4.48135\n",
            "64 \t24    \t46.7967\t64 \t48 \t17 \t24    \t2.0515  \t110.307\t64 \t117\t37 \t24    \t5.08848\n",
            "65 \t33    \t46.8967\t65 \t48 \t2  \t33    \t3.01319 \t108.733\t65 \t121\t1  \t33    \t7.48569\n",
            "66 \t31    \t47.6633\t66 \t48 \t35 \t31    \t1.49331 \t106.96 \t66 \t121\t81 \t31    \t3.48306\n",
            "67 \t32    \t47.6767\t67 \t48 \t17 \t32    \t2.07657 \t106.913\t67 \t121\t41 \t32    \t4.70239\n",
            "68 \t36    \t47.6   \t68 \t49 \t4  \t36    \t3.07571 \t106.74 \t68 \t121\t7  \t36    \t7.09735\n",
            "69 \t28    \t47.75  \t69 \t50 \t35 \t28    \t1.38834 \t107.027\t69 \t121\t75 \t28    \t3.69495\n",
            "70 \t25    \t47.9833\t70 \t50 \t19 \t25    \t2.19918 \t107.867\t70 \t121\t45 \t25    \t5.44263\n",
            "71 \t40    \t48.7267\t71 \t50 \t1  \t40    \t3.48501 \t109.733\t71 \t117\t1  \t40    \t7.96297\n",
            "72 \t34    \t49.5967\t72 \t50 \t17 \t34    \t2.474   \t110.54 \t72 \t117\t43 \t34    \t5.56792\n",
            "73 \t28    \t49.79  \t73 \t50 \t32 \t28    \t1.24602 \t111.013\t73 \t117\t69 \t28    \t3.08542\n",
            "74 \t29    \t49.6633\t74 \t50 \t18 \t29    \t2.18098 \t110.66 \t74 \t117\t39 \t29    \t4.90759\n",
            "75 \t37    \t49.78  \t75 \t50 \t37 \t37    \t1.0824  \t111.1  \t75 \t117\t85 \t37    \t2.42281\n",
            "76 \t26    \t49.6533\t76 \t50 \t31 \t26    \t1.87078 \t110.64 \t76 \t117\t63 \t26    \t4.85562\n",
            "77 \t20    \t49.5367\t77 \t50 \t2  \t20    \t3.6481  \t110.42 \t77 \t117\t3  \t20    \t8.39664\n",
            "78 \t24    \t49.5667\t78 \t50 \t3  \t24    \t3.44464 \t110.533\t78 \t117\t7  \t24    \t7.74912\n",
            "79 \t29    \t49.48  \t79 \t51 \t4  \t29    \t3.51515 \t110.533\t79 \t117\t7  \t29    \t7.92773\n",
            "80 \t26    \t49.8233\t80 \t51 \t29 \t26    \t1.37554 \t111.313\t80 \t123\t69 \t26    \t3.23241\n",
            "81 \t27    \t49.8733\t81 \t51 \t17 \t27    \t2.4503  \t111.233\t81 \t119\t39 \t27    \t5.63669\n",
            "82 \t33    \t50.5167\t82 \t51 \t32 \t33    \t1.95526 \t112.48 \t82 \t119\t69 \t33    \t4.70988\n",
            "83 \t29    \t50.6833\t83 \t51 \t2  \t29    \t2.9331  \t112.793\t83 \t121\t1  \t29    \t6.7998 \n",
            "84 \t29    \t50.55  \t84 \t51 \t1  \t29    \t3.24769 \t112.32 \t84 \t119\t1  \t29    \t7.42188\n",
            "85 \t29    \t50.5033\t85 \t51 \t30 \t29    \t2.6727  \t112.24 \t85 \t119\t65 \t29    \t6.26171\n",
            "86 \t23    \t50.5367\t86 \t51 \t1  \t23    \t3.61321 \t112.347\t86 \t119\t1  \t23    \t8.13551\n",
            "87 \t31    \t50.6467\t87 \t51 \t33 \t31    \t1.87665 \t112.833\t87 \t121\t73 \t31    \t4.51504\n",
            "88 \t24    \t50.64  \t88 \t51 \t18 \t24    \t2.42014 \t112.753\t88 \t119\t39 \t24    \t5.64321\n",
            "89 \t35    \t50.71  \t89 \t52 \t33 \t35    \t1.74334 \t113.047\t89 \t125\t71 \t35    \t4.32178\n",
            "90 \t23    \t50.7567\t90 \t52 \t19 \t23    \t2.16582 \t113.173\t90 \t119\t45 \t23    \t4.79687\n"
          ],
          "name": "stdout"
        }
      ]
    },
    {
      "cell_type": "markdown",
      "metadata": {
        "id": "xY9t5GBh_PLd"
      },
      "source": [
        "**The next lines of code present the best individual of the population**"
      ]
    },
    {
      "cell_type": "code",
      "metadata": {
        "id": "Sj3XXxaqoB6x",
        "outputId": "7c8440c3-6f5f-44e3-80d1-8ca0b619ccd9",
        "colab": {
          "base_uri": "https://localhost:8080/",
          "height": 90
        }
      },
      "source": [
        "best_ind = hof.items[0]\n",
        "func = toolbox.compile(expr=best_ind)\n",
        "\n",
        "print('Best Individual Length:', len(toolbox.compile(expr=best_ind)), 'Fitness:',eval_mayority(best_ind))\n",
        "str(func)"
      ],
      "execution_count": 287,
      "outputs": [
        {
          "output_type": "stream",
          "text": [
            "Best Individual Length: 60 Fitness: (52,)\n"
          ],
          "name": "stdout"
        },
        {
          "output_type": "execute_result",
          "data": {
            "application/vnd.google.colaboratory.intrinsic+json": {
              "type": "string"
            },
            "text/plain": [
              "\"['k', 'f', 'C', 'F', 'U', 'A', 'h', 'V', 's', 'J', 'c', 'O', 'T', 'E', 'K', 'R', 'q', 'i', 'e', 'b', 'm', 'g', 'x', 'l', 'w', '¬d', 'g', 'P', 'S', 'z', 'r', 'p', 'c', 't', 'o', 'Y', 'G', 'v', 'X', 'H', 'L', 'z', 'D', 'B', 'B', 'u', 'j', '¬G', 'I', 'S', 'v', 'Q', 'I', 'Z', 'd', 'N', 'n', 'M', 'y', 'W']\""
            ]
          },
          "metadata": {
            "tags": []
          },
          "execution_count": 287
        }
      ]
    },
    {
      "cell_type": "markdown",
      "metadata": {
        "id": "46_7dF-GxULF"
      },
      "source": [
        "## $\\sorting$\n",
        "\n",
        "Wagner et al. analyzed the performance of GP for the problem, aiming to investigate the differences between different bloat control mechanisms for GP [2, 3]. For GP, the measures of sortedness were adapted to deal with incomplete permutations of the literal set.\n",
        "\n",
        "**Definition ($\\sorting$)**: Let $F=\\{J\\}$, and $L=\\{1,2,\\ldots,n\\}$. The fitness of a tree $X$ is computed by deriving a sequence $\\pi$ of symbols based on their first appearance in the in-order parse of $X$, and considering one of the following five measures of sortedness of this sequence.\n",
        "\n",
        "- $\\inv(\\pi)$: Number of pairs of adjacent elements in the correct order (maximise to sort), with $\\inv(\\pi):=0.5$ if $|\\pi|:=1$.\n",
        "- $\\ham(\\pi)$: Number of elements in correct position (maximise to sort).\n",
        "- $\\run(\\pi)$: Number of maximal sorted blocks (minimise to sort), plus the number of missing elements $n-|\\pi|$, with $\\run(\\pi):=n+1$ if $|\\pi|=0$.\n",
        "- $\\las(\\pi)$: Length of longest ascending sequence (maximise to sort).\n",
        "- $\\exc(\\pi)$: Smallest number of exchanges needed to sort the sequence (minimise to sort), plus $1+n-|\\pi|$ if $|\\pi|< n$\n",
        "\n",
        "$J$ (for \"join\") is the only available function in this problem, and the fitness of a tree is determined by an in-order parse of its leaf nodes drawn from a totally ordered set of terminals $L$. This reduces the importance of the tree structure in the analysis, making the representation somewhat similar to a variable-length list.\n",
        "\n",
        "Thus, for $n:=5$, the fitness of a tree with an in-order parse of $(1,2,1,4,5,4,3)$, and hence $\\pi=\\{1,2,4,5,3\\}$ is $\\inv(\\pi):=3$, $\\ham(\\pi):=2$, $\\run(\\pi):=2$, $\\las(\\pi):=4$, and $\\exc(\\pi):=2$. The fitness value of optimal trees for the $\\inv$, $\\ham$, and $\\las$ measures is $n$, while for the $\\run$ and $\\exc$ measures it is $0$.\n"
      ]
    },
    {
      "cell_type": "markdown",
      "metadata": {
        "id": "JkLmdqI0_odO"
      },
      "source": [
        "\n",
        "### Evolution Strategy for $\\sorting$\n",
        "\n",
        "**This problem was solved with trees-based programming using the DEAP framework. The following lines of code create the algorithm and the specific parameters that are required to get to the solution. It is important to mention that the presented solution was based on the code of  [4], however important changes were made to make it suitable for this problem. The code is organized as follows:**\n",
        "\n",
        "1. The creation of the structure of the algorithm\n",
        "\n",
        "\n",
        "> The creation starts by defining a primitive set, then the operator are  defined as well, and finally the terminal, which in this case are constants. Then, the algorithm is set to have a maximization/minimization approach. Later, the type of individual are created, in this case it is defined as a tree with half with the same depth and the other half with random depth. Finally, the population is defined.\n",
        "\n",
        "2. The Selection for reproduction\n",
        "3. The code for variation (crossover and mutation)\n",
        "4. Selection for survival\n",
        "> In this part of the code, the evaluation function is defined. It is not completely a selection for survival but it helps the selection process by assining a fitness to the individuals.\n",
        "5. The main function whichs put together all the previous code to find a solution to the problem\n",
        "6. The best solution is printed\n",
        "\n",
        "\n",
        "**NOTE: In order to avoid repetitions of text, the sections Intialisation, Stopping criterion, Selection for Reproduction, Variation, Survival Method and main code were removed because all of this information is the same as the Order and Mayority problems. Instead, the sections are specific for each one of the types of sorting functions. I hope this is not an inconvinient.** "
      ]
    },
    {
      "cell_type": "markdown",
      "metadata": {
        "id": "kKfHSAX5QI9g"
      },
      "source": [
        "#### INV\n",
        "\n",
        "**The following code implements the INV function**"
      ]
    },
    {
      "cell_type": "code",
      "metadata": {
        "id": "7UV-V9pkzp1m",
        "outputId": "0b32c268-1f95-408d-f2bd-39c7179901e1",
        "colab": {
          "base_uri": "https://localhost:8080/"
        }
      },
      "source": [
        "import operator\n",
        "import math\n",
        "import random\n",
        "import pandas as pd\n",
        "import numpy\n",
        "\n",
        "from deap import algorithms\n",
        "from deap import base\n",
        "from deap import creator\n",
        "from deap import tools\n",
        "from deap import gp\n",
        "\n",
        "\n",
        "n = 10\n",
        "l = np.arange(1,n)\n",
        "numbers = list(l)\n",
        "numbers"
      ],
      "execution_count": 288,
      "outputs": [
        {
          "output_type": "execute_result",
          "data": {
            "text/plain": [
              "[1, 2, 3, 4, 5, 6, 7, 8, 9]"
            ]
          },
          "metadata": {
            "tags": []
          },
          "execution_count": 288
        }
      ]
    },
    {
      "cell_type": "code",
      "metadata": {
        "id": "ghG3At5J-nF6",
        "outputId": "eaa086a4-406b-4c27-e96f-682df5ed21e2",
        "colab": {
          "base_uri": "https://localhost:8080/"
        }
      },
      "source": [
        "rand = random.random() * random.random()\n",
        "\n",
        "pset = gp.PrimitiveSet(\"MAIN\", 0)\n",
        "pset.addPrimitive(operator.concat, 2)\n",
        "pset.addEphemeralConstant(\"rand410\"+str(rand), lambda: random.sample(numbers, 1))\n",
        "\n",
        "creator.create(\"FitnessMax\", base.Fitness, weights=(1.0,))\n",
        "creator.create(\"Individual\", gp.PrimitiveTree, fitness=creator.FitnessMax)\n",
        "\n",
        "toolbox = base.Toolbox()\n",
        "toolbox.register(\"expr\", gp.genHalfAndHalf, pset=pset, min_=1, max_=2)\n",
        "toolbox.register(\"individual\", tools.initIterate, creator.Individual, toolbox.expr)\n",
        "toolbox.register(\"population\", tools.initRepeat, list, toolbox.individual)\n",
        "toolbox.register(\"compile\", gp.compile, pset=pset)\n",
        "\n",
        "\n",
        "def inv(individual):\n",
        "  x1 = toolbox.compile(expr=individual)\n",
        "  count = 0\n",
        "  pi = []\n",
        "  for i in x1:\n",
        "    if i not in pi:\n",
        "      pi.append(i)\n",
        "\n",
        "  if len(pi)>1:\n",
        "    for i in range (len(pi)-1):\n",
        "      if pi[i] < pi[i+1]:\n",
        "        count += 1\n",
        "  else:\n",
        "    count = 0.5\n",
        "  return count,\n",
        "\n",
        "toolbox.register(\"evaluate\", inv)\n",
        "toolbox.register(\"select\", tools.selTournament, tournsize=10)\n",
        "toolbox.register(\"mate\", gp.cxOnePoint)\n",
        "toolbox.register(\"expr_mut\", gp.genFull, min_=0, max_=2)\n",
        "toolbox.register(\"mutate\", gp.mutUniform, expr=toolbox.expr_mut, pset=pset)\n",
        "\n",
        "toolbox.decorate(\"mate\", gp.staticLimit(key=operator.attrgetter(\"height\"), max_value=17))\n",
        "toolbox.decorate(\"mutate\", gp.staticLimit(key=operator.attrgetter(\"height\"), max_value=17))\n",
        "\n",
        "def main():\n",
        "    random.seed(318)\n",
        "\n",
        "    pop = toolbox.population(n=300)\n",
        "    hof = tools.HallOfFame(1)\n",
        "    \n",
        "    stats_fit = tools.Statistics(lambda ind: ind.fitness.values)\n",
        "    stats_size = tools.Statistics(len)\n",
        "    mstats = tools.MultiStatistics(fitness=stats_fit, size=stats_size)\n",
        "    mstats.register(\"avg\", numpy.mean)\n",
        "    mstats.register(\"std\", numpy.std)\n",
        "    mstats.register(\"min\", numpy.min)\n",
        "    mstats.register(\"max\", numpy.max)\n",
        "\n",
        "    pop, log = algorithms.eaSimple(pop, toolbox, 0.0, 0.9, 90, stats=mstats,\n",
        "                                   halloffame=hof, verbose=True)\n",
        "    #print log\n",
        "    return pop, log, hof \n",
        "\n",
        "if __name__ == \"__main__\":\n",
        "    pop,log,hof = main()"
      ],
      "execution_count": 289,
      "outputs": [
        {
          "output_type": "stream",
          "text": [
            "/usr/local/lib/python3.6/dist-packages/deap/creator.py:141: RuntimeWarning: A class named 'FitnessMax' has already been created and it will be overwritten. Consider deleting previous creation of that class or rename it.\n",
            "  RuntimeWarning)\n",
            "/usr/local/lib/python3.6/dist-packages/deap/creator.py:141: RuntimeWarning: A class named 'Individual' has already been created and it will be overwritten. Consider deleting previous creation of that class or rename it.\n",
            "  RuntimeWarning)\n"
          ],
          "name": "stderr"
        },
        {
          "output_type": "stream",
          "text": [
            "   \t      \t                    fitness                     \t                      size                     \n",
            "   \t      \t------------------------------------------------\t-----------------------------------------------\n",
            "gen\tnevals\tavg  \tgen\tmax\tmin\tnevals\tstd     \tavg    \tgen\tmax\tmin\tnevals\tstd    \n",
            "0  \t300   \t0.755\t0  \t3  \t0  \t300   \t0.633094\t4.56667\t0  \t7  \t3  \t300   \t1.82178\n",
            "1  \t264   \t1.40333\t1  \t3  \t0  \t264   \t0.814855\t6.97333\t1  \t13 \t1  \t264   \t3.22066\n",
            "2  \t260   \t2.15667\t2  \t4  \t0  \t260   \t0.968911\t10.2267\t2  \t19 \t1  \t260   \t4.00524\n",
            "3  \t271   \t2.83333\t3  \t6  \t0  \t271   \t1.15205 \t13.7067\t3  \t25 \t1  \t271   \t5.12581\n",
            "4  \t273   \t3.64333\t4  \t6  \t0  \t273   \t1.25278 \t17.8067\t4  \t31 \t1  \t273   \t5.82431\n",
            "5  \t263   \t4.315  \t5  \t6  \t0  \t263   \t1.44509 \t20.72  \t5  \t35 \t1  \t263   \t7.0693 \n",
            "6  \t274   \t4.71667\t6  \t7  \t0  \t274   \t1.34464 \t24.56  \t6  \t41 \t1  \t274   \t7.38059\n",
            "7  \t275   \t4.97333\t7  \t7  \t0  \t275   \t1.31756 \t26.9267\t7  \t47 \t1  \t275   \t8.258  \n",
            "8  \t270   \t5.23667\t8  \t7  \t0  \t270   \t1.33815 \t29.2067\t8  \t53 \t1  \t270   \t8.77253\n",
            "9  \t272   \t5.495  \t9  \t7  \t0  \t272   \t1.39193 \t30.8933\t9  \t47 \t1  \t272   \t9.112  \n",
            "10 \t277   \t5.88167\t10 \t7  \t0  \t277   \t1.3881  \t33.3667\t10 \t49 \t1  \t277   \t9.39285\n",
            "11 \t258   \t6.065  \t11 \t7  \t0  \t258   \t1.40829 \t35.42  \t11 \t55 \t1  \t258   \t9.75142\n",
            "12 \t273   \t6.15   \t12 \t7  \t0  \t273   \t1.30352 \t36.7267\t12 \t53 \t1  \t273   \t9.80027\n",
            "13 \t271   \t6.005  \t13 \t7  \t0.5\t271   \t1.40623 \t37.62  \t13 \t57 \t1  \t271   \t11.0672\n",
            "14 \t277   \t6.145  \t14 \t7  \t0  \t277   \t1.32469 \t39.6733\t14 \t61 \t1  \t277   \t11.1648\n",
            "15 \t270   \t6.12333\t15 \t7  \t0  \t270   \t1.29349 \t42.3133\t15 \t63 \t1  \t270   \t11.1449\n",
            "16 \t264   \t6.23667\t16 \t7  \t0  \t264   \t1.38948 \t43.7067\t16 \t69 \t1  \t264   \t12.4443\n",
            "17 \t278   \t6.155  \t17 \t7  \t0  \t278   \t1.40777 \t45.16  \t17 \t71 \t1  \t278   \t13.3876\n",
            "18 \t267   \t6.26333\t18 \t7  \t0  \t267   \t1.33379 \t47.8467\t18 \t77 \t1  \t267   \t13.3183\n",
            "19 \t264   \t6.315  \t19 \t7  \t0  \t264   \t1.27277 \t48.9867\t19 \t83 \t1  \t264   \t13.4382\n",
            "20 \t269   \t6.37   \t20 \t7  \t0  \t269   \t1.12758 \t50.5267\t20 \t79 \t1  \t269   \t12.2899\n",
            "21 \t280   \t6.44333\t21 \t7  \t0.5\t280   \t1.07941 \t51.88  \t21 \t81 \t1  \t280   \t13.128 \n",
            "22 \t267   \t6.21667\t22 \t7  \t0  \t267   \t1.40643 \t51.6933\t22 \t81 \t1  \t267   \t16.1592\n",
            "23 \t271   \t6.24167\t23 \t7  \t0  \t271   \t1.35182 \t53.92  \t23 \t83 \t1  \t271   \t15.3963\n",
            "24 \t264   \t6.46833\t24 \t7  \t0.5\t264   \t0.973737\t55.5467\t24 \t87 \t1  \t264   \t14.7908\n",
            "25 \t263   \t6.27833\t25 \t7  \t0  \t263   \t1.34661 \t55.5733\t25 \t93 \t1  \t263   \t17.5527\n",
            "26 \t267   \t6.32   \t26 \t7  \t0  \t267   \t1.25801 \t57.9067\t26 \t93 \t1  \t267   \t16.6727\n",
            "27 \t268   \t6.39333\t27 \t7  \t0.5\t268   \t1.19595 \t58.1933\t27 \t91 \t1  \t268   \t18.2509\n",
            "28 \t274   \t6.32   \t28 \t7  \t0  \t274   \t1.17867 \t58.1267\t28 \t93 \t1  \t274   \t18.7203\n",
            "29 \t274   \t6.36667\t29 \t7  \t0  \t274   \t1.25588 \t59.98  \t29 \t95 \t1  \t274   \t17.8658\n",
            "30 \t264   \t6.41167\t30 \t7  \t0  \t264   \t1.22462 \t60.5733\t30 \t95 \t1  \t264   \t18.4876\n",
            "31 \t267   \t6.50667\t31 \t7  \t0.5\t267   \t1.00081 \t62.54  \t31 \t101\t1  \t267   \t16.0687\n",
            "32 \t257   \t6.44667\t32 \t7  \t0  \t257   \t1.10174 \t61.82  \t32 \t105\t3  \t257   \t18.6371\n",
            "33 \t268   \t6.445  \t33 \t7  \t0.5\t268   \t1.01627 \t63.7867\t33 \t111\t1  \t268   \t20.0179\n",
            "34 \t269   \t6.525  \t34 \t7  \t0  \t269   \t1.10463 \t63.6533\t34 \t111\t1  \t269   \t21.1427\n",
            "35 \t275   \t6.36333\t35 \t7  \t0  \t275   \t1.22324 \t64.38  \t35 \t111\t1  \t275   \t22.4696\n",
            "36 \t272   \t6.49167\t36 \t7  \t0.5\t272   \t1.05945 \t69.1   \t36 \t109\t1  \t272   \t21.2742\n",
            "37 \t274   \t6.525  \t37 \t7  \t0.5\t274   \t0.949671\t72.14  \t37 \t111\t1  \t274   \t21.2325\n",
            "38 \t264   \t6.54833\t38 \t7  \t0  \t264   \t1.01988 \t73.2467\t38 \t115\t1  \t264   \t22.0969\n",
            "39 \t266   \t6.52167\t39 \t7  \t0.5\t266   \t1.11671 \t74.3533\t39 \t117\t1  \t266   \t23.7132\n",
            "40 \t273   \t6.46833\t40 \t7  \t0.5\t273   \t1.1401  \t75.94  \t40 \t123\t1  \t273   \t25.1753\n",
            "41 \t261   \t6.56   \t41 \t7  \t0  \t261   \t0.999867\t79.6267\t41 \t125\t3  \t261   \t24.0213\n",
            "42 \t261   \t6.66333\t42 \t7  \t0  \t261   \t0.834659\t82.2   \t42 \t127\t3  \t261   \t23.2763\n",
            "43 \t272   \t6.56167\t43 \t7  \t0.5\t272   \t0.982529\t80.4667\t43 \t133\t1  \t272   \t25.4874\n",
            "44 \t274   \t6.47167\t44 \t7  \t0  \t274   \t1.12325 \t80.2733\t44 \t127\t1  \t274   \t25.5477\n",
            "45 \t267   \t6.625  \t45 \t7  \t0.5\t267   \t0.860354\t85.04  \t45 \t127\t1  \t267   \t22.3523\n",
            "46 \t262   \t6.60167\t46 \t7  \t0.5\t262   \t0.93746 \t84.46  \t46 \t129\t1  \t262   \t23.2961\n",
            "47 \t278   \t6.62333\t47 \t7  \t2  \t278   \t0.796736\t85.4933\t47 \t133\t9  \t278   \t23.7424\n",
            "48 \t264   \t6.65   \t48 \t7  \t0  \t264   \t0.837158\t86.8   \t48 \t133\t3  \t264   \t24.4418\n",
            "49 \t271   \t6.66333\t49 \t7  \t0  \t271   \t0.911037\t87.7733\t49 \t139\t3  \t271   \t23.6178\n",
            "50 \t266   \t6.67667\t50 \t7  \t1  \t266   \t0.786631\t89.84  \t50 \t139\t3  \t266   \t23.8252\n",
            "51 \t263   \t6.655  \t51 \t7  \t0.5\t263   \t0.995059\t89.6067\t51 \t139\t1  \t263   \t24.6753\n",
            "52 \t269   \t6.70833\t52 \t7  \t0  \t269   \t0.832124\t90.4067\t52 \t139\t1  \t269   \t23.8508\n",
            "53 \t267   \t6.59   \t53 \t7  \t0.5\t267   \t0.976507\t88.34  \t53 \t139\t1  \t267   \t26.6144\n",
            "54 \t263   \t6.56   \t54 \t7  \t0  \t263   \t1.02212 \t87.2   \t54 \t139\t1  \t263   \t28.7451\n",
            "55 \t273   \t6.66667\t55 \t7  \t0  \t273   \t0.841955\t91.8667\t55 \t139\t3  \t273   \t25.5238\n",
            "56 \t268   \t6.60833\t56 \t7  \t0.5\t268   \t0.985274\t90.7267\t56 \t143\t1  \t268   \t28.4908\n",
            "57 \t257   \t6.54167\t57 \t7  \t0  \t257   \t1.16937 \t93.6267\t57 \t149\t1  \t257   \t28.808 \n",
            "58 \t268   \t6.625  \t58 \t7  \t0  \t268   \t0.931061\t96.24  \t58 \t155\t1  \t268   \t26.5251\n",
            "59 \t263   \t6.67667\t59 \t7  \t1  \t263   \t0.77811 \t97.7733\t59 \t155\t3  \t263   \t27.0277\n",
            "60 \t271   \t6.57333\t60 \t7  \t1  \t271   \t0.919033\t94.8133\t60 \t157\t7  \t271   \t30.5202\n",
            "61 \t271   \t6.6    \t61 \t7  \t1  \t271   \t0.894427\t95.3733\t61 \t153\t3  \t271   \t31.7451\n",
            "62 \t274   \t6.51667\t62 \t7  \t0.5\t274   \t1.14078 \t97.4067\t62 \t153\t1  \t274   \t32.2057\n",
            "63 \t282   \t6.585  \t63 \t7  \t0  \t282   \t1.06862 \t100.367\t63 \t155\t1  \t282   \t31.8561\n",
            "64 \t275   \t6.60833\t64 \t7  \t0  \t275   \t0.936713\t101.413\t64 \t155\t1  \t275   \t30.9217\n",
            "65 \t271   \t6.70333\t65 \t7  \t1  \t271   \t0.801242\t102.573\t65 \t153\t3  \t271   \t29.9431\n",
            "66 \t264   \t6.67667\t66 \t7  \t0  \t264   \t0.974913\t103.553\t66 \t155\t1  \t264   \t33.1916\n",
            "67 \t278   \t6.62833\t67 \t7  \t0.5\t278   \t0.995505\t104.86 \t67 \t161\t1  \t278   \t31.2938\n",
            "68 \t269   \t6.72333\t68 \t7  \t1  \t269   \t0.804232\t103.627\t68 \t161\t7  \t269   \t30.7919\n",
            "69 \t268   \t6.65   \t69 \t7  \t0  \t268   \t0.982768\t104.453\t69 \t157\t1  \t268   \t29.0231\n",
            "70 \t273   \t6.66   \t70 \t7  \t1  \t273   \t0.8743  \t105.493\t70 \t157\t3  \t273   \t30.2857\n",
            "71 \t264   \t6.71833\t71 \t7  \t0  \t264   \t0.821481\t106.587\t71 \t163\t3  \t264   \t29.7364\n",
            "72 \t274   \t6.54833\t72 \t7  \t0.5\t274   \t1.01333 \t102.167\t72 \t169\t3  \t274   \t33.7056\n",
            "73 \t266   \t6.55333\t73 \t7  \t0  \t266   \t1.11974 \t99.9933\t73 \t163\t3  \t266   \t34.7887\n",
            "74 \t267   \t6.68   \t74 \t7  \t0  \t267   \t0.960521\t102.233\t74 \t165\t1  \t267   \t34.9588\n",
            "75 \t279   \t6.57667\t75 \t7  \t0  \t279   \t0.981897\t101.893\t75 \t167\t3  \t279   \t36.2021\n",
            "76 \t268   \t6.595  \t76 \t7  \t0  \t268   \t1.09551 \t104.52 \t76 \t169\t1  \t268   \t38.0748\n",
            "77 \t267   \t6.73   \t77 \t7  \t0.5\t267   \t0.880587\t104.113\t77 \t171\t1  \t267   \t35.2798\n",
            "78 \t268   \t6.69833\t78 \t7  \t0.5\t268   \t0.888724\t103.333\t78 \t171\t1  \t268   \t35.2488\n",
            "79 \t275   \t6.645  \t79 \t7  \t0.5\t275   \t0.959935\t104.42 \t79 \t175\t1  \t275   \t36.3039\n",
            "80 \t267   \t6.635  \t80 \t7  \t0  \t267   \t1.04448 \t106.633\t80 \t177\t1  \t267   \t34.6677\n",
            "81 \t262   \t6.72333\t81 \t7  \t0.5\t262   \t0.859334\t105.387\t81 \t181\t1  \t262   \t34.1832\n",
            "82 \t271   \t6.47833\t82 \t7  \t0  \t271   \t1.24848 \t102.52 \t82 \t183\t1  \t271   \t37.17  \n",
            "83 \t269   \t6.57333\t83 \t7  \t0.5\t269   \t1.08993 \t103.16 \t83 \t183\t1  \t269   \t38.5691\n",
            "84 \t267   \t6.70667\t84 \t7  \t2  \t267   \t0.721542\t108.18 \t84 \t183\t9  \t267   \t31.5308\n",
            "85 \t272   \t6.64833\t85 \t7  \t0.5\t272   \t0.84093 \t109.147\t85 \t189\t1  \t272   \t31.1299\n",
            "86 \t268   \t6.64333\t86 \t7  \t0  \t268   \t0.946637\t109.053\t86 \t191\t3  \t268   \t34.1522\n",
            "87 \t270   \t6.52667\t87 \t8  \t0  \t270   \t1.19413 \t109.94 \t87 \t179\t1  \t270   \t34.6573\n",
            "88 \t270   \t6.76667\t88 \t8  \t1  \t270   \t0.778175\t117.16 \t88 \t175\t3  \t270   \t30.3377\n",
            "89 \t265   \t6.97333\t89 \t8  \t0  \t265   \t0.923375\t125.973\t89 \t179\t3  \t265   \t31.0734\n",
            "90 \t275   \t7.64667\t90 \t8  \t0  \t275   \t1.09018 \t145.693\t90 \t175\t3  \t275   \t31.4964\n"
          ],
          "name": "stdout"
        }
      ]
    },
    {
      "cell_type": "code",
      "metadata": {
        "id": "WmyY93Ds-vwv",
        "outputId": "4850a508-91ab-4096-b6c8-b7dc334d6a53",
        "colab": {
          "base_uri": "https://localhost:8080/"
        }
      },
      "source": [
        "best_ind = hof.items[0]\n",
        "func = toolbox.compile(expr=best_ind)\n",
        "\n",
        "print('Best Individual Length:', len(toolbox.compile(expr=best_ind)), 'Fitness:',inv(best_ind))\n",
        "print('Individual body',str(func))\n",
        "\n",
        "pi_t = []\n",
        "for i in func:\n",
        "  if i not in pi_t:\n",
        "    pi_t.append(i)\n",
        "print('Pi:',pi_t)"
      ],
      "execution_count": 290,
      "outputs": [
        {
          "output_type": "stream",
          "text": [
            "Best Individual Length: 80 Fitness: (8,)\n",
            "Individual body [1, 2, 3, 4, 5, 6, 7, 8, 9, 7, 1, 9, 3, 4, 8, 8, 4, 1, 6, 2, 4, 2, 5, 8, 9, 2, 7, 2, 5, 4, 9, 2, 4, 9, 3, 1, 1, 5, 8, 3, 1, 9, 4, 1, 3, 1, 2, 5, 6, 6, 2, 3, 6, 9, 1, 6, 1, 8, 1, 1, 9, 5, 4, 7, 9, 8, 5, 4, 6, 1, 6, 2, 6, 1, 5, 5, 6, 8, 6, 2]\n",
            "Pi: [1, 2, 3, 4, 5, 6, 7, 8, 9]\n"
          ],
          "name": "stdout"
        }
      ]
    },
    {
      "cell_type": "markdown",
      "metadata": {
        "id": "-DngHb6EQI9W"
      },
      "source": [
        "#### HAM\n",
        "\n",
        "**The following codes implements the ham function**"
      ]
    },
    {
      "cell_type": "code",
      "metadata": {
        "id": "wqHvF_9_QI9Z",
        "outputId": "40c7d083-8710-487d-9374-dcaa8591c6ee",
        "colab": {
          "base_uri": "https://localhost:8080/"
        }
      },
      "source": [
        "rand = random.random() * random.random()\n",
        "\n",
        "pset = gp.PrimitiveSet(\"MAIN\", 0)\n",
        "pset.addPrimitive(operator.concat, 2)\n",
        "pset.addEphemeralConstant(\"rand510\"+str(rand), lambda: random.sample(numbers, 1))\n",
        "\n",
        "creator.create(\"FitnessMax\", base.Fitness, weights=(1.0,)) # creator.create(\"FitnessMin\", base.Fitness, weights=(-1.0,))\n",
        "creator.create(\"Individual\", gp.PrimitiveTree, fitness=creator.FitnessMax)\n",
        "\n",
        "toolbox = base.Toolbox()\n",
        "toolbox.register(\"expr\", gp.genHalfAndHalf, pset=pset, min_=1, max_=2)\n",
        "toolbox.register(\"individual\", tools.initIterate, creator.Individual, toolbox.expr)\n",
        "toolbox.register(\"population\", tools.initRepeat, list, toolbox.individual)\n",
        "toolbox.register(\"compile\", gp.compile, pset=pset)\n",
        "\n",
        "\n",
        "def ham(individual, y1):\n",
        "  \"\"\"\n",
        "  Returns the hamming distance\n",
        "  \"\"\"\n",
        "  x1 = toolbox.compile(expr=individual)\n",
        "  count = 0\n",
        "  if len(x1) > len(y1):\n",
        "    for i in range (len(y1)):\n",
        "      if x1[i] == y1[i]:\n",
        "        count += 1\n",
        "  else:\n",
        "    for i in range (len(x1)):\n",
        "      if x1[i] == y1[i]:\n",
        "        count += 1 \n",
        "  return count,\n",
        "\n",
        "toolbox.register(\"evaluate\", ham, y1 = numbers)\n",
        "toolbox.register(\"select\", tools.selTournament, tournsize=10)\n",
        "toolbox.register(\"mate\", gp.cxOnePoint)\n",
        "toolbox.register(\"expr_mut\", gp.genFull, min_=0, max_=2)\n",
        "toolbox.register(\"mutate\", gp.mutUniform, expr=toolbox.expr_mut, pset=pset)\n",
        "\n",
        "toolbox.decorate(\"mate\", gp.staticLimit(key=operator.attrgetter(\"height\"), max_value=17))\n",
        "toolbox.decorate(\"mutate\", gp.staticLimit(key=operator.attrgetter(\"height\"), max_value=17))\n",
        "\n",
        "def main():\n",
        "    random.seed(318)\n",
        "\n",
        "    pop = toolbox.population(n=300)\n",
        "    hof = tools.HallOfFame(1)\n",
        "    \n",
        "    stats_fit = tools.Statistics(lambda ind: ind.fitness.values)\n",
        "    stats_size = tools.Statistics(len)\n",
        "    mstats = tools.MultiStatistics(fitness=stats_fit, size=stats_size)\n",
        "    mstats.register(\"avg\", numpy.mean)\n",
        "    mstats.register(\"std\", numpy.std)\n",
        "    mstats.register(\"min\", numpy.min)\n",
        "    mstats.register(\"max\", numpy.max)\n",
        "\n",
        "    pop, log = algorithms.eaSimple(pop, toolbox, 0.0, 0.9, 20, stats=mstats,\n",
        "                                   halloffame=hof, verbose=True)\n",
        "    #print log\n",
        "    return pop, log, hof \n",
        "\n",
        "if __name__ == \"__main__\":\n",
        "    pop,log,hof = main()"
      ],
      "execution_count": 291,
      "outputs": [
        {
          "output_type": "stream",
          "text": [
            "/usr/local/lib/python3.6/dist-packages/deap/creator.py:141: RuntimeWarning: A class named 'FitnessMax' has already been created and it will be overwritten. Consider deleting previous creation of that class or rename it.\n",
            "  RuntimeWarning)\n",
            "/usr/local/lib/python3.6/dist-packages/deap/creator.py:141: RuntimeWarning: A class named 'Individual' has already been created and it will be overwritten. Consider deleting previous creation of that class or rename it.\n",
            "  RuntimeWarning)\n"
          ],
          "name": "stderr"
        },
        {
          "output_type": "stream",
          "text": [
            "   \t      \t                        fitness                         \t                      size                     \n",
            "   \t      \t--------------------------------------------------------\t-----------------------------------------------\n",
            "gen\tnevals\tavg     \tgen\tmax\tmin\tnevals\tstd     \tavg    \tgen\tmax\tmin\tnevals\tstd    \n",
            "0  \t300   \t0.326667\t0  \t2  \t0  \t300   \t0.516355\t4.56667\t0  \t7  \t3  \t300   \t1.82178\n",
            "1  \t266   \t0.713333\t1  \t3  \t0  \t266   \t0.719599\t6.28667\t1  \t13 \t1  \t266   \t3.30018\n",
            "2  \t265   \t1.16333 \t2  \t4  \t0  \t265   \t0.971248\t9.32   \t2  \t19 \t1  \t265   \t4.29313\n",
            "3  \t274   \t1.81    \t3  \t5  \t0  \t274   \t1.21129 \t13.02  \t3  \t25 \t1  \t274   \t5.60115\n",
            "4  \t273   \t2.43667 \t4  \t5  \t0  \t273   \t1.34387 \t17.22  \t4  \t31 \t1  \t273   \t5.88486\n",
            "5  \t267   \t2.85    \t5  \t5  \t0  \t267   \t1.55804 \t18.9333\t5  \t37 \t1  \t267   \t6.37042\n",
            "6  \t282   \t3.52333 \t6  \t7  \t0  \t282   \t1.56933 \t20.9867\t6  \t41 \t1  \t282   \t7.1833 \n",
            "7  \t275   \t3.78    \t7  \t7  \t0  \t275   \t1.79581 \t21.5933\t7  \t41 \t1  \t275   \t7.60228\n",
            "8  \t272   \t4.07    \t8  \t7  \t0  \t272   \t1.97782 \t22.56  \t8  \t43 \t1  \t272   \t8.86302\n",
            "9  \t270   \t4.63333 \t9  \t8  \t0  \t270   \t2.09576 \t25.22  \t9  \t49 \t1  \t270   \t10.1268\n",
            "10 \t278   \t5.24333 \t10 \t8  \t0  \t278   \t2.07464 \t29.1533\t10 \t49 \t1  \t278   \t10.5573\n",
            "11 \t264   \t5.15    \t11 \t8  \t0  \t264   \t2.27321 \t29.4467\t11 \t55 \t1  \t264   \t12.6839\n",
            "12 \t274   \t5.44333 \t12 \t8  \t0  \t274   \t2.15873 \t31.18  \t12 \t61 \t1  \t274   \t13.1152\n",
            "13 \t275   \t5.39333 \t13 \t8  \t0  \t275   \t2.14755 \t33.3467\t13 \t67 \t1  \t275   \t13.1965\n",
            "14 \t274   \t5.62333 \t14 \t8  \t0  \t274   \t2.25125 \t32.8467\t14 \t69 \t1  \t274   \t13.0533\n",
            "15 \t273   \t5.46    \t15 \t9  \t0  \t273   \t2.61694 \t29.6933\t15 \t57 \t1  \t273   \t11.9096\n",
            "16 \t254   \t6.17667 \t16 \t9  \t0  \t254   \t2.50575 \t28.9933\t16 \t51 \t1  \t254   \t9.7331 \n",
            "17 \t269   \t5.97667 \t17 \t9  \t0  \t269   \t2.84654 \t29.54  \t17 \t55 \t1  \t269   \t10.6465\n",
            "18 \t278   \t6.32333 \t18 \t9  \t0  \t278   \t2.96065 \t28.66  \t18 \t57 \t1  \t278   \t10.068 \n",
            "19 \t258   \t6.76    \t19 \t9  \t0  \t258   \t2.88023 \t28.9067\t19 \t47 \t1  \t258   \t9.77844\n",
            "20 \t264   \t7.08    \t20 \t9  \t0  \t264   \t2.60901 \t29.6067\t20 \t49 \t1  \t264   \t9.20536\n"
          ],
          "name": "stdout"
        }
      ]
    },
    {
      "cell_type": "code",
      "metadata": {
        "id": "18wMI8sq07sK",
        "outputId": "073ee3f4-21bb-4794-e7bf-a45051f3c879",
        "colab": {
          "base_uri": "https://localhost:8080/"
        }
      },
      "source": [
        "best_ind = hof.items[0]\n",
        "func = toolbox.compile(expr=best_ind)\n",
        "\n",
        "print('Best Individual Length:', len(toolbox.compile(expr=best_ind)), 'Fitness:',ham(best_ind, numbers))\n",
        "print('Individual Body')\n",
        "pi_t = []\n",
        "for i in func:\n",
        "  if i not in pi_t:\n",
        "    pi_t.append(i)\n",
        "print('Pi:',pi_t)"
      ],
      "execution_count": 292,
      "outputs": [
        {
          "output_type": "stream",
          "text": [
            "Best Individual Length: 16 Fitness: (9,)\n",
            "Individual Body\n",
            "Pi: [1, 2, 3, 4, 5, 6, 7, 8, 9]\n"
          ],
          "name": "stdout"
        }
      ]
    },
    {
      "cell_type": "markdown",
      "metadata": {
        "id": "VZ89fNDRQI9i"
      },
      "source": [
        "#### RUN\n",
        "\n",
        "**The following code implements the RUN function**"
      ]
    },
    {
      "cell_type": "code",
      "metadata": {
        "id": "khEO7P0IM6DX",
        "outputId": "dbce47c8-ab2b-4fa6-a368-57d204551874",
        "colab": {
          "base_uri": "https://localhost:8080/"
        }
      },
      "source": [
        "rand = random.random()*random.random()\n",
        "\n",
        "pset = gp.PrimitiveSet(\"MAIN\", 0)\n",
        "pset.addPrimitive(operator.concat, 2)\n",
        "pset.addEphemeralConstant(\"rand210\"+str(rand), lambda: random.sample(numbers, 1))\n",
        "\n",
        "creator.create(\"FitnessMin\", base.Fitness, weights=(-1.0,))\n",
        "creator.create(\"Individual\", gp.PrimitiveTree, fitness=creator.FitnessMin)\n",
        "\n",
        "toolbox = base.Toolbox()\n",
        "toolbox.register(\"expr\", gp.genHalfAndHalf, pset=pset, min_=0, max_=2)\n",
        "toolbox.register(\"individual\", tools.initIterate, creator.Individual, toolbox.expr)\n",
        "toolbox.register(\"population\", tools.initRepeat, list, toolbox.individual)\n",
        "toolbox.register(\"compile\", gp.compile, pset=pset)\n",
        "\n",
        "\n",
        "def run(individual, numbers):\n",
        "  x1 = toolbox.compile(expr=individual)\n",
        "  counts = []\n",
        "  count = 0\n",
        "  pi = []\n",
        "  for i in x1:\n",
        "    if i not in pi:\n",
        "      pi.append(i)\n",
        "\n",
        "  if len(pi) == len(numbers):\n",
        "    for i in range (len(pi)-1):\n",
        "      if pi[i] < pi[i+1]:\n",
        "        count += 1\n",
        "      elif pi[i] > pi[i+1]:\n",
        "        counts.append(count)\n",
        "        count = 1\n",
        "      if i == len(pi)-2:\n",
        "        counts.append(count)\n",
        "    result = len(counts)\n",
        "  else:\n",
        "    result = 11\n",
        "  return result-1,\n",
        "\n",
        "toolbox.register(\"evaluate\", run, numbers = numbers)\n",
        "toolbox.register(\"select\", tools.selTournament, tournsize=10)\n",
        "toolbox.register(\"mate\", gp.cxOnePoint)\n",
        "toolbox.register(\"expr_mut\", gp.genFull, min_=0, max_=2)\n",
        "toolbox.register(\"mutate\", gp.mutUniform, expr=toolbox.expr_mut, pset=pset)\n",
        "\n",
        "toolbox.decorate(\"mate\", gp.staticLimit(key=operator.attrgetter(\"height\"), max_value=17))\n",
        "toolbox.decorate(\"mutate\", gp.staticLimit(key=operator.attrgetter(\"height\"), max_value=17))\n",
        "\n",
        "def main():\n",
        "    random.seed(318)\n",
        "\n",
        "    pop = toolbox.population(n=300)\n",
        "    hof = tools.HallOfFame(1)\n",
        "    \n",
        "    stats_fit = tools.Statistics(lambda ind: ind.fitness.values)\n",
        "    stats_size = tools.Statistics(len)\n",
        "    mstats = tools.MultiStatistics(fitness=stats_fit, size=stats_size)\n",
        "    mstats.register(\"avg\", numpy.mean)\n",
        "    mstats.register(\"std\", numpy.std)\n",
        "    mstats.register(\"min\", numpy.min)\n",
        "    mstats.register(\"max\", numpy.max)\n",
        "\n",
        "    pop, log = algorithms.eaSimple(pop, toolbox, 0.9, 0.9, 30, stats=mstats,\n",
        "                                   halloffame=hof, verbose=True)\n",
        "    #print log\n",
        "    return pop, log, hof \n",
        "\n",
        "if __name__ == \"__main__\":\n",
        "    pop,log,hof = main()"
      ],
      "execution_count": 294,
      "outputs": [
        {
          "output_type": "stream",
          "text": [
            "/usr/local/lib/python3.6/dist-packages/deap/creator.py:141: RuntimeWarning: A class named 'FitnessMin' has already been created and it will be overwritten. Consider deleting previous creation of that class or rename it.\n",
            "  RuntimeWarning)\n",
            "/usr/local/lib/python3.6/dist-packages/deap/creator.py:141: RuntimeWarning: A class named 'Individual' has already been created and it will be overwritten. Consider deleting previous creation of that class or rename it.\n",
            "  RuntimeWarning)\n"
          ],
          "name": "stderr"
        },
        {
          "output_type": "stream",
          "text": [
            "   \t      \t                  fitness                  \t                     size                     \n",
            "   \t      \t-------------------------------------------\t----------------------------------------------\n",
            "gen\tnevals\tavg\tgen\tmax\tmin\tnevals\tstd\tavg    \tgen\tmax\tmin\tnevals\tstd   \n",
            "0  \t300   \t10 \t0  \t10 \t10 \t300   \t0  \t2.80667\t0  \t7  \t1  \t300   \t2.2217\n",
            "1  \t297   \t10 \t1  \t10 \t10 \t297   \t0  \t4.38   \t1  \t13 \t1  \t297   \t3.22939\n",
            "2  \t297   \t10 \t2  \t10 \t10 \t297   \t0  \t6.15333\t2  \t17 \t1  \t297   \t3.78636\n",
            "3  \t293   \t10 \t3  \t10 \t10 \t293   \t0  \t7.41333\t3  \t21 \t1  \t293   \t4.43499\n",
            "4  \t297   \t10 \t4  \t10 \t10 \t297   \t0  \t8.73333\t4  \t29 \t1  \t297   \t5.03411\n",
            "5  \t295   \t9.98333\t5  \t10 \t5  \t295   \t0.288194\t9.6    \t5  \t27 \t1  \t295   \t5.5845 \n",
            "6  \t299   \t9.96333\t6  \t10 \t4  \t299   \t0.449432\t10.48  \t6  \t33 \t1  \t299   \t6.57036\n",
            "7  \t298   \t9.87   \t7  \t10 \t4  \t298   \t0.844452\t12.1467\t7  \t45 \t1  \t298   \t8.06919\n",
            "8  \t296   \t9.36667\t8  \t10 \t2  \t296   \t1.84902 \t16.14  \t8  \t47 \t1  \t296   \t10.8453\n",
            "9  \t295   \t7.78   \t9  \t10 \t2  \t295   \t2.96731 \t25.94  \t9  \t69 \t1  \t295   \t14.6855\n",
            "10 \t299   \t6.01667\t10 \t10 \t1  \t299   \t3.22227 \t37.06  \t10 \t75 \t1  \t299   \t14.0526\n",
            "11 \t298   \t5.12   \t11 \t10 \t1  \t298   \t3.24021 \t43.02  \t11 \t103\t1  \t298   \t19.2544\n",
            "12 \t293   \t4.49667\t12 \t10 \t1  \t293   \t3.28278 \t50.3267\t12 \t113\t3  \t293   \t19.0309\n",
            "13 \t299   \t4.71   \t13 \t10 \t1  \t299   \t3.58876 \t49.9067\t13 \t121\t1  \t299   \t22.1722\n",
            "14 \t295   \t4.16333\t14 \t10 \t1  \t295   \t3.50285 \t54.56  \t14 \t127\t1  \t295   \t21.0211\n",
            "15 \t300   \t3.80667\t15 \t10 \t1  \t300   \t3.4587  \t56.86  \t15 \t127\t1  \t300   \t22.9642\n",
            "16 \t298   \t3.39667\t16 \t10 \t1  \t298   \t3.36145 \t62.2933\t16 \t133\t1  \t298   \t24.602 \n",
            "17 \t298   \t3.18   \t17 \t10 \t1  \t298   \t3.2364  \t68.4   \t17 \t137\t1  \t298   \t23.5601\n",
            "18 \t297   \t2.87667\t18 \t10 \t1  \t297   \t2.99246 \t73.8467\t18 \t151\t1  \t297   \t24.5415\n",
            "19 \t298   \t2.60333\t19 \t10 \t1  \t298   \t2.88432 \t79.2933\t19 \t169\t1  \t298   \t25.9228\n",
            "20 \t295   \t2.64   \t20 \t10 \t1  \t295   \t2.84553 \t81.2533\t20 \t151\t3  \t295   \t25.4593\n",
            "21 \t296   \t2.39   \t21 \t10 \t1  \t296   \t2.61621 \t86.2867\t21 \t161\t1  \t296   \t26.1735\n",
            "22 \t300   \t2.52667\t22 \t10 \t1  \t300   \t2.75608 \t91.7267\t22 \t199\t7  \t300   \t29.3506\n",
            "23 \t298   \t2.10333\t23 \t10 \t1  \t298   \t2.22546 \t94.7133\t23 \t201\t1  \t298   \t31.0163\n",
            "24 \t292   \t2.27333\t24 \t10 \t1  \t292   \t2.55446 \t94.4667\t24 \t215\t7  \t292   \t33.031 \n",
            "25 \t295   \t2.48333\t25 \t10 \t1  \t295   \t2.76461 \t95.64  \t25 \t217\t3  \t295   \t36.3038\n",
            "26 \t298   \t2.03   \t26 \t10 \t1  \t298   \t2.3027  \t100.08 \t26 \t225\t1  \t298   \t35.9916\n",
            "27 \t296   \t2.41   \t27 \t10 \t1  \t296   \t2.74747 \t97.46  \t27 \t227\t3  \t296   \t37.9532\n",
            "28 \t293   \t2.17667\t28 \t10 \t0  \t293   \t2.50442 \t100.393\t28 \t201\t3  \t293   \t36.7629\n",
            "29 \t297   \t1.92   \t29 \t10 \t0  \t297   \t2.14482 \t107.66 \t29 \t217\t1  \t297   \t37.7985\n",
            "30 \t297   \t1.97   \t30 \t10 \t0  \t297   \t2.58375 \t104.093\t30 \t255\t1  \t297   \t37.7985\n"
          ],
          "name": "stdout"
        }
      ]
    },
    {
      "cell_type": "code",
      "metadata": {
        "id": "XmHoj_d9RHY_",
        "outputId": "bfa6f0a0-cf35-4ab2-dea7-1b4cb91ca239",
        "colab": {
          "base_uri": "https://localhost:8080/"
        }
      },
      "source": [
        "best_ind = hof.items[0]\n",
        "func = toolbox.compile(expr=best_ind)\n",
        "\n",
        "print('Best Individual Length:', len(toolbox.compile(expr=best_ind)), 'Fitness:',run(best_ind,numbers))\n",
        "print('Individual body',str(func))\n",
        "\n",
        "pi_t = []\n",
        "for i in func:\n",
        "  if i not in pi_t:\n",
        "    pi_t.append(i)\n",
        "print('Pi:',pi_t)"
      ],
      "execution_count": 295,
      "outputs": [
        {
          "output_type": "stream",
          "text": [
            "Best Individual Length: 56 Fitness: (0,)\n",
            "Individual body [1, 2, 2, 3, 4, 4, 1, 5, 3, 6, 1, 1, 7, 4, 7, 4, 8, 7, 4, 2, 3, 2, 3, 2, 5, 8, 2, 6, 5, 2, 3, 7, 7, 9, 7, 7, 2, 8, 9, 8, 9, 5, 7, 9, 1, 9, 9, 5, 6, 5, 3, 8, 1, 9, 7, 1]\n",
            "Pi: [1, 2, 3, 4, 5, 6, 7, 8, 9]\n"
          ],
          "name": "stdout"
        }
      ]
    },
    {
      "cell_type": "markdown",
      "metadata": {
        "id": "rhX41naLQI9d"
      },
      "source": [
        "#### LAS\n",
        "**The following code implements the LAS function**"
      ]
    },
    {
      "cell_type": "code",
      "metadata": {
        "id": "rYMbxrnVQI9d",
        "outputId": "92486660-c09c-4c2a-9069-424eef98198e",
        "colab": {
          "base_uri": "https://localhost:8080/"
        }
      },
      "source": [
        "rand = random.random() * random.random()\n",
        "\n",
        "pset = gp.PrimitiveSet(\"MAIN\", 0)\n",
        "pset.addPrimitive(operator.concat, 2)\n",
        "pset.addEphemeralConstant(\"rand610\"+str(rand), lambda: random.sample(numbers, 1))\n",
        "\n",
        "creator.create(\"FitnessMax\", base.Fitness, weights=(1.0,))\n",
        "creator.create(\"Individual\", gp.PrimitiveTree, fitness=creator.FitnessMax)\n",
        "\n",
        "toolbox = base.Toolbox()\n",
        "toolbox.register(\"expr\", gp.genHalfAndHalf, pset=pset, min_=1, max_=2)\n",
        "toolbox.register(\"individual\", tools.initIterate, creator.Individual, toolbox.expr)\n",
        "toolbox.register(\"population\", tools.initRepeat, list, toolbox.individual)\n",
        "toolbox.register(\"compile\", gp.compile, pset=pset)\n",
        "\n",
        "\n",
        "def las(individual):\n",
        "  x1 = toolbox.compile(expr=individual)\n",
        "  counts = []\n",
        "  count = 1\n",
        "  if len(x1)>1:\n",
        "    for i in range (len(x1)-1):\n",
        "      if x1[i] < x1[i+1]:\n",
        "        count += 1\n",
        "      elif x1[i] > x1[i+1]:\n",
        "        counts.append(count)\n",
        "        count = 1\n",
        "      if i == len(x1)-2:\n",
        "        counts.append(count)\n",
        "  else:\n",
        "    counts.append(count)\n",
        "  return max(counts),\n",
        "  \n",
        "toolbox.register(\"evaluate\", las)\n",
        "toolbox.register(\"select\", tools.selTournament, tournsize=10)\n",
        "toolbox.register(\"mate\", gp.cxOnePoint)\n",
        "toolbox.register(\"expr_mut\", gp.genFull, min_=0, max_=2)\n",
        "toolbox.register(\"mutate\", gp.mutUniform, expr=toolbox.expr_mut, pset=pset)\n",
        "\n",
        "toolbox.decorate(\"mate\", gp.staticLimit(key=operator.attrgetter(\"height\"), max_value=17))\n",
        "toolbox.decorate(\"mutate\", gp.staticLimit(key=operator.attrgetter(\"height\"), max_value=17))\n",
        "\n",
        "def main():\n",
        "    random.seed(318)\n",
        "\n",
        "    pop = toolbox.population(n=300)\n",
        "    hof = tools.HallOfFame(1)\n",
        "    \n",
        "    stats_fit = tools.Statistics(lambda ind: ind.fitness.values)\n",
        "    stats_size = tools.Statistics(len)\n",
        "    mstats = tools.MultiStatistics(fitness=stats_fit, size=stats_size)\n",
        "    mstats.register(\"avg\", numpy.mean)\n",
        "    mstats.register(\"std\", numpy.std)\n",
        "    mstats.register(\"min\", numpy.min)\n",
        "    mstats.register(\"max\", numpy.max)\n",
        "\n",
        "    pop, log = algorithms.eaSimple(pop, toolbox, 0.1, 0.9, 20, stats=mstats,\n",
        "                                   halloffame=hof, verbose=True)\n",
        "    #print log\n",
        "    return pop, log, hof \n",
        "\n",
        "if __name__ == \"__main__\":\n",
        "    pop,log,hof = main()"
      ],
      "execution_count": 296,
      "outputs": [
        {
          "output_type": "stream",
          "text": [
            "/usr/local/lib/python3.6/dist-packages/deap/creator.py:141: RuntimeWarning: A class named 'FitnessMax' has already been created and it will be overwritten. Consider deleting previous creation of that class or rename it.\n",
            "  RuntimeWarning)\n",
            "/usr/local/lib/python3.6/dist-packages/deap/creator.py:141: RuntimeWarning: A class named 'Individual' has already been created and it will be overwritten. Consider deleting previous creation of that class or rename it.\n",
            "  RuntimeWarning)\n"
          ],
          "name": "stderr"
        },
        {
          "output_type": "stream",
          "text": [
            "   \t      \t                    fitness                     \t                      size                     \n",
            "   \t      \t------------------------------------------------\t-----------------------------------------------\n",
            "gen\tnevals\tavg    \tgen\tmax\tmin\tnevals\tstd     \tavg    \tgen\tmax\tmin\tnevals\tstd    \n",
            "0  \t300   \t1.71667\t0  \t4  \t1  \t300   \t0.650427\t4.56667\t0  \t7  \t3  \t300   \t1.82178\n",
            "1  \t272   \t2.28   \t1  \t4  \t1  \t272   \t0.788416\t7.13333\t1  \t15 \t1  \t272   \t3.29579\n",
            "2  \t260   \t2.80667\t2  \t5  \t1  \t260   \t0.873282\t9.66   \t2  \t19 \t1  \t260   \t4.06666\n",
            "3  \t270   \t3.21   \t3  \t5  \t1  \t270   \t0.982802\t11.9133\t3  \t29 \t1  \t270   \t5.22614\n",
            "4  \t277   \t3.49333\t4  \t6  \t1  \t277   \t1.0376  \t14.6   \t4  \t35 \t1  \t277   \t6.23966\n",
            "5  \t269   \t3.88   \t5  \t6  \t1  \t269   \t1.17994 \t17.5   \t5  \t41 \t1  \t269   \t7.16496\n",
            "6  \t276   \t4.34667\t6  \t8  \t1  \t276   \t1.15751 \t19.84  \t6  \t49 \t1  \t276   \t7.6027 \n",
            "7  \t270   \t4.58   \t7  \t8  \t1  \t270   \t1.38212 \t21.0933\t7  \t55 \t1  \t270   \t8.89745\n",
            "8  \t273   \t5.00667\t8  \t8  \t1  \t273   \t1.63502 \t23.06  \t8  \t47 \t1  \t273   \t8.95078\n",
            "9  \t281   \t5.66667\t9  \t8  \t1  \t281   \t1.84812 \t28.3533\t9  \t63 \t1  \t281   \t10.579 \n",
            "10 \t270   \t6.30333\t10 \t9  \t1  \t270   \t1.93683 \t33.5467\t10 \t77 \t1  \t270   \t10.8895\n",
            "11 \t265   \t6.52333\t11 \t9  \t1  \t265   \t1.94151 \t35.04  \t11 \t67 \t1  \t265   \t12.2648\n",
            "12 \t276   \t6.42   \t12 \t9  \t1  \t276   \t2.06807 \t35.1   \t12 \t59 \t1  \t276   \t12.4848\n",
            "13 \t274   \t6.73333\t13 \t9  \t1  \t274   \t1.89444 \t37.1933\t13 \t79 \t1  \t274   \t12.4473\n",
            "14 \t275   \t6.72667\t14 \t9  \t1  \t275   \t2.26096 \t35.9067\t14 \t73 \t1  \t275   \t13.8142\n",
            "15 \t271   \t6.93667\t15 \t9  \t1  \t271   \t2.42748 \t37.4   \t15 \t71 \t1  \t271   \t14.4148\n",
            "16 \t266   \t7.24333\t16 \t9  \t1  \t266   \t2.16428 \t39.9867\t16 \t77 \t1  \t266   \t12.9414\n",
            "17 \t279   \t7.06   \t17 \t9  \t1  \t279   \t2.30284 \t40.5867\t17 \t83 \t3  \t279   \t14.5204\n",
            "18 \t274   \t7.17   \t18 \t9  \t1  \t274   \t2.19722 \t42.7933\t18 \t79 \t1  \t274   \t15.2909\n",
            "19 \t272   \t7.33667\t19 \t9  \t1  \t272   \t2.22036 \t44.08  \t19 \t91 \t1  \t272   \t15.8023\n",
            "20 \t273   \t7.58   \t20 \t9  \t1  \t273   \t2.08253 \t47.1267\t20 \t83 \t1  \t273   \t15.5262\n"
          ],
          "name": "stdout"
        }
      ]
    },
    {
      "cell_type": "code",
      "metadata": {
        "id": "481GqMZL7Oid",
        "outputId": "7eb3e4b4-14a9-44a1-b54b-83828c98a272",
        "colab": {
          "base_uri": "https://localhost:8080/"
        }
      },
      "source": [
        "best_ind = hof.items[0]\n",
        "func = toolbox.compile(expr=best_ind)\n",
        "\n",
        "print('Best Individual Length:', len(toolbox.compile(expr=best_ind)), 'Fitness:',las(best_ind))\n",
        "print('Individual Body')\n",
        "pi_t = []\n",
        "for i in func:\n",
        "  if i not in pi_t:\n",
        "    pi_t.append(i)\n",
        "print('Pi:',pi_t)"
      ],
      "execution_count": 297,
      "outputs": [
        {
          "output_type": "stream",
          "text": [
            "Best Individual Length: 17 Fitness: (9,)\n",
            "Individual Body\n",
            "Pi: [1, 2, 3, 4, 5, 6, 7, 8, 9]\n"
          ],
          "name": "stdout"
        }
      ]
    },
    {
      "cell_type": "markdown",
      "metadata": {
        "id": "izwqeB6FQI9l"
      },
      "source": [
        "#### EXC\n",
        "**The following code implements the EXC function**"
      ]
    },
    {
      "cell_type": "code",
      "metadata": {
        "id": "z8RllvQzeSye",
        "outputId": "c1c3b6f6-52e8-4598-d9a2-79943635c059",
        "colab": {
          "base_uri": "https://localhost:8080/"
        }
      },
      "source": [
        "rand = random.random() * random.random()\n",
        "\n",
        "pset = gp.PrimitiveSet(\"MAIN\", 0)\n",
        "pset.addPrimitive(operator.concat, 2)\n",
        "pset.addEphemeralConstant(\"rand710\"+str(rand), lambda: random.sample(numbers, 1))\n",
        "\n",
        "creator.create(\"FitnessMin\", base.Fitness, weights=(-1.0,))\n",
        "creator.create(\"Individual\", gp.PrimitiveTree, fitness=creator.FitnessMin)\n",
        "\n",
        "toolbox = base.Toolbox()\n",
        "toolbox.register(\"expr\", gp.genHalfAndHalf, pset=pset, min_=1, max_=2)\n",
        "toolbox.register(\"individual\", tools.initIterate, creator.Individual, toolbox.expr)\n",
        "toolbox.register(\"population\", tools.initRepeat, list, toolbox.individual)\n",
        "toolbox.register(\"compile\", gp.compile, pset=pset)\n",
        "\n",
        "\n",
        "def exc(individual, numbers):\n",
        "  x1 = toolbox.compile(expr=individual)\n",
        "  count = 0\n",
        "  pi = []\n",
        "  for i in x1:\n",
        "    if i not in pi:\n",
        "      pi.append(i)\n",
        "\n",
        "  if len(pi) == len(numbers):\n",
        "    for i in range (len(numbers)):\n",
        "      if pi[i] != numbers[i]:\n",
        "        count += 1\n",
        "  else:\n",
        "    count = 10\n",
        "  return count,\n",
        "\n",
        "toolbox.register(\"evaluate\", exc, numbers = numbers)\n",
        "toolbox.register(\"select\", tools.selTournament, tournsize=10)\n",
        "toolbox.register(\"mate\", gp.cxOnePoint)\n",
        "toolbox.register(\"expr_mut\", gp.genFull, min_=0, max_=2)\n",
        "toolbox.register(\"mutate\", gp.mutUniform, expr=toolbox.expr_mut, pset=pset)\n",
        "\n",
        "toolbox.decorate(\"mate\", gp.staticLimit(key=operator.attrgetter(\"height\"), max_value=17))\n",
        "toolbox.decorate(\"mutate\", gp.staticLimit(key=operator.attrgetter(\"height\"), max_value=17))\n",
        "\n",
        "def main():\n",
        "    random.seed(318)\n",
        "\n",
        "    pop = toolbox.population(n=300)\n",
        "    hof = tools.HallOfFame(1)\n",
        "    \n",
        "    stats_fit = tools.Statistics(lambda ind: ind.fitness.values)\n",
        "    stats_size = tools.Statistics(len)\n",
        "    mstats = tools.MultiStatistics(fitness=stats_fit, size=stats_size)\n",
        "    mstats.register(\"avg\", numpy.mean)\n",
        "    mstats.register(\"std\", numpy.std)\n",
        "    mstats.register(\"min\", numpy.min)\n",
        "    mstats.register(\"max\", numpy.max)\n",
        "\n",
        "    pop, log = algorithms.eaSimple(pop, toolbox, 0.9, 0.9, 20, stats=mstats,\n",
        "                                   halloffame=hof, verbose=True)\n",
        "    #print log\n",
        "    return pop, log, hof \n",
        "\n",
        "if __name__ == \"__main__\":\n",
        "    pop,log,hof = main()"
      ],
      "execution_count": 299,
      "outputs": [
        {
          "output_type": "stream",
          "text": [
            "/usr/local/lib/python3.6/dist-packages/deap/creator.py:141: RuntimeWarning: A class named 'FitnessMin' has already been created and it will be overwritten. Consider deleting previous creation of that class or rename it.\n",
            "  RuntimeWarning)\n",
            "/usr/local/lib/python3.6/dist-packages/deap/creator.py:141: RuntimeWarning: A class named 'Individual' has already been created and it will be overwritten. Consider deleting previous creation of that class or rename it.\n",
            "  RuntimeWarning)\n"
          ],
          "name": "stderr"
        },
        {
          "output_type": "stream",
          "text": [
            "   \t      \t                  fitness                  \t                      size                     \n",
            "   \t      \t-------------------------------------------\t-----------------------------------------------\n",
            "gen\tnevals\tavg\tgen\tmax\tmin\tnevals\tstd\tavg    \tgen\tmax\tmin\tnevals\tstd    \n",
            "0  \t300   \t10 \t0  \t10 \t10 \t300   \t0  \t4.56667\t0  \t7  \t3  \t300   \t1.82178\n",
            "1  \t300   \t10 \t1  \t10 \t10 \t300   \t0  \t5.8    \t1  \t15 \t1  \t300   \t3.1496 \n",
            "2  \t299   \t10 \t2  \t10 \t10 \t299   \t0  \t6.88   \t2  \t21 \t1  \t299   \t4.10677\n",
            "3  \t298   \t10 \t3  \t10 \t10 \t298   \t0  \t7.58   \t3  \t23 \t1  \t298   \t4.58079\n",
            "4  \t299   \t9.98333\t4  \t10 \t7  \t299   \t0.207498\t8.62667\t4  \t27 \t1  \t299   \t5.25046\n",
            "5  \t299   \t9.96333\t5  \t10 \t7  \t299   \t0.297751\t10.3333\t5  \t33 \t1  \t299   \t6.85339\n",
            "6  \t297   \t9.82333\t6  \t10 \t7  \t297   \t0.631497\t14.0067\t6  \t45 \t1  \t297   \t9.62981\n",
            "7  \t297   \t9.33667\t7  \t10 \t5  \t297   \t1.15902 \t22.5867\t7  \t65 \t1  \t297   \t14.4928\n",
            "8  \t296   \t8.32   \t8  \t10 \t4  \t296   \t1.57404 \t36.24  \t8  \t105\t1  \t296   \t15.8454\n",
            "9  \t298   \t7.36333\t9  \t10 \t3  \t298   \t1.85598 \t42.76  \t9  \t113\t1  \t298   \t18.6939\n",
            "10 \t297   \t6.75   \t10 \t10 \t3  \t297   \t2.22879 \t49.3467\t10 \t119\t1  \t297   \t22.921 \n",
            "11 \t298   \t6.06   \t11 \t10 \t3  \t298   \t2.37832 \t60.0133\t11 \t155\t1  \t298   \t25.7462\n",
            "12 \t298   \t5.23   \t12 \t10 \t2  \t298   \t2.33319 \t64.9667\t12 \t161\t1  \t298   \t25.6429\n",
            "13 \t296   \t4.83667\t13 \t10 \t2  \t296   \t2.5645  \t65.72  \t13 \t159\t1  \t296   \t25.9628\n",
            "14 \t299   \t4.76667\t14 \t10 \t2  \t299   \t2.72743 \t63.8867\t14 \t143\t1  \t299   \t26.8567\n",
            "15 \t293   \t4.68333\t15 \t10 \t2  \t293   \t3.03475 \t60.8867\t15 \t131\t1  \t293   \t23.4981\n",
            "16 \t296   \t4.57667\t16 \t10 \t0  \t296   \t3.03273 \t63.8533\t16 \t143\t1  \t296   \t24.4822\n",
            "17 \t295   \t3.89667\t17 \t10 \t0  \t295   \t2.86112 \t69.88  \t17 \t161\t1  \t295   \t27.9127\n",
            "18 \t299   \t3.7    \t18 \t10 \t0  \t299   \t3.10752 \t75.0733\t18 \t161\t1  \t299   \t32.0759\n",
            "19 \t298   \t2.26   \t19 \t10 \t0  \t298   \t3.1484  \t89.0267\t19 \t173\t5  \t298   \t29.4378\n",
            "20 \t299   \t2.28333\t20 \t10 \t0  \t299   \t3.58744 \t89.74  \t20 \t237\t3  \t299   \t35.1515\n"
          ],
          "name": "stdout"
        }
      ]
    },
    {
      "cell_type": "code",
      "metadata": {
        "id": "P5S9pA4Ff6M8",
        "outputId": "0f5bcafe-d21a-4f55-9c14-be751cbd9808",
        "colab": {
          "base_uri": "https://localhost:8080/"
        }
      },
      "source": [
        "best_ind = hof.items[0]\n",
        "func = toolbox.compile(expr=best_ind)\n",
        "\n",
        "print('Best Individual Length:', len(toolbox.compile(expr=best_ind)), 'Fitness:',exc(best_ind, numbers))\n",
        "print('Individual body',str(func))\n",
        "\n",
        "pi_t = []\n",
        "for i in func:\n",
        "  if i not in pi_t:\n",
        "    pi_t.append(i)\n",
        "print('Pi:',pi_t)"
      ],
      "execution_count": 300,
      "outputs": [
        {
          "output_type": "stream",
          "text": [
            "Best Individual Length: 54 Fitness: (0,)\n",
            "Individual body [1, 2, 3, 4, 5, 3, 6, 4, 7, 7, 8, 9, 6, 1, 2, 9, 7, 5, 4, 2, 3, 6, 6, 2, 9, 5, 9, 4, 4, 2, 1, 8, 6, 2, 2, 6, 3, 8, 3, 2, 5, 5, 4, 4, 8, 2, 1, 2, 4, 5, 6, 1, 2, 3]\n",
            "Pi: [1, 2, 3, 4, 5, 6, 7, 8, 9]\n"
          ],
          "name": "stdout"
        }
      ]
    },
    {
      "cell_type": "markdown",
      "metadata": {
        "id": "u-JQf0U_T_gK"
      },
      "source": [
        "#### Conclusion\n",
        "\n",
        "**All the problems were solved by the algorithms presented in this Notebook. The approach used was the tree-based programming using DEAP framework. Most of the solutions were maximization problems, however only two of them were minimization (Sorting). In some of the problems the parameters for crossover and mutations were different because they produced different behaviors on the solutions. Finally, the code that took more time to run (because of complexity and fitness evaluation) was \"Mayority\", and the code that took less generations was LAS for the Sorting problem. Each one of the problem presented a challenge but fortunately all of them could be solved with almost the same approach.**"
      ]
    },
    {
      "cell_type": "markdown",
      "metadata": {
        "id": "beEPo3GcPmTp"
      },
      "source": [
        "# References\n",
        "\n",
        "<ol type = \"1\">\n",
        "<li>Goldberg, D.E., O’Reilly, U.: Where does the good stuff go, and why? how contextual semantics influences program structure in simple genetic programming. In: Proceedings of Genetic Programming, First European Workshop (EuroGP 1998), pp. 16–36 (1998).</li>\n",
        "<li>Wagner, M., Neumann, F.: Parsimony pressure versus multi-objective\n",
        "optimization for variable length representations. In: Proceedings of the\n",
        "12th International Conference on Parallel Problem Solving from Nature\n",
        "(PPSN 2012), pp. 133–142 (2012).</li>\n",
        "<li>Wagner, M., Neumann, F., Urli, T.: On the performance of different genetic\n",
        "programming approaches for the SORTING problem. Evolutionary\n",
        "Computation 23(4), 583–609 (2015).</li>\n",
        "<li> fmder. (2014). symbreg.py. Novemeber, 2nd, de Github Sitio web: https://github.com/DEAP/deap/blob/454b4f65a9c944ea2c90b38a75d384cddf524220/examples/gp/symbreg.py</li>\n",
        "</ol>\n"
      ]
    }
  ]
}