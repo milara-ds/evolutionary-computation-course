{
  "nbformat": 4,
  "nbformat_minor": 0,
  "metadata": {
    "colab": {
      "name": "Evolutionary_Computation_(CS5048)_Multi_objective_Optimisation.ipynb",
      "provenance": [],
      "collapsed_sections": []
    },
    "kernelspec": {
      "name": "python3",
      "display_name": "Python 3"
    }
  },
  "cells": [
    {
      "cell_type": "markdown",
      "metadata": {
        "id": "4aFWhAmvXyG9"
      },
      "source": [
        "# Evolutionary Computation (CS5048)\n",
        "\n",
        "Edgar Covantes Osuna, PhD\n",
        "\n",
        "Email: edgar.covantes@tex.mx\n",
        "\n",
        "Student name: **Miguel Lara **\n",
        "\n",
        "ID: \n",
        "\n",
        "$\n",
        "\\def\\zdtone{{\\rm ZDT1}}\n",
        "\\def\\zdttwo{{\\rm ZDT2}}\n",
        "\\def\\zdtthree{{\\rm ZDT3}}\n",
        "\\def\\fon{{\\rm FON}}\n",
        "$"
      ]
    },
    {
      "cell_type": "markdown",
      "metadata": {
        "id": "qETl3S60X3Dw"
      },
      "source": [
        "## Multi-objective Optimisation\n",
        "\n",
        "From the Lecture \"Multimodal and Multi-objective Optimisation\" you learned the theoretical foundations of Multi-objective Optimisation as a small set of optimisation and black box optimisation problems.\n",
        "\n",
        "You know are familiar with the terms multi-objective function, decision space, objective space, Pareto set, Pareto front, decision vector and objective vector and dominance relations. \n",
        "\n",
        "You are now familiar with the difference between single-objective and multi-objective optimisation and the problem that all Multi-Objective Evolutionary Algorithms (MOEAs) have to overcome when solving multi-objective problems:\n",
        "1. Push the population close to the Pareto front.\n",
        "2. Spread the population along the front such that is well covered. \n",
        "\n",
        "And finally, we just mentioned some well-known MOEAs."
      ]
    },
    {
      "cell_type": "markdown",
      "metadata": {
        "id": "3khb_IVCjNqD"
      },
      "source": [
        "## Instructions\n",
        "\n",
        "In this activity you will need to make a literature review of the well-known MOEAs mentioned during the lecture to tackle 4 multi-objective optimisation problem (all of them are defined as minimisation problems). \n",
        "\n",
        "You can use any MOEA you want but you can not use any framework available on the internet. This is, you will need to design and program your solution from scratch using just Python and on Google Colab.\n",
        "\n",
        "It is expected from you to read the literature so you can solve these problems. By knowing the problem it will be easier for you to make decisions about parameter settings, mechanisms to apply, the search space to use and the structure of the inviduals to use.\n",
        "\n",
        "**The goal**:\n",
        "\n",
        "At the end of the execution of your MOEAs you should present a population containing all Pareto-optimal decision vector $X^*$ (Pareto set) and in consecuence all $F^*$, the set of all Pareto-optimal objective vectors (Pareto front).\n",
        "\n",
        "**Marking scheme**:\n",
        "\n",
        "For each function, the final population will be used to estimate the percentage of the Pareto front covered.\n",
        "\n",
        "- $\\zdtone$ has a convex Pareto-optimal front (25 points). \n",
        "- $\\zdttwo$ is the nonconvex counterpart to $\\zdtone$ (25 points).\n",
        "- $\\zdtthree$ represents the discreteness feature; its Pareto-optimal front consists of several noncontiguous convex parts (25 points).\n",
        "- $\\fon$ has a similar shape as $\\zdttwo$ (25 points).\n",
        "\n",
        "**Suggestions**\n",
        "- Read carefully each section and spend time understanding each function. Each function may require specific representations or operator. I highly suggest reading the slides and the papers referenced there before solving the functions."
      ]
    },
    {
      "cell_type": "markdown",
      "metadata": {
        "id": "oEWQMhXips9A"
      },
      "source": [
        "## Imports\n",
        "\n",
        "You can add all the necessary packages in the following cell."
      ]
    },
    {
      "cell_type": "code",
      "metadata": {
        "id": "0PeaftNypwSb",
        "outputId": "692381bc-c745-4a1b-8d9f-6c09dd58cc49",
        "colab": {
          "base_uri": "https://localhost:8080/",
          "height": 1000
        }
      },
      "source": [
        "# IF YOU WANT YOU CAN USE THIS CELL TO ADD YOUR IMPORTS.\n",
        "import numpy as np\n",
        "from matplotlib import cm\n",
        "import matplotlib.pyplot as plt\n",
        "import pandas as pd\n",
        "\n",
        "#Uncomment the next line incase the latex fonts are not installed in your system (the instalation may take a couple of minutes).\n",
        "!apt install texlive-fonts-recommended texlive-fonts-extra cm-super dvipng\n",
        "\n",
        "plt.rc('text', usetex=True)  \n",
        "plt.rc('font', family='serif')"
      ],
      "execution_count": 12,
      "outputs": [
        {
          "output_type": "stream",
          "text": [
            "Reading package lists... Done\n",
            "Building dependency tree       \n",
            "Reading state information... Done\n",
            "The following additional packages will be installed:\n",
            "  cm-super-minimal fonts-adf-accanthis fonts-adf-berenis fonts-adf-gillius\n",
            "  fonts-adf-universalis fonts-cabin fonts-comfortaa fonts-croscore\n",
            "  fonts-crosextra-caladea fonts-crosextra-carlito fonts-dejavu-core\n",
            "  fonts-dejavu-extra fonts-droid-fallback fonts-ebgaramond\n",
            "  fonts-ebgaramond-extra fonts-font-awesome fonts-freefont-otf\n",
            "  fonts-freefont-ttf fonts-gfs-artemisia fonts-gfs-complutum fonts-gfs-didot\n",
            "  fonts-gfs-neohellenic fonts-gfs-olga fonts-gfs-solomos fonts-go\n",
            "  fonts-junicode fonts-lato fonts-linuxlibertine fonts-lmodern fonts-lobster\n",
            "  fonts-lobstertwo fonts-noto-hinted fonts-noto-mono fonts-oflb-asana-math\n",
            "  fonts-open-sans fonts-roboto-hinted fonts-sil-gentium\n",
            "  fonts-sil-gentium-basic fonts-sil-gentiumplus fonts-sil-gentiumplus-compact\n",
            "  fonts-stix fonts-texgyre ghostscript gsfonts javascript-common\n",
            "  libcupsfilters1 libcupsimage2 libgs9 libgs9-common libijs-0.35 libjbig2dec0\n",
            "  libjs-jquery libkpathsea6 libpotrace0 libptexenc1 libruby2.5 libsynctex1\n",
            "  libtexlua52 libtexluajit2 libzzip-0-13 lmodern pfb2t1c2pfb poppler-data\n",
            "  preview-latex-style rake ruby ruby-did-you-mean ruby-minitest\n",
            "  ruby-net-telnet ruby-power-assert ruby-test-unit ruby2.5\n",
            "  rubygems-integration t1utils tex-common tex-gyre texlive-base\n",
            "  texlive-binaries texlive-fonts-extra-links texlive-latex-base\n",
            "  texlive-latex-extra texlive-latex-recommended texlive-pictures\n",
            "  texlive-plain-generic tipa\n",
            "Suggested packages:\n",
            "  fonts-noto fontforge ghostscript-x apache2 | lighttpd | httpd poppler-utils\n",
            "  fonts-japanese-mincho | fonts-ipafont-mincho fonts-japanese-gothic\n",
            "  | fonts-ipafont-gothic fonts-arphic-ukai fonts-arphic-uming fonts-nanum ri\n",
            "  ruby-dev bundler debhelper perl-tk xpdf-reader | pdf-viewer\n",
            "  texlive-fonts-extra-doc texlive-fonts-recommended-doc texlive-latex-base-doc\n",
            "  python-pygments icc-profiles libfile-which-perl\n",
            "  libspreadsheet-parseexcel-perl texlive-latex-extra-doc\n",
            "  texlive-latex-recommended-doc texlive-pstricks dot2tex prerex ruby-tcltk\n",
            "  | libtcltk-ruby texlive-pictures-doc vprerex\n",
            "The following NEW packages will be installed:\n",
            "  cm-super cm-super-minimal dvipng fonts-adf-accanthis fonts-adf-berenis\n",
            "  fonts-adf-gillius fonts-adf-universalis fonts-cabin fonts-comfortaa\n",
            "  fonts-croscore fonts-crosextra-caladea fonts-crosextra-carlito\n",
            "  fonts-dejavu-core fonts-dejavu-extra fonts-droid-fallback fonts-ebgaramond\n",
            "  fonts-ebgaramond-extra fonts-font-awesome fonts-freefont-otf\n",
            "  fonts-freefont-ttf fonts-gfs-artemisia fonts-gfs-complutum fonts-gfs-didot\n",
            "  fonts-gfs-neohellenic fonts-gfs-olga fonts-gfs-solomos fonts-go\n",
            "  fonts-junicode fonts-lato fonts-linuxlibertine fonts-lmodern fonts-lobster\n",
            "  fonts-lobstertwo fonts-noto-hinted fonts-noto-mono fonts-oflb-asana-math\n",
            "  fonts-open-sans fonts-roboto-hinted fonts-sil-gentium\n",
            "  fonts-sil-gentium-basic fonts-sil-gentiumplus fonts-sil-gentiumplus-compact\n",
            "  fonts-stix fonts-texgyre ghostscript gsfonts javascript-common\n",
            "  libcupsfilters1 libcupsimage2 libgs9 libgs9-common libijs-0.35 libjbig2dec0\n",
            "  libjs-jquery libkpathsea6 libpotrace0 libptexenc1 libruby2.5 libsynctex1\n",
            "  libtexlua52 libtexluajit2 libzzip-0-13 lmodern pfb2t1c2pfb poppler-data\n",
            "  preview-latex-style rake ruby ruby-did-you-mean ruby-minitest\n",
            "  ruby-net-telnet ruby-power-assert ruby-test-unit ruby2.5\n",
            "  rubygems-integration t1utils tex-common tex-gyre texlive-base\n",
            "  texlive-binaries texlive-fonts-extra texlive-fonts-extra-links\n",
            "  texlive-fonts-recommended texlive-latex-base texlive-latex-extra\n",
            "  texlive-latex-recommended texlive-pictures texlive-plain-generic tipa\n",
            "0 upgraded, 89 newly installed, 0 to remove and 21 not upgraded.\n",
            "Need to get 554 MB of archives.\n",
            "After this operation, 1,550 MB of additional disk space will be used.\n",
            "Get:1 http://archive.ubuntu.com/ubuntu bionic/main amd64 fonts-droid-fallback all 1:6.0.1r16-1.1 [1,805 kB]\n",
            "Get:2 http://archive.ubuntu.com/ubuntu bionic/main amd64 fonts-lato all 2.0-2 [2,698 kB]\n",
            "Get:3 http://archive.ubuntu.com/ubuntu bionic/main amd64 poppler-data all 0.4.8-2 [1,479 kB]\n",
            "Get:4 http://archive.ubuntu.com/ubuntu bionic/main amd64 tex-common all 6.09 [33.0 kB]\n",
            "Get:5 http://archive.ubuntu.com/ubuntu bionic-updates/main amd64 libkpathsea6 amd64 2017.20170613.44572-8ubuntu0.1 [54.9 kB]\n",
            "Get:6 http://archive.ubuntu.com/ubuntu bionic-updates/main amd64 libptexenc1 amd64 2017.20170613.44572-8ubuntu0.1 [34.5 kB]\n",
            "Get:7 http://archive.ubuntu.com/ubuntu bionic-updates/main amd64 libsynctex1 amd64 2017.20170613.44572-8ubuntu0.1 [41.4 kB]\n",
            "Get:8 http://archive.ubuntu.com/ubuntu bionic-updates/main amd64 libtexlua52 amd64 2017.20170613.44572-8ubuntu0.1 [91.2 kB]\n",
            "Get:9 http://archive.ubuntu.com/ubuntu bionic-updates/main amd64 libtexluajit2 amd64 2017.20170613.44572-8ubuntu0.1 [230 kB]\n",
            "Get:10 http://archive.ubuntu.com/ubuntu bionic/main amd64 t1utils amd64 1.41-2 [56.0 kB]\n",
            "Get:11 http://archive.ubuntu.com/ubuntu bionic-updates/main amd64 libcupsimage2 amd64 2.2.7-1ubuntu2.8 [18.6 kB]\n",
            "Get:12 http://archive.ubuntu.com/ubuntu bionic/main amd64 libijs-0.35 amd64 0.35-13 [15.5 kB]\n",
            "Get:13 http://archive.ubuntu.com/ubuntu bionic/main amd64 libjbig2dec0 amd64 0.13-6 [55.9 kB]\n",
            "Get:14 http://archive.ubuntu.com/ubuntu bionic-updates/main amd64 libgs9-common all 9.26~dfsg+0-0ubuntu0.18.04.13 [5,092 kB]\n",
            "Get:15 http://archive.ubuntu.com/ubuntu bionic-updates/main amd64 libgs9 amd64 9.26~dfsg+0-0ubuntu0.18.04.13 [2,263 kB]\n",
            "Get:16 http://archive.ubuntu.com/ubuntu bionic/main amd64 libpotrace0 amd64 1.14-2 [17.4 kB]\n",
            "Get:17 http://archive.ubuntu.com/ubuntu bionic-updates/main amd64 libzzip-0-13 amd64 0.13.62-3.1ubuntu0.18.04.1 [26.0 kB]\n",
            "Get:18 http://archive.ubuntu.com/ubuntu bionic-updates/main amd64 texlive-binaries amd64 2017.20170613.44572-8ubuntu0.1 [8,179 kB]\n",
            "Get:19 http://archive.ubuntu.com/ubuntu bionic/main amd64 texlive-base all 2017.20180305-1 [18.7 MB]\n",
            "Get:20 http://archive.ubuntu.com/ubuntu bionic/main amd64 fonts-lmodern all 2.004.5-3 [4,551 kB]\n",
            "Get:21 http://archive.ubuntu.com/ubuntu bionic/main amd64 texlive-latex-base all 2017.20180305-1 [951 kB]\n",
            "Get:22 http://archive.ubuntu.com/ubuntu bionic/main amd64 texlive-latex-recommended all 2017.20180305-1 [14.9 MB]\n",
            "Get:23 http://archive.ubuntu.com/ubuntu bionic/universe amd64 cm-super-minimal all 0.3.4-11 [5,810 kB]\n",
            "Get:24 http://archive.ubuntu.com/ubuntu bionic/universe amd64 pfb2t1c2pfb amd64 0.3-11 [9,342 B]\n",
            "Get:25 http://archive.ubuntu.com/ubuntu bionic/universe amd64 cm-super all 0.3.4-11 [18.7 MB]\n",
            "Get:26 http://archive.ubuntu.com/ubuntu bionic-updates/main amd64 ghostscript amd64 9.26~dfsg+0-0ubuntu0.18.04.13 [51.0 kB]\n",
            "Get:27 http://archive.ubuntu.com/ubuntu bionic/universe amd64 dvipng amd64 1.15-1 [78.2 kB]\n",
            "Get:28 http://archive.ubuntu.com/ubuntu bionic/universe amd64 fonts-adf-accanthis all 0.20110505-1 [202 kB]\n",
            "Get:29 http://archive.ubuntu.com/ubuntu bionic/universe amd64 fonts-adf-berenis all 0.20110505-1 [281 kB]\n",
            "Get:30 http://archive.ubuntu.com/ubuntu bionic/universe amd64 fonts-adf-gillius all 0.20110505-1 [190 kB]\n",
            "Get:31 http://archive.ubuntu.com/ubuntu bionic/universe amd64 fonts-adf-universalis all 0.20110505-1 [111 kB]\n",
            "Get:32 http://archive.ubuntu.com/ubuntu bionic/universe amd64 fonts-cabin all 1.5-2 [140 kB]\n",
            "Get:33 http://archive.ubuntu.com/ubuntu bionic/universe amd64 fonts-comfortaa all 3.001-2 [129 kB]\n",
            "Get:34 http://archive.ubuntu.com/ubuntu bionic/universe amd64 fonts-croscore all 20171026-2 [2,135 kB]\n",
            "Get:35 http://archive.ubuntu.com/ubuntu bionic/universe amd64 fonts-crosextra-caladea all 20130214-2 [82.4 kB]\n",
            "Get:36 http://archive.ubuntu.com/ubuntu bionic/universe amd64 fonts-crosextra-carlito all 20130920-1 [742 kB]\n",
            "Get:37 http://archive.ubuntu.com/ubuntu bionic/main amd64 fonts-dejavu-core all 2.37-1 [1,041 kB]\n",
            "Get:38 http://archive.ubuntu.com/ubuntu bionic/main amd64 fonts-dejavu-extra all 2.37-1 [1,953 kB]\n",
            "Get:39 http://archive.ubuntu.com/ubuntu bionic/universe amd64 fonts-ebgaramond all 0.016-1 [474 kB]\n",
            "Get:40 http://archive.ubuntu.com/ubuntu bionic/universe amd64 fonts-ebgaramond-extra all 0.016-1 [2,157 kB]\n",
            "Get:41 http://archive.ubuntu.com/ubuntu bionic/main amd64 fonts-font-awesome all 4.7.0~dfsg-3 [513 kB]\n",
            "Get:42 http://archive.ubuntu.com/ubuntu bionic/universe amd64 fonts-freefont-otf all 20120503-7 [3,055 kB]\n",
            "Get:43 http://archive.ubuntu.com/ubuntu bionic/main amd64 fonts-freefont-ttf all 20120503-7 [4,202 kB]\n",
            "Get:44 http://archive.ubuntu.com/ubuntu bionic/universe amd64 fonts-gfs-artemisia all 1.1-5 [260 kB]\n",
            "Get:45 http://archive.ubuntu.com/ubuntu bionic/universe amd64 fonts-gfs-complutum all 1.1-6 [41.6 kB]\n",
            "Get:46 http://archive.ubuntu.com/ubuntu bionic/universe amd64 fonts-gfs-didot all 1.1-6 [278 kB]\n",
            "Get:47 http://archive.ubuntu.com/ubuntu bionic/universe amd64 fonts-gfs-neohellenic all 1.1-6 [215 kB]\n",
            "Get:48 http://archive.ubuntu.com/ubuntu bionic/universe amd64 fonts-gfs-olga all 1.1-5 [33.4 kB]\n",
            "Get:49 http://archive.ubuntu.com/ubuntu bionic/universe amd64 fonts-gfs-solomos all 1.1-5 [40.7 kB]\n",
            "Get:50 http://archive.ubuntu.com/ubuntu bionic/universe amd64 fonts-go all 0~20161116-1 [348 kB]\n",
            "Get:51 http://archive.ubuntu.com/ubuntu bionic/universe amd64 fonts-junicode all 1.001-2 [684 kB]\n",
            "Get:52 http://archive.ubuntu.com/ubuntu bionic/universe amd64 fonts-linuxlibertine all 5.3.0-4 [1,627 kB]\n",
            "Get:53 http://archive.ubuntu.com/ubuntu bionic/universe amd64 fonts-lobster all 2.0-2 [38.7 kB]\n",
            "Get:54 http://archive.ubuntu.com/ubuntu bionic/universe amd64 fonts-lobstertwo all 2.0-2 [92.7 kB]\n",
            "Get:55 http://archive.ubuntu.com/ubuntu bionic/universe amd64 fonts-noto-hinted all 20171026-2 [6,653 kB]\n",
            "Get:56 http://archive.ubuntu.com/ubuntu bionic/main amd64 fonts-noto-mono all 20171026-2 [75.5 kB]\n",
            "Get:57 http://archive.ubuntu.com/ubuntu bionic/universe amd64 fonts-oflb-asana-math all 000.907-6 [246 kB]\n",
            "Get:58 http://archive.ubuntu.com/ubuntu bionic/universe amd64 fonts-open-sans all 1.11-1 [575 kB]\n",
            "Get:59 http://archive.ubuntu.com/ubuntu bionic/universe amd64 fonts-roboto-hinted all 2:0~20160106-2 [2,918 kB]\n",
            "Get:60 http://archive.ubuntu.com/ubuntu bionic/universe amd64 fonts-sil-gentium all 20081126:1.03-2 [245 kB]\n",
            "Get:61 http://archive.ubuntu.com/ubuntu bionic/universe amd64 fonts-sil-gentium-basic all 1.102-1 [384 kB]\n",
            "Get:62 http://archive.ubuntu.com/ubuntu bionic/universe amd64 fonts-sil-gentiumplus all 5.000-2 [2,807 kB]\n",
            "Get:63 http://archive.ubuntu.com/ubuntu bionic/universe amd64 fonts-sil-gentiumplus-compact all 5.000-2 [1,514 kB]\n",
            "Get:64 http://archive.ubuntu.com/ubuntu bionic/universe amd64 fonts-texgyre all 20160520-1 [8,761 kB]\n",
            "Get:65 http://archive.ubuntu.com/ubuntu bionic/main amd64 gsfonts all 1:8.11+urwcyr1.0.7~pre44-4.4 [3,120 kB]\n",
            "Get:66 http://archive.ubuntu.com/ubuntu bionic/main amd64 javascript-common all 11 [6,066 B]\n",
            "Get:67 http://archive.ubuntu.com/ubuntu bionic-updates/main amd64 libcupsfilters1 amd64 1.20.2-0ubuntu3.1 [108 kB]\n",
            "Get:68 http://archive.ubuntu.com/ubuntu bionic/main amd64 libjs-jquery all 3.2.1-1 [152 kB]\n",
            "Get:69 http://archive.ubuntu.com/ubuntu bionic/main amd64 rubygems-integration all 1.11 [4,994 B]\n",
            "Get:70 http://archive.ubuntu.com/ubuntu bionic-updates/main amd64 ruby2.5 amd64 2.5.1-1ubuntu1.6 [48.6 kB]\n",
            "Get:71 http://archive.ubuntu.com/ubuntu bionic/main amd64 ruby amd64 1:2.5.1 [5,712 B]\n",
            "Get:72 http://archive.ubuntu.com/ubuntu bionic-updates/main amd64 rake all 12.3.1-1ubuntu0.1 [44.9 kB]\n",
            "Get:73 http://archive.ubuntu.com/ubuntu bionic/main amd64 ruby-did-you-mean all 1.2.0-2 [9,700 B]\n",
            "Get:74 http://archive.ubuntu.com/ubuntu bionic/main amd64 ruby-minitest all 5.10.3-1 [38.6 kB]\n",
            "Get:75 http://archive.ubuntu.com/ubuntu bionic/main amd64 ruby-net-telnet all 0.1.1-2 [12.6 kB]\n",
            "Get:76 http://archive.ubuntu.com/ubuntu bionic/main amd64 ruby-power-assert all 0.3.0-1 [7,952 B]\n",
            "Get:77 http://archive.ubuntu.com/ubuntu bionic/main amd64 ruby-test-unit all 3.2.5-1 [61.1 kB]\n",
            "Get:78 http://archive.ubuntu.com/ubuntu bionic-updates/main amd64 libruby2.5 amd64 2.5.1-1ubuntu1.6 [3,069 kB]\n",
            "Get:79 http://archive.ubuntu.com/ubuntu bionic/main amd64 lmodern all 2.004.5-3 [9,631 kB]\n",
            "Get:80 http://archive.ubuntu.com/ubuntu bionic/main amd64 preview-latex-style all 11.91-1ubuntu1 [185 kB]\n",
            "Get:81 http://archive.ubuntu.com/ubuntu bionic/universe amd64 tex-gyre all 20160520-1 [4,998 kB]\n",
            "Get:82 http://archive.ubuntu.com/ubuntu bionic/universe amd64 texlive-fonts-extra all 2017.20180305-2 [354 MB]\n",
            "Get:83 http://archive.ubuntu.com/ubuntu bionic/universe amd64 fonts-stix all 1.1.1-4 [591 kB]\n",
            "Get:84 http://archive.ubuntu.com/ubuntu bionic/universe amd64 texlive-fonts-extra-links all 2017.20180305-2 [20.6 kB]\n",
            "Get:85 http://archive.ubuntu.com/ubuntu bionic/universe amd64 texlive-fonts-recommended all 2017.20180305-1 [5,262 kB]\n",
            "Get:86 http://archive.ubuntu.com/ubuntu bionic/universe amd64 texlive-pictures all 2017.20180305-1 [4,026 kB]\n",
            "Get:87 http://archive.ubuntu.com/ubuntu bionic/universe amd64 texlive-latex-extra all 2017.20180305-2 [10.6 MB]\n",
            "Get:88 http://archive.ubuntu.com/ubuntu bionic/universe amd64 texlive-plain-generic all 2017.20180305-2 [23.6 MB]\n",
            "Get:89 http://archive.ubuntu.com/ubuntu bionic/universe amd64 tipa all 2:1.3-20 [2,978 kB]\n",
            "Fetched 554 MB in 49s (11.4 MB/s)\n",
            "Extracting templates from packages: 100%\n",
            "Preconfiguring packages ...\n",
            "Selecting previously unselected package fonts-droid-fallback.\n",
            "(Reading database ... 144611 files and directories currently installed.)\n",
            "Preparing to unpack .../00-fonts-droid-fallback_1%3a6.0.1r16-1.1_all.deb ...\n",
            "Unpacking fonts-droid-fallback (1:6.0.1r16-1.1) ...\n",
            "Selecting previously unselected package fonts-lato.\n",
            "Preparing to unpack .../01-fonts-lato_2.0-2_all.deb ...\n",
            "Unpacking fonts-lato (2.0-2) ...\n",
            "Selecting previously unselected package poppler-data.\n",
            "Preparing to unpack .../02-poppler-data_0.4.8-2_all.deb ...\n",
            "Unpacking poppler-data (0.4.8-2) ...\n",
            "Selecting previously unselected package tex-common.\n",
            "Preparing to unpack .../03-tex-common_6.09_all.deb ...\n",
            "Unpacking tex-common (6.09) ...\n",
            "Selecting previously unselected package libkpathsea6:amd64.\n",
            "Preparing to unpack .../04-libkpathsea6_2017.20170613.44572-8ubuntu0.1_amd64.deb ...\n",
            "Unpacking libkpathsea6:amd64 (2017.20170613.44572-8ubuntu0.1) ...\n",
            "Selecting previously unselected package libptexenc1:amd64.\n",
            "Preparing to unpack .../05-libptexenc1_2017.20170613.44572-8ubuntu0.1_amd64.deb ...\n",
            "Unpacking libptexenc1:amd64 (2017.20170613.44572-8ubuntu0.1) ...\n",
            "Selecting previously unselected package libsynctex1:amd64.\n",
            "Preparing to unpack .../06-libsynctex1_2017.20170613.44572-8ubuntu0.1_amd64.deb ...\n",
            "Unpacking libsynctex1:amd64 (2017.20170613.44572-8ubuntu0.1) ...\n",
            "Selecting previously unselected package libtexlua52:amd64.\n",
            "Preparing to unpack .../07-libtexlua52_2017.20170613.44572-8ubuntu0.1_amd64.deb ...\n",
            "Unpacking libtexlua52:amd64 (2017.20170613.44572-8ubuntu0.1) ...\n",
            "Selecting previously unselected package libtexluajit2:amd64.\n",
            "Preparing to unpack .../08-libtexluajit2_2017.20170613.44572-8ubuntu0.1_amd64.deb ...\n",
            "Unpacking libtexluajit2:amd64 (2017.20170613.44572-8ubuntu0.1) ...\n",
            "Selecting previously unselected package t1utils.\n",
            "Preparing to unpack .../09-t1utils_1.41-2_amd64.deb ...\n",
            "Unpacking t1utils (1.41-2) ...\n",
            "Selecting previously unselected package libcupsimage2:amd64.\n",
            "Preparing to unpack .../10-libcupsimage2_2.2.7-1ubuntu2.8_amd64.deb ...\n",
            "Unpacking libcupsimage2:amd64 (2.2.7-1ubuntu2.8) ...\n",
            "Selecting previously unselected package libijs-0.35:amd64.\n",
            "Preparing to unpack .../11-libijs-0.35_0.35-13_amd64.deb ...\n",
            "Unpacking libijs-0.35:amd64 (0.35-13) ...\n",
            "Selecting previously unselected package libjbig2dec0:amd64.\n",
            "Preparing to unpack .../12-libjbig2dec0_0.13-6_amd64.deb ...\n",
            "Unpacking libjbig2dec0:amd64 (0.13-6) ...\n",
            "Selecting previously unselected package libgs9-common.\n",
            "Preparing to unpack .../13-libgs9-common_9.26~dfsg+0-0ubuntu0.18.04.13_all.deb ...\n",
            "Unpacking libgs9-common (9.26~dfsg+0-0ubuntu0.18.04.13) ...\n",
            "Selecting previously unselected package libgs9:amd64.\n",
            "Preparing to unpack .../14-libgs9_9.26~dfsg+0-0ubuntu0.18.04.13_amd64.deb ...\n",
            "Unpacking libgs9:amd64 (9.26~dfsg+0-0ubuntu0.18.04.13) ...\n",
            "Selecting previously unselected package libpotrace0.\n",
            "Preparing to unpack .../15-libpotrace0_1.14-2_amd64.deb ...\n",
            "Unpacking libpotrace0 (1.14-2) ...\n",
            "Selecting previously unselected package libzzip-0-13:amd64.\n",
            "Preparing to unpack .../16-libzzip-0-13_0.13.62-3.1ubuntu0.18.04.1_amd64.deb ...\n",
            "Unpacking libzzip-0-13:amd64 (0.13.62-3.1ubuntu0.18.04.1) ...\n",
            "Selecting previously unselected package texlive-binaries.\n",
            "Preparing to unpack .../17-texlive-binaries_2017.20170613.44572-8ubuntu0.1_amd64.deb ...\n",
            "Unpacking texlive-binaries (2017.20170613.44572-8ubuntu0.1) ...\n",
            "Selecting previously unselected package texlive-base.\n",
            "Preparing to unpack .../18-texlive-base_2017.20180305-1_all.deb ...\n",
            "Unpacking texlive-base (2017.20180305-1) ...\n",
            "Selecting previously unselected package fonts-lmodern.\n",
            "Preparing to unpack .../19-fonts-lmodern_2.004.5-3_all.deb ...\n",
            "Unpacking fonts-lmodern (2.004.5-3) ...\n",
            "Selecting previously unselected package texlive-latex-base.\n",
            "Preparing to unpack .../20-texlive-latex-base_2017.20180305-1_all.deb ...\n",
            "Unpacking texlive-latex-base (2017.20180305-1) ...\n",
            "Selecting previously unselected package texlive-latex-recommended.\n",
            "Preparing to unpack .../21-texlive-latex-recommended_2017.20180305-1_all.deb ...\n",
            "Unpacking texlive-latex-recommended (2017.20180305-1) ...\n",
            "Selecting previously unselected package cm-super-minimal.\n",
            "Preparing to unpack .../22-cm-super-minimal_0.3.4-11_all.deb ...\n",
            "Unpacking cm-super-minimal (0.3.4-11) ...\n",
            "Selecting previously unselected package pfb2t1c2pfb.\n",
            "Preparing to unpack .../23-pfb2t1c2pfb_0.3-11_amd64.deb ...\n",
            "Unpacking pfb2t1c2pfb (0.3-11) ...\n",
            "Selecting previously unselected package cm-super.\n",
            "Preparing to unpack .../24-cm-super_0.3.4-11_all.deb ...\n",
            "Unpacking cm-super (0.3.4-11) ...\n",
            "Selecting previously unselected package ghostscript.\n",
            "Preparing to unpack .../25-ghostscript_9.26~dfsg+0-0ubuntu0.18.04.13_amd64.deb ...\n",
            "Unpacking ghostscript (9.26~dfsg+0-0ubuntu0.18.04.13) ...\n",
            "Selecting previously unselected package dvipng.\n",
            "Preparing to unpack .../26-dvipng_1.15-1_amd64.deb ...\n",
            "Unpacking dvipng (1.15-1) ...\n",
            "Selecting previously unselected package fonts-adf-accanthis.\n",
            "Preparing to unpack .../27-fonts-adf-accanthis_0.20110505-1_all.deb ...\n",
            "Unpacking fonts-adf-accanthis (0.20110505-1) ...\n",
            "Selecting previously unselected package fonts-adf-berenis.\n",
            "Preparing to unpack .../28-fonts-adf-berenis_0.20110505-1_all.deb ...\n",
            "Unpacking fonts-adf-berenis (0.20110505-1) ...\n",
            "Selecting previously unselected package fonts-adf-gillius.\n",
            "Preparing to unpack .../29-fonts-adf-gillius_0.20110505-1_all.deb ...\n",
            "Unpacking fonts-adf-gillius (0.20110505-1) ...\n",
            "Selecting previously unselected package fonts-adf-universalis.\n",
            "Preparing to unpack .../30-fonts-adf-universalis_0.20110505-1_all.deb ...\n",
            "Unpacking fonts-adf-universalis (0.20110505-1) ...\n",
            "Selecting previously unselected package fonts-cabin.\n",
            "Preparing to unpack .../31-fonts-cabin_1.5-2_all.deb ...\n",
            "Unpacking fonts-cabin (1.5-2) ...\n",
            "Selecting previously unselected package fonts-comfortaa.\n",
            "Preparing to unpack .../32-fonts-comfortaa_3.001-2_all.deb ...\n",
            "Unpacking fonts-comfortaa (3.001-2) ...\n",
            "Selecting previously unselected package fonts-croscore.\n",
            "Preparing to unpack .../33-fonts-croscore_20171026-2_all.deb ...\n",
            "Unpacking fonts-croscore (20171026-2) ...\n",
            "Selecting previously unselected package fonts-crosextra-caladea.\n",
            "Preparing to unpack .../34-fonts-crosextra-caladea_20130214-2_all.deb ...\n",
            "Unpacking fonts-crosextra-caladea (20130214-2) ...\n",
            "Selecting previously unselected package fonts-crosextra-carlito.\n",
            "Preparing to unpack .../35-fonts-crosextra-carlito_20130920-1_all.deb ...\n",
            "Unpacking fonts-crosextra-carlito (20130920-1) ...\n",
            "Selecting previously unselected package fonts-dejavu-core.\n",
            "Preparing to unpack .../36-fonts-dejavu-core_2.37-1_all.deb ...\n",
            "Unpacking fonts-dejavu-core (2.37-1) ...\n",
            "Selecting previously unselected package fonts-dejavu-extra.\n",
            "Preparing to unpack .../37-fonts-dejavu-extra_2.37-1_all.deb ...\n",
            "Unpacking fonts-dejavu-extra (2.37-1) ...\n",
            "Selecting previously unselected package fonts-ebgaramond.\n",
            "Preparing to unpack .../38-fonts-ebgaramond_0.016-1_all.deb ...\n",
            "Unpacking fonts-ebgaramond (0.016-1) ...\n",
            "Selecting previously unselected package fonts-ebgaramond-extra.\n",
            "Preparing to unpack .../39-fonts-ebgaramond-extra_0.016-1_all.deb ...\n",
            "Unpacking fonts-ebgaramond-extra (0.016-1) ...\n",
            "Selecting previously unselected package fonts-font-awesome.\n",
            "Preparing to unpack .../40-fonts-font-awesome_4.7.0~dfsg-3_all.deb ...\n",
            "Unpacking fonts-font-awesome (4.7.0~dfsg-3) ...\n",
            "Selecting previously unselected package fonts-freefont-otf.\n",
            "Preparing to unpack .../41-fonts-freefont-otf_20120503-7_all.deb ...\n",
            "Unpacking fonts-freefont-otf (20120503-7) ...\n",
            "Selecting previously unselected package fonts-freefont-ttf.\n",
            "Preparing to unpack .../42-fonts-freefont-ttf_20120503-7_all.deb ...\n",
            "Unpacking fonts-freefont-ttf (20120503-7) ...\n",
            "Selecting previously unselected package fonts-gfs-artemisia.\n",
            "Preparing to unpack .../43-fonts-gfs-artemisia_1.1-5_all.deb ...\n",
            "Unpacking fonts-gfs-artemisia (1.1-5) ...\n",
            "Selecting previously unselected package fonts-gfs-complutum.\n",
            "Preparing to unpack .../44-fonts-gfs-complutum_1.1-6_all.deb ...\n",
            "Unpacking fonts-gfs-complutum (1.1-6) ...\n",
            "Selecting previously unselected package fonts-gfs-didot.\n",
            "Preparing to unpack .../45-fonts-gfs-didot_1.1-6_all.deb ...\n",
            "Unpacking fonts-gfs-didot (1.1-6) ...\n",
            "Selecting previously unselected package fonts-gfs-neohellenic.\n",
            "Preparing to unpack .../46-fonts-gfs-neohellenic_1.1-6_all.deb ...\n",
            "Unpacking fonts-gfs-neohellenic (1.1-6) ...\n",
            "Selecting previously unselected package fonts-gfs-olga.\n",
            "Preparing to unpack .../47-fonts-gfs-olga_1.1-5_all.deb ...\n",
            "Unpacking fonts-gfs-olga (1.1-5) ...\n",
            "Selecting previously unselected package fonts-gfs-solomos.\n",
            "Preparing to unpack .../48-fonts-gfs-solomos_1.1-5_all.deb ...\n",
            "Unpacking fonts-gfs-solomos (1.1-5) ...\n",
            "Selecting previously unselected package fonts-go.\n",
            "Preparing to unpack .../49-fonts-go_0~20161116-1_all.deb ...\n",
            "Unpacking fonts-go (0~20161116-1) ...\n",
            "Selecting previously unselected package fonts-junicode.\n",
            "Preparing to unpack .../50-fonts-junicode_1.001-2_all.deb ...\n",
            "Unpacking fonts-junicode (1.001-2) ...\n",
            "Selecting previously unselected package fonts-linuxlibertine.\n",
            "Preparing to unpack .../51-fonts-linuxlibertine_5.3.0-4_all.deb ...\n",
            "Unpacking fonts-linuxlibertine (5.3.0-4) ...\n",
            "Selecting previously unselected package fonts-lobster.\n",
            "Preparing to unpack .../52-fonts-lobster_2.0-2_all.deb ...\n",
            "Unpacking fonts-lobster (2.0-2) ...\n",
            "Selecting previously unselected package fonts-lobstertwo.\n",
            "Preparing to unpack .../53-fonts-lobstertwo_2.0-2_all.deb ...\n",
            "Unpacking fonts-lobstertwo (2.0-2) ...\n",
            "Selecting previously unselected package fonts-noto-hinted.\n",
            "Preparing to unpack .../54-fonts-noto-hinted_20171026-2_all.deb ...\n",
            "Unpacking fonts-noto-hinted (20171026-2) ...\n",
            "Selecting previously unselected package fonts-noto-mono.\n",
            "Preparing to unpack .../55-fonts-noto-mono_20171026-2_all.deb ...\n",
            "Unpacking fonts-noto-mono (20171026-2) ...\n",
            "Selecting previously unselected package fonts-oflb-asana-math.\n",
            "Preparing to unpack .../56-fonts-oflb-asana-math_000.907-6_all.deb ...\n",
            "Unpacking fonts-oflb-asana-math (000.907-6) ...\n",
            "Selecting previously unselected package fonts-open-sans.\n",
            "Preparing to unpack .../57-fonts-open-sans_1.11-1_all.deb ...\n",
            "Unpacking fonts-open-sans (1.11-1) ...\n",
            "Selecting previously unselected package fonts-roboto-hinted.\n",
            "Preparing to unpack .../58-fonts-roboto-hinted_2%3a0~20160106-2_all.deb ...\n",
            "Unpacking fonts-roboto-hinted (2:0~20160106-2) ...\n",
            "Selecting previously unselected package fonts-sil-gentium.\n",
            "Preparing to unpack .../59-fonts-sil-gentium_20081126%3a1.03-2_all.deb ...\n",
            "Unpacking fonts-sil-gentium (20081126:1.03-2) ...\n",
            "Selecting previously unselected package fonts-sil-gentium-basic.\n",
            "Preparing to unpack .../60-fonts-sil-gentium-basic_1.102-1_all.deb ...\n",
            "Unpacking fonts-sil-gentium-basic (1.102-1) ...\n",
            "Selecting previously unselected package fonts-sil-gentiumplus.\n",
            "Preparing to unpack .../61-fonts-sil-gentiumplus_5.000-2_all.deb ...\n",
            "Unpacking fonts-sil-gentiumplus (5.000-2) ...\n",
            "Selecting previously unselected package fonts-sil-gentiumplus-compact.\n",
            "Preparing to unpack .../62-fonts-sil-gentiumplus-compact_5.000-2_all.deb ...\n",
            "Unpacking fonts-sil-gentiumplus-compact (5.000-2) ...\n",
            "Selecting previously unselected package fonts-texgyre.\n",
            "Preparing to unpack .../63-fonts-texgyre_20160520-1_all.deb ...\n",
            "Unpacking fonts-texgyre (20160520-1) ...\n",
            "Selecting previously unselected package gsfonts.\n",
            "Preparing to unpack .../64-gsfonts_1%3a8.11+urwcyr1.0.7~pre44-4.4_all.deb ...\n",
            "Unpacking gsfonts (1:8.11+urwcyr1.0.7~pre44-4.4) ...\n",
            "Selecting previously unselected package javascript-common.\n",
            "Preparing to unpack .../65-javascript-common_11_all.deb ...\n",
            "Unpacking javascript-common (11) ...\n",
            "Selecting previously unselected package libcupsfilters1:amd64.\n",
            "Preparing to unpack .../66-libcupsfilters1_1.20.2-0ubuntu3.1_amd64.deb ...\n",
            "Unpacking libcupsfilters1:amd64 (1.20.2-0ubuntu3.1) ...\n",
            "Selecting previously unselected package libjs-jquery.\n",
            "Preparing to unpack .../67-libjs-jquery_3.2.1-1_all.deb ...\n",
            "Unpacking libjs-jquery (3.2.1-1) ...\n",
            "Selecting previously unselected package rubygems-integration.\n",
            "Preparing to unpack .../68-rubygems-integration_1.11_all.deb ...\n",
            "Unpacking rubygems-integration (1.11) ...\n",
            "Selecting previously unselected package ruby2.5.\n",
            "Preparing to unpack .../69-ruby2.5_2.5.1-1ubuntu1.6_amd64.deb ...\n",
            "Unpacking ruby2.5 (2.5.1-1ubuntu1.6) ...\n",
            "Selecting previously unselected package ruby.\n",
            "Preparing to unpack .../70-ruby_1%3a2.5.1_amd64.deb ...\n",
            "Unpacking ruby (1:2.5.1) ...\n",
            "Selecting previously unselected package rake.\n",
            "Preparing to unpack .../71-rake_12.3.1-1ubuntu0.1_all.deb ...\n",
            "Unpacking rake (12.3.1-1ubuntu0.1) ...\n",
            "Selecting previously unselected package ruby-did-you-mean.\n",
            "Preparing to unpack .../72-ruby-did-you-mean_1.2.0-2_all.deb ...\n",
            "Unpacking ruby-did-you-mean (1.2.0-2) ...\n",
            "Selecting previously unselected package ruby-minitest.\n",
            "Preparing to unpack .../73-ruby-minitest_5.10.3-1_all.deb ...\n",
            "Unpacking ruby-minitest (5.10.3-1) ...\n",
            "Selecting previously unselected package ruby-net-telnet.\n",
            "Preparing to unpack .../74-ruby-net-telnet_0.1.1-2_all.deb ...\n",
            "Unpacking ruby-net-telnet (0.1.1-2) ...\n",
            "Selecting previously unselected package ruby-power-assert.\n",
            "Preparing to unpack .../75-ruby-power-assert_0.3.0-1_all.deb ...\n",
            "Unpacking ruby-power-assert (0.3.0-1) ...\n",
            "Selecting previously unselected package ruby-test-unit.\n",
            "Preparing to unpack .../76-ruby-test-unit_3.2.5-1_all.deb ...\n",
            "Unpacking ruby-test-unit (3.2.5-1) ...\n",
            "Selecting previously unselected package libruby2.5:amd64.\n",
            "Preparing to unpack .../77-libruby2.5_2.5.1-1ubuntu1.6_amd64.deb ...\n",
            "Unpacking libruby2.5:amd64 (2.5.1-1ubuntu1.6) ...\n",
            "Selecting previously unselected package lmodern.\n",
            "Preparing to unpack .../78-lmodern_2.004.5-3_all.deb ...\n",
            "Unpacking lmodern (2.004.5-3) ...\n",
            "Selecting previously unselected package preview-latex-style.\n",
            "Preparing to unpack .../79-preview-latex-style_11.91-1ubuntu1_all.deb ...\n",
            "Unpacking preview-latex-style (11.91-1ubuntu1) ...\n",
            "Selecting previously unselected package tex-gyre.\n",
            "Preparing to unpack .../80-tex-gyre_20160520-1_all.deb ...\n",
            "Unpacking tex-gyre (20160520-1) ...\n",
            "Selecting previously unselected package texlive-fonts-extra.\n",
            "Preparing to unpack .../81-texlive-fonts-extra_2017.20180305-2_all.deb ...\n",
            "Unpacking texlive-fonts-extra (2017.20180305-2) ...\n",
            "Selecting previously unselected package fonts-stix.\n",
            "Preparing to unpack .../82-fonts-stix_1.1.1-4_all.deb ...\n",
            "Unpacking fonts-stix (1.1.1-4) ...\n",
            "Selecting previously unselected package texlive-fonts-extra-links.\n",
            "Preparing to unpack .../83-texlive-fonts-extra-links_2017.20180305-2_all.deb ...\n",
            "Unpacking texlive-fonts-extra-links (2017.20180305-2) ...\n",
            "Selecting previously unselected package texlive-fonts-recommended.\n",
            "Preparing to unpack .../84-texlive-fonts-recommended_2017.20180305-1_all.deb ...\n",
            "Unpacking texlive-fonts-recommended (2017.20180305-1) ...\n",
            "Selecting previously unselected package texlive-pictures.\n",
            "Preparing to unpack .../85-texlive-pictures_2017.20180305-1_all.deb ...\n",
            "Unpacking texlive-pictures (2017.20180305-1) ...\n",
            "Selecting previously unselected package texlive-latex-extra.\n",
            "Preparing to unpack .../86-texlive-latex-extra_2017.20180305-2_all.deb ...\n",
            "Unpacking texlive-latex-extra (2017.20180305-2) ...\n",
            "Selecting previously unselected package texlive-plain-generic.\n",
            "Preparing to unpack .../87-texlive-plain-generic_2017.20180305-2_all.deb ...\n",
            "Unpacking texlive-plain-generic (2017.20180305-2) ...\n",
            "Selecting previously unselected package tipa.\n",
            "Preparing to unpack .../88-tipa_2%3a1.3-20_all.deb ...\n",
            "Unpacking tipa (2:1.3-20) ...\n",
            "Setting up libgs9-common (9.26~dfsg+0-0ubuntu0.18.04.13) ...\n",
            "Setting up libkpathsea6:amd64 (2017.20170613.44572-8ubuntu0.1) ...\n",
            "Setting up libjs-jquery (3.2.1-1) ...\n",
            "Setting up libtexlua52:amd64 (2017.20170613.44572-8ubuntu0.1) ...\n",
            "Setting up fonts-droid-fallback (1:6.0.1r16-1.1) ...\n",
            "Setting up libsynctex1:amd64 (2017.20170613.44572-8ubuntu0.1) ...\n",
            "Setting up libptexenc1:amd64 (2017.20170613.44572-8ubuntu0.1) ...\n",
            "Setting up fonts-gfs-neohellenic (1.1-6) ...\n",
            "Setting up tex-common (6.09) ...\n",
            "update-language: texlive-base not installed and configured, doing nothing!\n",
            "Setting up fonts-stix (1.1.1-4) ...\n",
            "Setting up fonts-comfortaa (3.001-2) ...\n",
            "Setting up gsfonts (1:8.11+urwcyr1.0.7~pre44-4.4) ...\n",
            "Setting up fonts-dejavu-core (2.37-1) ...\n",
            "Setting up fonts-linuxlibertine (5.3.0-4) ...\n",
            "Setting up poppler-data (0.4.8-2) ...\n",
            "Setting up fonts-oflb-asana-math (000.907-6) ...\n",
            "Setting up tex-gyre (20160520-1) ...\n",
            "Setting up fonts-lobster (2.0-2) ...\n",
            "Setting up fonts-gfs-solomos (1.1-5) ...\n",
            "Setting up fonts-adf-accanthis (0.20110505-1) ...\n",
            "Setting up fonts-freefont-otf (20120503-7) ...\n",
            "Setting up preview-latex-style (11.91-1ubuntu1) ...\n",
            "Setting up fonts-open-sans (1.11-1) ...\n",
            "Setting up fonts-texgyre (20160520-1) ...\n",
            "Setting up fonts-crosextra-carlito (20130920-1) ...\n",
            "Setting up pfb2t1c2pfb (0.3-11) ...\n",
            "Setting up fonts-ebgaramond-extra (0.016-1) ...\n",
            "Setting up fonts-font-awesome (4.7.0~dfsg-3) ...\n",
            "Setting up fonts-junicode (1.001-2) ...\n",
            "Setting up fonts-noto-mono (20171026-2) ...\n",
            "Setting up fonts-lato (2.0-2) ...\n",
            "Setting up libcupsfilters1:amd64 (1.20.2-0ubuntu3.1) ...\n",
            "Setting up fonts-gfs-complutum (1.1-6) ...\n",
            "Setting up fonts-cabin (1.5-2) ...\n",
            "Setting up libcupsimage2:amd64 (2.2.7-1ubuntu2.8) ...\n",
            "Setting up fonts-sil-gentiumplus-compact (5.000-2) ...\n",
            "Setting up libjbig2dec0:amd64 (0.13-6) ...\n",
            "Setting up ruby-did-you-mean (1.2.0-2) ...\n",
            "Setting up fonts-adf-gillius (0.20110505-1) ...\n",
            "Setting up fonts-crosextra-caladea (20130214-2) ...\n",
            "Setting up fonts-noto-hinted (20171026-2) ...\n",
            "Setting up t1utils (1.41-2) ...\n",
            "Setting up fonts-ebgaramond (0.016-1) ...\n",
            "Setting up ruby-net-telnet (0.1.1-2) ...\n",
            "Setting up fonts-croscore (20171026-2) ...\n",
            "Setting up libijs-0.35:amd64 (0.35-13) ...\n",
            "Setting up rubygems-integration (1.11) ...\n",
            "Setting up libpotrace0 (1.14-2) ...\n",
            "Setting up fonts-adf-berenis (0.20110505-1) ...\n",
            "Setting up fonts-adf-universalis (0.20110505-1) ...\n",
            "Setting up fonts-sil-gentiumplus (5.000-2) ...\n",
            "Setting up fonts-gfs-didot (1.1-6) ...\n",
            "Setting up javascript-common (11) ...\n",
            "Setting up fonts-gfs-artemisia (1.1-5) ...\n",
            "Setting up fonts-dejavu-extra (2.37-1) ...\n",
            "Setting up fonts-freefont-ttf (20120503-7) ...\n",
            "Setting up ruby-minitest (5.10.3-1) ...\n",
            "Setting up fonts-go (0~20161116-1) ...\n",
            "Setting up libzzip-0-13:amd64 (0.13.62-3.1ubuntu0.18.04.1) ...\n",
            "Setting up fonts-sil-gentium (20081126:1.03-2) ...\n",
            "Setting up libgs9:amd64 (9.26~dfsg+0-0ubuntu0.18.04.13) ...\n",
            "Setting up fonts-sil-gentium-basic (1.102-1) ...\n",
            "Setting up libtexluajit2:amd64 (2017.20170613.44572-8ubuntu0.1) ...\n",
            "Setting up fonts-gfs-olga (1.1-5) ...\n",
            "Setting up fonts-lmodern (2.004.5-3) ...\n",
            "Setting up ruby-power-assert (0.3.0-1) ...\n",
            "Setting up fonts-roboto-hinted (2:0~20160106-2) ...\n",
            "Setting up fonts-lobstertwo (2.0-2) ...\n",
            "Setting up ghostscript (9.26~dfsg+0-0ubuntu0.18.04.13) ...\n",
            "Setting up texlive-binaries (2017.20170613.44572-8ubuntu0.1) ...\n",
            "update-alternatives: using /usr/bin/xdvi-xaw to provide /usr/bin/xdvi.bin (xdvi.bin) in auto mode\n",
            "update-alternatives: using /usr/bin/bibtex.original to provide /usr/bin/bibtex (bibtex) in auto mode\n",
            "Setting up texlive-base (2017.20180305-1) ...\n",
            "mktexlsr: Updating /var/lib/texmf/ls-R-TEXLIVEDIST... \n",
            "mktexlsr: Updating /var/lib/texmf/ls-R-TEXMFMAIN... \n",
            "mktexlsr: Updating /var/lib/texmf/ls-R... \n",
            "mktexlsr: Done.\n",
            "tl-paper: setting paper size for dvips to a4: /var/lib/texmf/dvips/config/config-paper.ps\n",
            "tl-paper: setting paper size for dvipdfmx to a4: /var/lib/texmf/dvipdfmx/dvipdfmx-paper.cfg\n",
            "tl-paper: setting paper size for xdvi to a4: /var/lib/texmf/xdvi/XDvi-paper\n",
            "tl-paper: setting paper size for pdftex to a4: /var/lib/texmf/tex/generic/config/pdftexconfig.tex\n",
            "Setting up texlive-fonts-extra-links (2017.20180305-2) ...\n",
            "Setting up texlive-fonts-recommended (2017.20180305-1) ...\n",
            "Setting up texlive-plain-generic (2017.20180305-2) ...\n",
            "Setting up texlive-latex-base (2017.20180305-1) ...\n",
            "Setting up lmodern (2.004.5-3) ...\n",
            "Setting up texlive-latex-recommended (2017.20180305-1) ...\n",
            "Setting up texlive-fonts-extra (2017.20180305-2) ...\n",
            "Setting up texlive-pictures (2017.20180305-1) ...\n",
            "Setting up dvipng (1.15-1) ...\n",
            "Setting up tipa (2:1.3-20) ...\n",
            "Regenerating '/var/lib/texmf/fmtutil.cnf-DEBIAN'... done.\n",
            "Regenerating '/var/lib/texmf/fmtutil.cnf-TEXLIVEDIST'... done.\n",
            "update-fmtutil has updated the following file(s):\n",
            "\t/var/lib/texmf/fmtutil.cnf-DEBIAN\n",
            "\t/var/lib/texmf/fmtutil.cnf-TEXLIVEDIST\n",
            "If you want to activate the changes in the above file(s),\n",
            "you should run fmtutil-sys or fmtutil.\n",
            "Setting up cm-super-minimal (0.3.4-11) ...\n",
            "Setting up texlive-latex-extra (2017.20180305-2) ...\n",
            "Setting up cm-super (0.3.4-11) ...\n",
            "Creating fonts. This may take some time... done.\n",
            "Setting up rake (12.3.1-1ubuntu0.1) ...\n",
            "Setting up ruby2.5 (2.5.1-1ubuntu1.6) ...\n",
            "Setting up ruby (1:2.5.1) ...\n",
            "Setting up ruby-test-unit (3.2.5-1) ...\n",
            "Setting up libruby2.5:amd64 (2.5.1-1ubuntu1.6) ...\n",
            "Processing triggers for mime-support (3.60ubuntu1) ...\n",
            "Processing triggers for libc-bin (2.27-3ubuntu1.2) ...\n",
            "/sbin/ldconfig.real: /usr/local/lib/python3.6/dist-packages/ideep4py/lib/libmkldnn.so.0 is not a symbolic link\n",
            "\n",
            "Processing triggers for man-db (2.8.3-2ubuntu0.1) ...\n",
            "Processing triggers for fontconfig (2.12.6-0ubuntu2) ...\n",
            "Processing triggers for tex-common (6.09) ...\n",
            "Running updmap-sys. This may take some time... done.\n",
            "Running mktexlsr /var/lib/texmf ... done.\n",
            "Building format(s) --all.\n",
            "\tThis may take some time... done.\n"
          ],
          "name": "stdout"
        }
      ]
    },
    {
      "cell_type": "markdown",
      "metadata": {
        "id": "HZP8zo3ttFKD"
      },
      "source": [
        "## $\\zdtone$\n",
        "\n",
        "Here is the formal definition of the $\\zdtone$ function.\n",
        "\n",
        "**Definition ($\\zdtone$)**: A bi-objective test function with a convex Pareto-optimal front. The function is defined as\n",
        "\\begin{align*}\n",
        "\\zdtone(x) &= (f_1(x),f_2(x)), \\\\\n",
        "f_1(x) &= x_1,\\\\\n",
        "f_2(x) &= g(x)\\cdot\\left(1-\\sqrt{\\frac{x_1}{g(x)}}\\right),\\\\\n",
        "g(x) &= 1+\\frac{9}{n-1}\\sum_{i=2}^{n}x_i,\n",
        "\\end{align*}\n",
        "with $0\\leq x_i\\leq 1$, for $1\\leq i \\leq n$."
      ]
    },
    {
      "cell_type": "markdown",
      "metadata": {
        "id": "mpCNqY1aKoT9"
      },
      "source": [
        "### Function Definition\n",
        "\n",
        "Here is the definition of the $\\zdtone$ function."
      ]
    },
    {
      "cell_type": "code",
      "metadata": {
        "id": "Pl9CNcAnyv9v"
      },
      "source": [
        "def ZDT1(x):\n",
        "  f1 = x[0]\n",
        "  g = 1 + (9 / (len(x)-1)) * sum(x[1:])\n",
        "  f2 = g * (1 - np.sqrt(x[0]/g))\n",
        "  return [f1, f2]"
      ],
      "execution_count": 185,
      "outputs": []
    },
    {
      "cell_type": "markdown",
      "metadata": {
        "id": "aMOD1eciGkhv"
      },
      "source": [
        "By replacing `f2` from the previously defined $\\zdtone$ function with $f_2=1-\\sqrt{x_1}$ you can obtain values from the Pareto-optimal objective vectors. In the following cell you can generate Pareto-optimal objective vectors and print them using a pandas' Dataframe. "
      ]
    },
    {
      "cell_type": "code",
      "metadata": {
        "id": "x2_YsngOp54U",
        "outputId": "fdc481aa-c0c9-4e61-a083-80e84a3dc2cc",
        "colab": {
          "base_uri": "https://localhost:8080/",
          "height": 424
        }
      },
      "source": [
        "pareto_front = np.empty((0, 2))\n",
        "\n",
        "# Feel free to play with the parameter \"num\" so you can see the shape of the Pareto front.\n",
        "for f1 in np.linspace(0, 1, num=100):\n",
        "    f2 = 1 - np.sqrt(f1)\n",
        "    pareto_front = np.vstack([pareto_front, [f1, f2]])  \n",
        "\n",
        "# Convert to DataFrame and show its content\n",
        "pareto_front = pd.DataFrame(pareto_front, columns=['f1', 'f2'])  \n",
        "pareto_front"
      ],
      "execution_count": 3,
      "outputs": [
        {
          "output_type": "execute_result",
          "data": {
            "text/html": [
              "<div>\n",
              "<style scoped>\n",
              "    .dataframe tbody tr th:only-of-type {\n",
              "        vertical-align: middle;\n",
              "    }\n",
              "\n",
              "    .dataframe tbody tr th {\n",
              "        vertical-align: top;\n",
              "    }\n",
              "\n",
              "    .dataframe thead th {\n",
              "        text-align: right;\n",
              "    }\n",
              "</style>\n",
              "<table border=\"1\" class=\"dataframe\">\n",
              "  <thead>\n",
              "    <tr style=\"text-align: right;\">\n",
              "      <th></th>\n",
              "      <th>f1</th>\n",
              "      <th>f2</th>\n",
              "    </tr>\n",
              "  </thead>\n",
              "  <tbody>\n",
              "    <tr>\n",
              "      <th>0</th>\n",
              "      <td>0.000000</td>\n",
              "      <td>1.000000</td>\n",
              "    </tr>\n",
              "    <tr>\n",
              "      <th>1</th>\n",
              "      <td>0.010101</td>\n",
              "      <td>0.899496</td>\n",
              "    </tr>\n",
              "    <tr>\n",
              "      <th>2</th>\n",
              "      <td>0.020202</td>\n",
              "      <td>0.857866</td>\n",
              "    </tr>\n",
              "    <tr>\n",
              "      <th>3</th>\n",
              "      <td>0.030303</td>\n",
              "      <td>0.825922</td>\n",
              "    </tr>\n",
              "    <tr>\n",
              "      <th>4</th>\n",
              "      <td>0.040404</td>\n",
              "      <td>0.798992</td>\n",
              "    </tr>\n",
              "    <tr>\n",
              "      <th>...</th>\n",
              "      <td>...</td>\n",
              "      <td>...</td>\n",
              "    </tr>\n",
              "    <tr>\n",
              "      <th>95</th>\n",
              "      <td>0.959596</td>\n",
              "      <td>0.020410</td>\n",
              "    </tr>\n",
              "    <tr>\n",
              "      <th>96</th>\n",
              "      <td>0.969697</td>\n",
              "      <td>0.015268</td>\n",
              "    </tr>\n",
              "    <tr>\n",
              "      <th>97</th>\n",
              "      <td>0.979798</td>\n",
              "      <td>0.010153</td>\n",
              "    </tr>\n",
              "    <tr>\n",
              "      <th>98</th>\n",
              "      <td>0.989899</td>\n",
              "      <td>0.005063</td>\n",
              "    </tr>\n",
              "    <tr>\n",
              "      <th>99</th>\n",
              "      <td>1.000000</td>\n",
              "      <td>0.000000</td>\n",
              "    </tr>\n",
              "  </tbody>\n",
              "</table>\n",
              "<p>100 rows × 2 columns</p>\n",
              "</div>"
            ],
            "text/plain": [
              "          f1        f2\n",
              "0   0.000000  1.000000\n",
              "1   0.010101  0.899496\n",
              "2   0.020202  0.857866\n",
              "3   0.030303  0.825922\n",
              "4   0.040404  0.798992\n",
              "..       ...       ...\n",
              "95  0.959596  0.020410\n",
              "96  0.969697  0.015268\n",
              "97  0.979798  0.010153\n",
              "98  0.989899  0.005063\n",
              "99  1.000000  0.000000\n",
              "\n",
              "[100 rows x 2 columns]"
            ]
          },
          "metadata": {
            "tags": []
          },
          "execution_count": 3
        }
      ]
    },
    {
      "cell_type": "markdown",
      "metadata": {
        "id": "fazB-kzxqZZO"
      },
      "source": [
        "In the following cell you can plot the points from the previously generated dataset so you can visualise the shape of the Pareto-optimal ovjective vectors."
      ]
    },
    {
      "cell_type": "code",
      "metadata": {
        "id": "gKwNoWVPqNGe",
        "outputId": "1ad2ad8c-3c48-4394-cdd7-56c9f073f511",
        "colab": {
          "base_uri": "https://localhost:8080/",
          "height": 374
        }
      },
      "source": [
        "fig=plt.figure()\n",
        "ax=fig.add_axes([0,0,1,1])\n",
        "ax.scatter(pareto_front.f1, pareto_front.f2, color='b')\n",
        "ax.set_xlabel(r'$f_1$', size=15)\n",
        "ax.set_ylabel(r'$f_2$', size=15)\n",
        "ax.set_title(r'Pareto optimal front for $\\textsc{ZDT1}(x)$', size=15, y=-0.2)\n",
        "plt.show()"
      ],
      "execution_count": null,
      "outputs": [
        {
          "output_type": "display_data",
          "data": {
            "image/png": "[encoded data removed]",
            "text/plain": [
              "<Figure size 432x288 with 1 Axes>"
            ]
          },
          "metadata": {
            "tags": [],
            "needs_background": "light"
          }
        }
      ]
    },
    {
      "cell_type": "markdown",
      "metadata": {
        "id": "BW33sk-4rcE5"
      },
      "source": [
        "You can also read the Pareto-optimal vectors from the file provided in Canvas, stored them in a pandas' dataframe and print its content.  "
      ]
    },
    {
      "cell_type": "code",
      "metadata": {
        "id": "11Az_DILG11Z",
        "outputId": "6cde54db-992a-4c7a-bd88-dd5c87eb9e2b",
        "colab": {
          "base_uri": "https://localhost:8080/",
          "height": 424
        }
      },
      "source": [
        "# Before you run the code remember to specify a correct file path\n",
        "pareto_front = pd.read_csv('ZDT1.pf', delim_whitespace=True)\n",
        "pareto_front.columns = ['f1','f2']\n",
        "  \n",
        "pareto_front"
      ],
      "execution_count": null,
      "outputs": [
        {
          "output_type": "execute_result",
          "data": {
            "text/html": [
              "<div>\n",
              "<style scoped>\n",
              "    .dataframe tbody tr th:only-of-type {\n",
              "        vertical-align: middle;\n",
              "    }\n",
              "\n",
              "    .dataframe tbody tr th {\n",
              "        vertical-align: top;\n",
              "    }\n",
              "\n",
              "    .dataframe thead th {\n",
              "        text-align: right;\n",
              "    }\n",
              "</style>\n",
              "<table border=\"1\" class=\"dataframe\">\n",
              "  <thead>\n",
              "    <tr style=\"text-align: right;\">\n",
              "      <th></th>\n",
              "      <th>f1</th>\n",
              "      <th>f2</th>\n",
              "    </tr>\n",
              "  </thead>\n",
              "  <tbody>\n",
              "    <tr>\n",
              "      <th>0</th>\n",
              "      <td>0.001</td>\n",
              "      <td>0.968377</td>\n",
              "    </tr>\n",
              "    <tr>\n",
              "      <th>1</th>\n",
              "      <td>0.002</td>\n",
              "      <td>0.955279</td>\n",
              "    </tr>\n",
              "    <tr>\n",
              "      <th>2</th>\n",
              "      <td>0.003</td>\n",
              "      <td>0.945228</td>\n",
              "    </tr>\n",
              "    <tr>\n",
              "      <th>3</th>\n",
              "      <td>0.004</td>\n",
              "      <td>0.936754</td>\n",
              "    </tr>\n",
              "    <tr>\n",
              "      <th>4</th>\n",
              "      <td>0.005</td>\n",
              "      <td>0.929289</td>\n",
              "    </tr>\n",
              "    <tr>\n",
              "      <th>...</th>\n",
              "      <td>...</td>\n",
              "      <td>...</td>\n",
              "    </tr>\n",
              "    <tr>\n",
              "      <th>995</th>\n",
              "      <td>0.996</td>\n",
              "      <td>0.002002</td>\n",
              "    </tr>\n",
              "    <tr>\n",
              "      <th>996</th>\n",
              "      <td>0.997</td>\n",
              "      <td>0.001501</td>\n",
              "    </tr>\n",
              "    <tr>\n",
              "      <th>997</th>\n",
              "      <td>0.998</td>\n",
              "      <td>0.001001</td>\n",
              "    </tr>\n",
              "    <tr>\n",
              "      <th>998</th>\n",
              "      <td>0.999</td>\n",
              "      <td>0.000500</td>\n",
              "    </tr>\n",
              "    <tr>\n",
              "      <th>999</th>\n",
              "      <td>1.000</td>\n",
              "      <td>0.000000</td>\n",
              "    </tr>\n",
              "  </tbody>\n",
              "</table>\n",
              "<p>1000 rows × 2 columns</p>\n",
              "</div>"
            ],
            "text/plain": [
              "        f1        f2\n",
              "0    0.001  0.968377\n",
              "1    0.002  0.955279\n",
              "2    0.003  0.945228\n",
              "3    0.004  0.936754\n",
              "4    0.005  0.929289\n",
              "..     ...       ...\n",
              "995  0.996  0.002002\n",
              "996  0.997  0.001501\n",
              "997  0.998  0.001001\n",
              "998  0.999  0.000500\n",
              "999  1.000  0.000000\n",
              "\n",
              "[1000 rows x 2 columns]"
            ]
          },
          "metadata": {
            "tags": []
          },
          "execution_count": 7
        }
      ]
    },
    {
      "cell_type": "markdown",
      "metadata": {
        "id": "LzsSJFElMnCy"
      },
      "source": [
        "And again plot the Pareto-optimal objective vectors by running the following cell. As a sanity check, try running but options, automatically generated Pareto-optimal objective vectors and the ones in the file to corroborate that both shapes are the same."
      ]
    },
    {
      "cell_type": "code",
      "metadata": {
        "id": "-JEN4fwXIdh9",
        "outputId": "659972cd-e3fe-4eda-ce96-64e98f2a52dd",
        "colab": {
          "base_uri": "https://localhost:8080/",
          "height": 374
        }
      },
      "source": [
        "fig=plt.figure()\n",
        "ax=fig.add_axes([0,0,1,1])\n",
        "ax.scatter(pareto_front.f1, pareto_front.f2, color='b')\n",
        "ax.set_xlabel(r'$f_1$', size=15)\n",
        "ax.set_ylabel(r'$f_2$', size=15)\n",
        "ax.set_title(r'Pareto optimal front for $\\textsc{ZDT1}(x)$', size=15, y=-0.2)\n",
        "plt.show()"
      ],
      "execution_count": null,
      "outputs": [
        {
          "output_type": "display_data",
          "data": {
            "image/png": "[encoded data removed]",
            "text/plain": [
              "<Figure size 432x288 with 1 Axes>"
            ]
          },
          "metadata": {
            "tags": [],
            "needs_background": "light"
          }
        }
      ]
    },
    {
      "cell_type": "markdown",
      "metadata": {
        "id": "TFfoibZ-vHZN"
      },
      "source": [
        "### Parameters to use\n",
        "In the following section define the value of the parameters that your evolutionary strategy will use. I have added some examples of such parameters but depending on your solution you may want to add some more.\n",
        "\n",
        "Do not change the parameter values\n",
        "\n",
        "```\n",
        "# number_runs = 50\n",
        "# number_generations = 50000\n",
        "```\n",
        "Use these parameters to define the stopping criterion, you can use it as the maximum number of generations allowed for the algorithm to run or the maximum number of fitness evaluations allowed for the algorithm to run.\n",
        "\n",
        "That time is enough to find an acceptable approximation of the Pareto front of the $\\zdtone$. This is to avoid extreme definition of stopping criterions, I do not want to run the algorithm from millions of generations.\n",
        "\n",
        "Also, if you want to use another stopping criterion together with the number of generations you can do it. If your algorithm was able to find all Pareto-optimal objective vectors before all the time budget is used go ahead and stop the run.\n"
      ]
    },
    {
      "cell_type": "code",
      "metadata": {
        "id": "D-bKnk4p-3Z-"
      },
      "source": [
        "# YOU CAN CHANGE THE VALUES OF THE FOLLOWING PARAMETERS AND ADD ANY OTHER PARAMETER NEEDED IN YOUR SOLUTION\n",
        "population_size = 150\n",
        "offspring_size = 0 # not used\n",
        "mutation_prob = 0.1\n",
        "crossover_prob = 0\n",
        "problem_size =  2 # not used, fixed to 2.\n",
        "lEta = 13\n",
        "lowLim = 0\n",
        "upLim = 1\n",
        "tournamentSize = 2\n",
        "\n",
        "# DO NOT CHANGE THE VALUE OF THE LINE BELOW.\n",
        "number_runs = 50\n",
        "number_generations = 50000 # you can use this one as fitness function evaluations if you want\n"
      ],
      "execution_count": 293,
      "outputs": []
    },
    {
      "cell_type": "markdown",
      "metadata": {
        "id": "WArmGYS2-7pb"
      },
      "source": [
        "### Evolution Strategy for $\\zdtone$\n",
        "**The multiobjective problem ZDT1 is solved with the algorithm, NSGA II, explained by Deb, K. et al. [1]. The pseudo code presented in the paper in some parts it is not very clear therefore it was necessary to understand deeply the algorithm by reading the description to be able to propose a concrete solution for real coding. This is the reason the approach to implement the algorithm uses python objects which help to the storage of information for each individual. Having said that, the code is structured as follows:**\n",
        "1. The individuals are objects with attributes. The attributes are id, rank, m, n, distance, sp, and value. And for the initialization a list of this objects is created with random values within the range specified for the problem.\n",
        "2. The individuals are selected with tournament selection to be used for crossover, and later all the individuals are mutated.\n",
        "3. The parents and offsprings are concatenated to be used for the survival method.\n",
        "4. This is where the NSGA-II is used. It starts with the evaluation of the individual with the objectives functions. Then the rest of the attributes are reset to their original values. Later the fast-non-dominated-front algorthm is applied to the entire population. Next, the new population is filled based on the rank of the frontiers and the assigment of crowdwing distance is calculated as well. If the new population is not completely filled then the crowding distance is used. In this case it first performs a sort based on distance and finally the best individuals are used to complete the new population. \n",
        "5. The steps above are repeated until the numbers of runs is completed.\n",
        "\n",
        "\n",
        "Note: the representation of this problem is with real numbers."
      ]
    },
    {
      "cell_type": "markdown",
      "metadata": {
        "id": "Fm6pI3oB_DyQ"
      },
      "source": [
        "#### Initialisation\n",
        "**The following code is used to create the population. The first lines of code is the class \"individual\" which stores all the attributes of each individual and the functions inside the class are used to update the attributes. The last function creates a list with the individuals objects. The values of the individuals depend on the problem to be solved.**"
      ]
    },
    {
      "cell_type": "code",
      "metadata": {
        "id": "xHWFM1q5ww_R"
      },
      "source": [
        "import random\n",
        "import numpy as np\n",
        "\n",
        "#Creates the initial population\n",
        "class individual:\n",
        "  def __init__(self,i):\n",
        "    self.value = [random.uniform(0,1),random.uniform(0,1)]\n",
        "    self.sp = []\n",
        "    self.rank = 0\n",
        "    self.id = i\n",
        "    self.n = 0\n",
        "    self.m = []\n",
        "    self.distance = 0\n",
        "\n",
        "  def add(self, x):\n",
        "      self.sp.append(x)\n",
        "\n",
        "  def sumn(self):\n",
        "      self.n += 1\n",
        "\n",
        "  def subn(self):\n",
        "      self.n -= 1\n",
        "\n",
        "#only two values per individual\n",
        "def newpop(populationSize): \n",
        "  population = [None] * populationSize\n",
        "\n",
        "  for i in range(populationSize): \n",
        "    population[i] = individual(i)\n",
        "  return population"
      ],
      "execution_count": 187,
      "outputs": []
    },
    {
      "cell_type": "markdown",
      "metadata": {
        "id": "XYiupiji_Ijd"
      },
      "source": [
        "#### Stopping Criterion\n",
        "**The stop criterion used for this code is based on the number of allowed runs.**"
      ]
    },
    {
      "cell_type": "markdown",
      "metadata": {
        "id": "2US3dvM__ST3"
      },
      "source": [
        "#### Selection for Reproduction\n",
        "**The function below is tournament selection, it selects the best individual based on the number of individuals to be compared, this number is defined by \"tournament size\". The individuals to be compared are selected randomly. It also uses the function \"crowded_comparison_operator\", which helps to determine the best individual.**"
      ]
    },
    {
      "cell_type": "code",
      "metadata": {
        "id": "URpH6Mzn7UZT"
      },
      "source": [
        "#Tournament Selection\n",
        "# Implements the tournament selection.\n",
        "def select(population, tournamentSize):\n",
        "  winner = np.random.randint(0, len(population))\n",
        "  #print(\"first\",population[winner].rank,population[winner].distance )\n",
        "  for i in range(tournamentSize - 1):\n",
        "    rival = np.random.randint(0, len(population))\n",
        "    if (crowded_comparison_operator(population[rival],population[winner])):\n",
        "      winner = rival\n",
        "  #print(\"rival\",population[rival].rank,population[rival].distance )\n",
        "  return population[winner]"
      ],
      "execution_count": 188,
      "outputs": []
    },
    {
      "cell_type": "markdown",
      "metadata": {
        "id": "n3vuA3S8_ZGV"
      },
      "source": [
        "#### Variation\n",
        "**The code below are the functions for crossover and mutation. Both are used in the NSGA-II [1]. However, the methods are explained in [2]. This type of variation is used for real representation. The relevant parameters are cRate and mRate which is the threshold for them to be used. The other important parameter is lEta (lower case eta) which is used to specify the amount of variation.**"
      ]
    },
    {
      "cell_type": "code",
      "metadata": {
        "id": "3ssyD4-wznrS"
      },
      "source": [
        "#Crossover**\n",
        "import copy\n",
        "import random\n",
        "\n",
        "def sbx(parent1, parent2, lEta, cRate):\n",
        "  offspringA = copy.deepcopy(parent1)\n",
        "  offspringB = copy.deepcopy(parent2)\n",
        "\n",
        "  if random.random() <= cRate:\n",
        "    for i, (v1, v2) in enumerate(zip(offspringA.value, offspringB.value)):\n",
        "        rand = random.random()\n",
        "        if rand <= 0.5:\n",
        "            beta = 2. * rand\n",
        "        else:\n",
        "            beta = 1. / (2. * (1. - rand))\n",
        "        beta **= 1. / (lEta + 1.)\n",
        "        offspringA.value[i] = 0.5 * (((1 + beta) * v1) + ((1 - beta) * v2))\n",
        "        offspringB.value[i] = 0.5 * (((1 - beta) * v1) + ((1 + beta) * v2))\n",
        "\n",
        "  return offspringA, offspringB\n",
        "\n",
        "#Mutation**\n",
        "def polyMutation(ind, lowLim, uppLim, lEta, mRate):\n",
        "  parent = copy.deepcopy(ind)\n",
        "  for i in range(len(parent.value)):\n",
        "    if (random.random() <= mRate):\n",
        "      u = random.random()\n",
        "      delta = min((parent.value[i] - lowLim), (uppLim - parent.value[i])) / (uppLim - lowLim)\n",
        "      \n",
        "      if u <= 0.5:\n",
        "        deltaQ = (2*u + (1-2*u)*(1-delta)**(lEta + 1))**(1/(lEta + 1))-1\n",
        "      else:\n",
        "        deltaQ = 1-(1*(1-u)+2*(u-0.5)*(1-delta)**(lEta+1))**(1/(lEta+1))\n",
        "\n",
        "      parent.value[i] = parent.value[i] + deltaQ*(uppLim - lowLim)\n",
        "\n",
        "  return parent"
      ],
      "execution_count": 189,
      "outputs": []
    },
    {
      "cell_type": "markdown",
      "metadata": {
        "id": "t0vBlkd9_fbR"
      },
      "source": [
        "#### Selection for Survival\n",
        "\n",
        "**The following cells are the core of the NSGA-II:**\n",
        "\n",
        "+ *dominates*: this function compares individuals based on the definiton of frontiers. This is used by the fast_non_dominated_sort function.\n",
        "+ *fast_non_dominated_sort*: this used to assign frontier to each of the individuals in the population. \n",
        "+ *crowding_distance_assignment*: this function assigns distance between neighbors within the same frontier.\n",
        "+ *crowded_comparison_operator*: this is used to compare individuals once the distance attribute is filled. The idea is to compare the population of a frontier based on their distance.\n",
        "+ *nsgaII_step*: This is where all the small chunks of code are put together in order to have the NSGA-II working. "
      ]
    },
    {
      "cell_type": "code",
      "metadata": {
        "id": "-mcb2vleT6mU"
      },
      "source": [
        "#Dominates\n",
        "def dominates(a,b):\n",
        "  if (a[0] <= b[0]) & (a[1] <= b[1]):\n",
        "    dominator = True\n",
        "  else:\n",
        "    dominator = False\n",
        "  return dominator"
      ],
      "execution_count": 190,
      "outputs": []
    },
    {
      "cell_type": "code",
      "metadata": {
        "id": "N3im240qzKoV"
      },
      "source": [
        "def fast_non_dominated_sort(pop):\n",
        "  P = pop.copy()\n",
        "\n",
        "  #Fast-non-dominated-sort(P)\n",
        "  F = [] \n",
        "  f1 = [] \n",
        "\n",
        "  for i in range(len(P)):\n",
        "    Q = P.copy()\n",
        "    Q.pop(i)\n",
        "    for j in range(len(Q)):\n",
        "      if dominates(P[i].m,Q[j].m):#should be m\n",
        "        P[i].add(Q[j].id)#add to sp\n",
        "      elif dominates(Q[j].m,P[i].m):#should be m\n",
        "        P[i].sumn() #sum 1 to the n counter\n",
        "    if P[i].n == 0:\n",
        "      P[i].rank = 1\n",
        "      f1.append(P[i])\n",
        "\n",
        "  F.append(f1) \n",
        "  i = 0\n",
        "  while (len(F[i]) != 0):\n",
        "    Q = []\n",
        "    for p in F[i]:\n",
        "      for q in p.sp:\n",
        "        #encuentra el n de la q -> apuntador del id en pop\n",
        "        P[q].subn()\n",
        "        if P[q].n == 0:\n",
        "          P[q].rank = i+2\n",
        "          Q.append(P[q])\n",
        "    i += 1\n",
        "    F.append(Q)\n",
        "\n",
        "  return F"
      ],
      "execution_count": 191,
      "outputs": []
    },
    {
      "cell_type": "code",
      "metadata": {
        "id": "p_9WQZnpF5Tx"
      },
      "source": [
        "#Crowding distance assignment (debe de ser por frontera)\n",
        "#F tiene las fronteras\n",
        "def crowding_distance_assignment(pop):\n",
        "  P = pop.copy()\n",
        "\n",
        "  l = len(P)\n",
        "  for elem in P:\n",
        "    elem.distance = 0\n",
        "\n",
        "  #solo 2 objective functions \n",
        "  fmax = [1,6.84]\n",
        "  fmin = [0,1]\n",
        "\n",
        "  for i in range(2): #suma a la distancia las diferencias de los 2 objetivos con respecto a sus vecinos\n",
        "    #print(\"m: \", i)\n",
        "    newP = sorted(P, key=lambda x: x.m[i], reverse=False)\n",
        "    newP[0].distance = float('inf')\n",
        "    newP[-1].distance = float('inf')\n",
        "    for j in range(1,l-1,1):\n",
        "      newP[j].distance = newP[j].distance + (newP[j+1].m[i] - newP[j-1].m[i])/(fmax[i]-fmin[i])\n",
        "  \n",
        "  return newP"
      ],
      "execution_count": 192,
      "outputs": []
    },
    {
      "cell_type": "code",
      "metadata": {
        "id": "hxz9Kd2G8b6R"
      },
      "source": [
        "def crowded_comparison_operator(ind1, ind2):\n",
        "  if ((ind1.rank < ind2.rank) or ((ind1.rank == ind2.rank) and (ind1.distance > ind2.distance))):\n",
        "    return True\n",
        "  else:\n",
        "    return False"
      ],
      "execution_count": 193,
      "outputs": []
    },
    {
      "cell_type": "code",
      "metadata": {
        "id": "hLrGSS_fESZe"
      },
      "source": [
        "def nsgaII_step(old_pop,eta,cRate,lowLim,upLim,mRate,tournamentSize,fitfunction):\n",
        "  #Crossover\n",
        "  Q = []\n",
        "  for i in range(0,len(old_pop),2):\n",
        "    parent1 = select(old_pop, tournamentSize)#old_pop[i]\n",
        "    parent2 = select(old_pop, tournamentSize)#old_pop[i+1]\n",
        "    offspring1,offspring2 = sbx(parent1, parent2, eta, cRate)\n",
        "    Q.extend((offspring1,offspring2))\n",
        "\n",
        "  #Mutation\n",
        "  for i in range(len(old_pop)):\n",
        "    Q[i] = polyMutation(Q[i], lowLim, upLim, eta, mRate)\n",
        "\n",
        "  #Joining the parents and offsprings\n",
        "  R = old_pop + Q\n",
        "\n",
        "  #Calculating the fitness and reseting values for algorithm\n",
        "  for i in range(len(R)):\n",
        "    R[i].m = fitfunction(R[i].value)\n",
        "    R[i].id = i\n",
        "    R[i].rank = 0\n",
        "    R[i].n = 0\n",
        "    R[i].sp = []\n",
        "    R[i].distance = 0\n",
        "\n",
        "  #Fast non-nominated sort\n",
        "  Rf = fast_non_dominated_sort(R)\n",
        "\n",
        "  Pnew = []\n",
        "  #print(\"Pnew inicio\", len(Pnew))\n",
        "  for i in range(len(Rf)): \n",
        "    if (len(Pnew)+len(Rf[i]) <= len(old_pop)):\n",
        "      Pnew = Pnew + crowding_distance_assignment(Rf[i])  #Crowding distance assignment\n",
        "    else:\n",
        "      Rc = crowding_distance_assignment(Rf[i])\n",
        "      break\n",
        "    \n",
        "  #Sorting based on rank and distance\n",
        "  Rs = sorted(Rc, key=lambda x: (x.rank, -x.distance), reverse=False) \n",
        "  #print(\"Pnew before crowding selection\", len(Pnew))\n",
        "  #Last selection\n",
        "  Pnew = Pnew + Rs[0:len(old_pop)-len(Pnew)]\n",
        "  #print(\"Pnew FINAL\", len(Pnew))\n",
        "\n",
        "  return Pnew"
      ],
      "execution_count": 194,
      "outputs": []
    },
    {
      "cell_type": "markdown",
      "metadata": {
        "id": "zpzHGt2__lpC"
      },
      "source": [
        "#### Main Cycle\n",
        "In the following cell you should implement the main cycle of your evolutionary strategy, this is, putting together all elements defined previously so you can solve the problem.\n",
        "\n",
        "Once you run the main cycle, the standard output should looks something like this\n",
        "```\n",
        "# <Generation/Fitness Evaluation number> <Decision vector (Genotype)> <Objective vector (Fitness functions values)>\n",
        "```\n",
        "Feel free to add extra spaces when needed or use any other format you think will make the output look nicer. But please preserve the order."
      ]
    },
    {
      "cell_type": "markdown",
      "metadata": {
        "id": "UhknHOn6OVWq"
      },
      "source": [
        "The following code is only a for loop that calls the NSGA-II function based on the number of runs allowed. "
      ]
    },
    {
      "cell_type": "code",
      "metadata": {
        "id": "AaLeAOD-Du9g"
      },
      "source": [
        "#Main\n",
        "gc = 0 # counter of generations\n",
        "old_pop = newpop(population_size)\n",
        "\n",
        "number_runs = 30 # to avoid long time waiting\n",
        "\n",
        "for i in range(number_runs):\n",
        "  new_pop = nsgaII_step(old_pop,lEta,crossover_prob,lowLim,upLim,mutation_prob,tournamentSize,ZDT1) \n",
        "  old_pop = new_pop\n",
        "  gc += 1\n"
      ],
      "execution_count": 294,
      "outputs": []
    },
    {
      "cell_type": "markdown",
      "metadata": {
        "id": "tXRxZLfSOmuw"
      },
      "source": [
        "The code below is used to see how the frontier is created. **It is important to hightlight that not always the code runs the best frontier is found. In most of the cases it is found but the algorithm has a stochastic component that does not allow always to find the frontier. Please, run the code around 5 times in order to see how the algorithms works.**"
      ]
    },
    {
      "cell_type": "code",
      "metadata": {
        "id": "CusVFBZB1PvE",
        "outputId": "5739b6a5-7e82-489d-c5e9-0a731a853144",
        "colab": {
          "base_uri": "https://localhost:8080/",
          "height": 374
        }
      },
      "source": [
        "f1 = []\n",
        "f2 = []\n",
        "for elem in old_pop:\n",
        "  f1.append(elem.m[0])\n",
        "  f2.append(elem.m[1])\n",
        "\n",
        "fig=plt.figure()\n",
        "ax=fig.add_axes([0,0,1,1])\n",
        "ax.scatter(f1, f2, color='b')\n",
        "ax.set_xlabel(r'$f_1$', size=15)\n",
        "ax.set_ylabel(r'$f_2$', size=15)\n",
        "#plt.ylim([0,1])\n",
        "#plt.xlim([0,1])\n",
        "ax.set_title(r'Pareto optimal front for $\\textsc{ZDT1}(x)$', size=15, y=-0.2)\n",
        "plt.show()"
      ],
      "execution_count": 295,
      "outputs": [
        {
          "output_type": "display_data",
          "data": {
            "image/png": "[encoded data removed]",
            "text/plain": [
              "<Figure size 432x288 with 1 Axes>"
            ]
          },
          "metadata": {
            "tags": [],
            "needs_background": "light"
          }
        }
      ]
    },
    {
      "cell_type": "markdown",
      "metadata": {
        "id": "PHBRRe5sPjmE"
      },
      "source": [
        "The code below is used to print the population found by the algorithm."
      ]
    },
    {
      "cell_type": "code",
      "metadata": {
        "id": "KMz1DJQIPGy2",
        "outputId": "8c4d8a62-3f60-4fa6-f75f-d06d5149132f",
        "colab": {
          "base_uri": "https://localhost:8080/",
          "height": 1000
        }
      },
      "source": [
        "for elem in old_pop:\n",
        "  print(\"Individual ID: {0}, Rank: {1}, Fitness Value: {2}\".format(elem.id, elem.rank, elem.m))"
      ],
      "execution_count": 136,
      "outputs": [
        {
          "output_type": "stream",
          "text": [
            "Individual ID: 0, Rank: 1, Fitness Value: [-0.0011118361786847846, nan]\n",
            "Individual ID: 5, Rank: 1, Fitness Value: [0.002738405387463727, 1.1182801051772953]\n",
            "Individual ID: 6, Rank: 1, Fitness Value: [-0.0011118361786847846, nan]\n",
            "Individual ID: 7, Rank: 1, Fitness Value: [-0.0011118361786847846, nan]\n",
            "Individual ID: 8, Rank: 1, Fitness Value: [-0.0011118361786847846, nan]\n",
            "Individual ID: 9, Rank: 1, Fitness Value: [-0.0011118361786847846, nan]\n",
            "Individual ID: 10, Rank: 1, Fitness Value: [-0.0011118361786847846, nan]\n",
            "Individual ID: 11, Rank: 1, Fitness Value: [-0.0011118361786847846, nan]\n",
            "Individual ID: 12, Rank: 1, Fitness Value: [-0.0011118361786847846, nan]\n",
            "Individual ID: 68, Rank: 1, Fitness Value: [0.8116228330547225, 0.10032243287200512]\n",
            "Individual ID: 14, Rank: 1, Fitness Value: [0.1895983383055353, 0.5667331437092405]\n",
            "Individual ID: 65, Rank: 1, Fitness Value: [0.6287425100563909, 0.20847451844720957]\n",
            "Individual ID: 23, Rank: 1, Fitness Value: [0.25537905189567167, 0.4982675757002046]\n",
            "Individual ID: 25, Rank: 1, Fitness Value: [0.28935347031468717, 0.4668817902413085]\n",
            "Individual ID: 64, Rank: 1, Fitness Value: [0.4006619186533833, 0.358303588532913]\n",
            "Individual ID: 16, Rank: 1, Fitness Value: [0.4300504749407581, 0.3443731095567518]\n",
            "Individual ID: 63, Rank: 1, Fitness Value: [0.6939985031710189, 0.1748166796699343]\n",
            "Individual ID: 15, Rank: 1, Fitness Value: [0.6485459175295334, 0.19606945276944845]\n",
            "Individual ID: 66, Rank: 1, Fitness Value: [0.669195935388442, 0.18993932444671754]\n",
            "Individual ID: 18, Rank: 1, Fitness Value: [0.27096964816995617, 0.48430706275976326]\n",
            "Individual ID: 24, Rank: 1, Fitness Value: [0.2200537983568348, 0.5359240362768657]\n",
            "Individual ID: 20, Rank: 1, Fitness Value: [0.21161725050437363, 0.5448279600744176]\n",
            "Individual ID: 13, Rank: 1, Fitness Value: [0.6771359364400991, 0.18506809686693193]\n",
            "Individual ID: 27, Rank: 1, Fitness Value: [0.19285743968160962, 0.5630015409720524]\n",
            "Individual ID: 50, Rank: 1, Fitness Value: [0.25537905189567167, 0.4982675757002046]\n",
            "Individual ID: 29, Rank: 1, Fitness Value: [0.4151115917529147, 0.3484658467847565]\n",
            "Individual ID: 30, Rank: 1, Fitness Value: [0.2137472882369914, 0.5392228365924938]\n",
            "Individual ID: 31, Rank: 1, Fitness Value: [0.40933760479718106, 0.3529383009100666]\n",
            "Individual ID: 19, Rank: 1, Fitness Value: [0.4031701444132199, 0.35778579230766844]\n",
            "Individual ID: 67, Rank: 1, Fitness Value: [0.28935347031468717, 0.4668817902413085]\n",
            "Individual ID: 34, Rank: 1, Fitness Value: [0.4176611369474708, 0.3465358871751728]\n",
            "Individual ID: 36, Rank: 1, Fitness Value: [0.21625551399682796, 0.5366100790031738]\n",
            "Individual ID: 37, Rank: 1, Fitness Value: [0.41142085360992126, 0.35135613535654997]\n",
            "Individual ID: 49, Rank: 1, Fitness Value: [0.27096964816995617, 0.48430706275976326]\n",
            "Individual ID: 70, Rank: 1, Fitness Value: [0.6771359364400991, 0.18506809686693193]\n",
            "Individual ID: 42, Rank: 1, Fitness Value: [0.21625551399682796, 0.5366100790031738]\n",
            "Individual ID: 48, Rank: 1, Fitness Value: [0.4300504749407581, 0.3443731095567518]\n",
            "Individual ID: 44, Rank: 1, Fitness Value: [0.4176611369474708, 0.3465358871751728]\n",
            "Individual ID: 45, Rank: 1, Fitness Value: [0.41142085360992126, 0.35135613535654997]\n",
            "Individual ID: 32, Rank: 1, Fitness Value: [0.4031701444132199, 0.35778579230766844]\n",
            "Individual ID: 40, Rank: 1, Fitness Value: [0.6771359364400991, 0.18506809686693193]\n",
            "Individual ID: 43, Rank: 1, Fitness Value: [0.4300504749407581, 0.3443731095567518]\n",
            "Individual ID: 33, Rank: 1, Fitness Value: [0.28935347031468717, 0.4668817902413085]\n",
            "Individual ID: 39, Rank: 1, Fitness Value: [0.27096964816995617, 0.48430706275976326]\n",
            "Individual ID: 28, Rank: 1, Fitness Value: [0.25537905189567167, 0.4982675757002046]\n",
            "Individual ID: 51, Rank: 1, Fitness Value: [3.9397723687772945e-05, 1.1682004756561484]\n",
            "Individual ID: 52, Rank: 1, Fitness Value: [-0.0011118361786847846, nan]\n",
            "Individual ID: 53, Rank: 1, Fitness Value: [-0.0011118361786847846, nan]\n",
            "Individual ID: 54, Rank: 1, Fitness Value: [-0.0011118361786847846, nan]\n",
            "Individual ID: 55, Rank: 1, Fitness Value: [-0.0011118361786847846, nan]\n",
            "Individual ID: 56, Rank: 1, Fitness Value: [-0.0011118361786847846, nan]\n",
            "Individual ID: 57, Rank: 1, Fitness Value: [-0.0011118361786847846, nan]\n",
            "Individual ID: 58, Rank: 1, Fitness Value: [-0.0011118361786847846, nan]\n",
            "Individual ID: 59, Rank: 1, Fitness Value: [-0.0011118361786847846, nan]\n",
            "Individual ID: 60, Rank: 1, Fitness Value: [-0.0011118361786847846, nan]\n",
            "Individual ID: 61, Rank: 1, Fitness Value: [-0.0011118361786847846, nan]\n",
            "Individual ID: 127, Rank: 1, Fitness Value: [0.8096110468707567, 0.10144090917317669]\n",
            "Individual ID: 128, Rank: 1, Fitness Value: [0.057615318290401674, 0.909867364215249]\n",
            "Individual ID: 134, Rank: 1, Fitness Value: [0.3772526941879068, 0.3784228576697103]\n",
            "Individual ID: 143, Rank: 1, Fitness Value: [0.19285743968160962, 0.5630015409720524]\n",
            "Individual ID: 132, Rank: 1, Fitness Value: [0.32061117573344067, 0.4384795862516202]\n",
            "Individual ID: 126, Rank: 1, Fitness Value: [0.43133713447226313, 0.33609636902220774]\n",
            "Individual ID: 82, Rank: 1, Fitness Value: [0.6485459175295334, 0.19606945276944845]\n",
            "Individual ID: 92, Rank: 1, Fitness Value: [0.6771359364400991, 0.18506809686693193]\n",
            "Individual ID: 94, Rank: 1, Fitness Value: [0.4176611369474708, 0.3465358871751728]\n",
            "Individual ID: 135, Rank: 1, Fitness Value: [0.38239086559651153, 0.3721398719665938]\n",
            "Individual ID: 74, Rank: 1, Fitness Value: [0.2137472882369914, 0.5392228365924938]\n",
            "Individual ID: 75, Rank: 1, Fitness Value: [0.4090011892757331, 0.3532350095034677]\n",
            "Individual ID: 142, Rank: 1, Fitness Value: [0.25537905189567167, 0.4982675757002046]\n",
            "Individual ID: 77, Rank: 1, Fitness Value: [0.2200537983568348, 0.5359240362768657]\n",
            "Individual ID: 84, Rank: 1, Fitness Value: [0.28935347031468717, 0.4668817902413085]\n",
            "Individual ID: 79, Rank: 1, Fitness Value: [0.41142085360992126, 0.35135613535654997]\n",
            "Individual ID: 80, Rank: 1, Fitness Value: [0.21625551399682796, 0.5366100790031738]\n",
            "Individual ID: 81, Rank: 1, Fitness Value: [0.19285743968160962, 0.5630015409720524]\n",
            "Individual ID: 91, Rank: 1, Fitness Value: [0.4031701444132199, 0.35778579230766844]\n",
            "Individual ID: 141, Rank: 1, Fitness Value: [0.28935347031468717, 0.4668817902413085]\n",
            "Individual ID: 85, Rank: 1, Fitness Value: [0.27096964816995617, 0.48430706275976326]\n",
            "Individual ID: 86, Rank: 1, Fitness Value: [0.67069167347695, 0.18901948194908202]\n",
            "Individual ID: 137, Rank: 1, Fitness Value: [0.27096964816995617, 0.48430706275976326]\n",
            "Individual ID: 76, Rank: 1, Fitness Value: [0.25537905189567167, 0.4982675757002046]\n",
            "Individual ID: 71, Rank: 1, Fitness Value: [0.4300504749407581, 0.3443731095567518]\n",
            "Individual ID: 90, Rank: 1, Fitness Value: [0.6716786484089756, 0.18841307800684223]\n",
            "Individual ID: 138, Rank: 1, Fitness Value: [0.6771359364400991, 0.18506809686693193]\n",
            "Individual ID: 103, Rank: 1, Fitness Value: [0.4151115917529147, 0.3484658467847565]\n",
            "Individual ID: 93, Rank: 1, Fitness Value: [0.4176611369474708, 0.3465358871751728]\n",
            "Individual ID: 83, Rank: 1, Fitness Value: [0.4151115917529147, 0.3484658467847565]\n",
            "Individual ID: 96, Rank: 1, Fitness Value: [0.2200537983568348, 0.5359240362768657]\n",
            "Individual ID: 95, Rank: 1, Fitness Value: [0.4151115917529147, 0.3484658467847565]\n",
            "Individual ID: 88, Rank: 1, Fitness Value: [0.27096964816995617, 0.48430706275976326]\n",
            "Individual ID: 104, Rank: 1, Fitness Value: [0.27096964816995617, 0.48430706275976326]\n",
            "Individual ID: 105, Rank: 1, Fitness Value: [0.27096964816995617, 0.48430706275976326]\n",
            "Individual ID: 106, Rank: 1, Fitness Value: [0.27096964816995617, 0.48430706275976326]\n",
            "Individual ID: 107, Rank: 1, Fitness Value: [0.27096964816995617, 0.48430706275976326]\n",
            "Individual ID: 108, Rank: 1, Fitness Value: [0.27096964816995617, 0.48430706275976326]\n",
            "Individual ID: 109, Rank: 1, Fitness Value: [0.27096964816995617, 0.48430706275976326]\n",
            "Individual ID: 89, Rank: 1, Fitness Value: [0.25537905189567167, 0.4982675757002046]\n",
            "Individual ID: 110, Rank: 1, Fitness Value: [0.25537905189567167, 0.4982675757002046]\n",
            "Individual ID: 111, Rank: 1, Fitness Value: [0.25537905189567167, 0.4982675757002046]\n",
            "Individual ID: 136, Rank: 1, Fitness Value: [0.25537905189567167, 0.4982675757002046]\n",
            "Individual ID: 112, Rank: 1, Fitness Value: [0.19285743968160962, 0.5630015409720524]\n",
            "Individual ID: 113, Rank: 1, Fitness Value: [0.19285743968160962, 0.5630015409720524]\n",
            "Individual ID: 114, Rank: 1, Fitness Value: [0.19285743968160962, 0.5630015409720524]\n",
            "Individual ID: 115, Rank: 1, Fitness Value: [0.19285743968160962, 0.5630015409720524]\n",
            "Individual ID: 116, Rank: 1, Fitness Value: [0.19285743968160962, 0.5630015409720524]\n",
            "Individual ID: 117, Rank: 1, Fitness Value: [-0.0011118361786847846, nan]\n",
            "Individual ID: 118, Rank: 1, Fitness Value: [0.19285743968160962, 0.5630015409720524]\n",
            "Individual ID: 119, Rank: 1, Fitness Value: [0.002738405387463727, 1.1182801051772953]\n",
            "Individual ID: 120, Rank: 1, Fitness Value: [-0.0007045256755026834, nan]\n",
            "Individual ID: 121, Rank: 1, Fitness Value: [-0.0011118361786847846, nan]\n",
            "Individual ID: 122, Rank: 1, Fitness Value: [-0.0011118361786847846, nan]\n",
            "Individual ID: 123, Rank: 1, Fitness Value: [-0.0011118361786847846, nan]\n",
            "Individual ID: 140, Rank: 1, Fitness Value: [-0.0011118361786847846, nan]\n",
            "Individual ID: 184, Rank: 1, Fitness Value: [0.8120342684902319, 0.09905099511964423]\n",
            "Individual ID: 217, Rank: 1, Fitness Value: [0.5929268651482706, 0.26990465308800554]\n",
            "Individual ID: 220, Rank: 1, Fitness Value: [0.13269812032747377, 0.7427414290653]\n",
            "Individual ID: 179, Rank: 1, Fitness Value: [0.43133713447226313, 0.33609636902220774]\n",
            "Individual ID: 229, Rank: 1, Fitness Value: [0.600117688720309, 0.2327839939021985]\n",
            "Individual ID: 171, Rank: 1, Fitness Value: [0.2976912886624634, 0.456897099702523]\n",
            "Individual ID: 216, Rank: 1, Fitness Value: [0.26256987546771005, 0.49133579023477825]\n",
            "Individual ID: 188, Rank: 1, Fitness Value: [0.6939985031710189, 0.1748166796699343]\n",
            "Individual ID: 222, Rank: 1, Fitness Value: [0.32061117573344067, 0.4384795862516202]\n",
            "Individual ID: 226, Rank: 1, Fitness Value: [0.8096110468707567, 0.10144090917317669]\n",
            "Individual ID: 153, Rank: 1, Fitness Value: [0.25537905189567167, 0.4982675757002046]\n",
            "Individual ID: 193, Rank: 1, Fitness Value: [0.3772526941879068, 0.3784228576697103]\n",
            "Individual ID: 199, Rank: 1, Fitness Value: [0.1895983383055353, 0.5667331437092405]\n",
            "Individual ID: 204, Rank: 1, Fitness Value: [0.28935347031468717, 0.4668817902413085]\n",
            "Individual ID: 174, Rank: 1, Fitness Value: [0.6287425100563909, 0.20847451844720957]\n",
            "Individual ID: 152, Rank: 1, Fitness Value: [0.4300504749407581, 0.3443731095567518]\n",
            "Individual ID: 225, Rank: 1, Fitness Value: [0.6485459175295334, 0.19606945276944845]\n",
            "Individual ID: 212, Rank: 1, Fitness Value: [0.4031701444132199, 0.35778579230766844]\n",
            "Individual ID: 150, Rank: 1, Fitness Value: [0.38239086559651153, 0.3721398719665938]\n",
            "Individual ID: 197, Rank: 1, Fitness Value: [0.1895983383055353, 0.5667331437092405]\n",
            "Individual ID: 167, Rank: 1, Fitness Value: [0.6771359364400991, 0.18506809686693193]\n",
            "Individual ID: 198, Rank: 1, Fitness Value: [0.67069167347695, 0.18901948194908202]\n",
            "Individual ID: 200, Rank: 1, Fitness Value: [0.4031701444132199, 0.35778579230766844]\n",
            "Individual ID: 146, Rank: 1, Fitness Value: [0.6287425100563909, 0.20847451844720957]\n",
            "Individual ID: 158, Rank: 1, Fitness Value: [0.28935347031468717, 0.4668817902413085]\n",
            "Individual ID: 213, Rank: 1, Fitness Value: [0.38239086559651153, 0.3721398719665938]\n",
            "Individual ID: 207, Rank: 1, Fitness Value: [0.8116228330547225, 0.10032243287200512]\n",
            "Individual ID: 145, Rank: 1, Fitness Value: [0.6716786484089756, 0.18841307800684223]\n",
            "Individual ID: 170, Rank: 1, Fitness Value: [0.8096110468707567, 0.10144090917317669]\n",
            "Individual ID: 228, Rank: 1, Fitness Value: [0.6716786484089756, 0.18841307800684223]\n",
            "Individual ID: 194, Rank: 1, Fitness Value: [0.8096110468707567, 0.10144090917317669]\n",
            "Individual ID: 192, Rank: 1, Fitness Value: [0.38239086559651153, 0.3721398719665938]\n",
            "Individual ID: 165, Rank: 1, Fitness Value: [0.28935347031468717, 0.4668817902413085]\n",
            "Individual ID: 166, Rank: 1, Fitness Value: [0.28935347031468717, 0.4668817902413085]\n",
            "Individual ID: 186, Rank: 1, Fitness Value: [0.28935347031468717, 0.4668817902413085]\n",
            "Individual ID: 147, Rank: 1, Fitness Value: [0.19285743968160962, 0.5630015409720524]\n",
            "Individual ID: 154, Rank: 1, Fitness Value: [-0.0011118361786847846, nan]\n",
            "Individual ID: 156, Rank: 1, Fitness Value: [-0.0011118361786847846, nan]\n"
          ],
          "name": "stdout"
        }
      ]
    },
    {
      "cell_type": "markdown",
      "metadata": {
        "id": "FJM3UbImm0vM"
      },
      "source": [
        "\n",
        "## $\\zdttwo$\n",
        "\n",
        "Here is the formal definition of the $\\zdttwo$ function.\n",
        "\n",
        "**Definition ($\\zdttwo$)**: A bi-objective test function that is the nonconvex counterpart of $\\zdtone$. The function is defined as\n",
        "\n",
        "\\begin{align*}\n",
        "\\zdttwo(x) &= (f_1(x),f_2(x)),\\\\\n",
        "f_1(x) &= x_1,\\\\\n",
        "f_2(x) &= g(x)\\cdot\\left(1.0-\\left(\\frac{x_1}{g(x)}\\right)^2\\right),\\\\\n",
        "g(x) &= 1+\\frac{9}{n-1}\\sum_{i=2}^{n}x_i,\n",
        "\\end{align*}\n",
        "with $0\\leq x_i\\leq 1$, for $1\\leq i \\leq n$."
      ]
    },
    {
      "cell_type": "markdown",
      "metadata": {
        "id": "g1AvhgNG8P0-"
      },
      "source": [
        "### Function Definition\n",
        "\n",
        "Here is the definition of the $\\zdttwo$ function."
      ]
    },
    {
      "cell_type": "code",
      "metadata": {
        "id": "r_g_NvZhnzGk"
      },
      "source": [
        "def ZDT2(x):\n",
        "  f1 = x[0]\n",
        "  g = 1 + ( 9 / (len(x)-1)) * sum(x[1:])\n",
        "  f2 = g * (1.0 - np.power((x[0]/g),2))\n",
        "  return [f1, f2]"
      ],
      "execution_count": 84,
      "outputs": []
    },
    {
      "cell_type": "markdown",
      "metadata": {
        "id": "iSHLT-zGwEMX"
      },
      "source": [
        "By replacing `f2` from the previously defined $\\zdttwo$ function with $f_2=1-x_1^2$ you can obtain values from the Pareto-optimal objective vectors. In the following cell you can generate Pareto-optimal objective vectors and print them using a pandas' Dataframe. "
      ]
    },
    {
      "cell_type": "code",
      "metadata": {
        "id": "2gKM01PzoIFj",
        "outputId": "c95c3295-83b7-454d-804a-d72709249002",
        "colab": {
          "base_uri": "https://localhost:8080/",
          "height": 424
        }
      },
      "source": [
        "pareto_front = np.empty((0, 2))\n",
        "\n",
        "# Feel free to play with the parameter \"num\" so you can see the shape of the Pareto front.\n",
        "for f1 in np.linspace(0, 1, num=100):\n",
        "    f2 = 1 - np.power(f1, 2)\n",
        "    pareto_front = np.vstack([pareto_front, [f1, f2]])  \n",
        "\n",
        "# Convert to DataFrame and show its content\n",
        "pareto_front = pd.DataFrame(pareto_front, columns=['f1', 'f2'])  \n",
        "pareto_front"
      ],
      "execution_count": 44,
      "outputs": [
        {
          "output_type": "execute_result",
          "data": {
            "text/html": [
              "<div>\n",
              "<style scoped>\n",
              "    .dataframe tbody tr th:only-of-type {\n",
              "        vertical-align: middle;\n",
              "    }\n",
              "\n",
              "    .dataframe tbody tr th {\n",
              "        vertical-align: top;\n",
              "    }\n",
              "\n",
              "    .dataframe thead th {\n",
              "        text-align: right;\n",
              "    }\n",
              "</style>\n",
              "<table border=\"1\" class=\"dataframe\">\n",
              "  <thead>\n",
              "    <tr style=\"text-align: right;\">\n",
              "      <th></th>\n",
              "      <th>f1</th>\n",
              "      <th>f2</th>\n",
              "    </tr>\n",
              "  </thead>\n",
              "  <tbody>\n",
              "    <tr>\n",
              "      <th>0</th>\n",
              "      <td>0.000000</td>\n",
              "      <td>1.000000</td>\n",
              "    </tr>\n",
              "    <tr>\n",
              "      <th>1</th>\n",
              "      <td>0.010101</td>\n",
              "      <td>0.999898</td>\n",
              "    </tr>\n",
              "    <tr>\n",
              "      <th>2</th>\n",
              "      <td>0.020202</td>\n",
              "      <td>0.999592</td>\n",
              "    </tr>\n",
              "    <tr>\n",
              "      <th>3</th>\n",
              "      <td>0.030303</td>\n",
              "      <td>0.999082</td>\n",
              "    </tr>\n",
              "    <tr>\n",
              "      <th>4</th>\n",
              "      <td>0.040404</td>\n",
              "      <td>0.998368</td>\n",
              "    </tr>\n",
              "    <tr>\n",
              "      <th>...</th>\n",
              "      <td>...</td>\n",
              "      <td>...</td>\n",
              "    </tr>\n",
              "    <tr>\n",
              "      <th>95</th>\n",
              "      <td>0.959596</td>\n",
              "      <td>0.079176</td>\n",
              "    </tr>\n",
              "    <tr>\n",
              "      <th>96</th>\n",
              "      <td>0.969697</td>\n",
              "      <td>0.059688</td>\n",
              "    </tr>\n",
              "    <tr>\n",
              "      <th>97</th>\n",
              "      <td>0.979798</td>\n",
              "      <td>0.039996</td>\n",
              "    </tr>\n",
              "    <tr>\n",
              "      <th>98</th>\n",
              "      <td>0.989899</td>\n",
              "      <td>0.020100</td>\n",
              "    </tr>\n",
              "    <tr>\n",
              "      <th>99</th>\n",
              "      <td>1.000000</td>\n",
              "      <td>0.000000</td>\n",
              "    </tr>\n",
              "  </tbody>\n",
              "</table>\n",
              "<p>100 rows × 2 columns</p>\n",
              "</div>"
            ],
            "text/plain": [
              "          f1        f2\n",
              "0   0.000000  1.000000\n",
              "1   0.010101  0.999898\n",
              "2   0.020202  0.999592\n",
              "3   0.030303  0.999082\n",
              "4   0.040404  0.998368\n",
              "..       ...       ...\n",
              "95  0.959596  0.079176\n",
              "96  0.969697  0.059688\n",
              "97  0.979798  0.039996\n",
              "98  0.989899  0.020100\n",
              "99  1.000000  0.000000\n",
              "\n",
              "[100 rows x 2 columns]"
            ]
          },
          "metadata": {
            "tags": []
          },
          "execution_count": 44
        }
      ]
    },
    {
      "cell_type": "markdown",
      "metadata": {
        "id": "_LqG42Ovw2DD"
      },
      "source": [
        "In the following cell you can plot the points from the previously generated dataset so you can visualise the shape of the Pareto-optimal ovjective vectors."
      ]
    },
    {
      "cell_type": "code",
      "metadata": {
        "id": "ajjVYVQmwd1M",
        "outputId": "72b48ef9-4f08-4802-b878-b914ae22c184",
        "colab": {
          "base_uri": "https://localhost:8080/",
          "height": 374
        }
      },
      "source": [
        "fig=plt.figure()\n",
        "ax=fig.add_axes([0,0,1,1])\n",
        "ax.scatter(pareto_front.f1, pareto_front.f2, color='b')\n",
        "ax.set_xlabel(r'$f_1$', size=15)\n",
        "ax.set_ylabel(r'$f_2$', size=15)\n",
        "ax.set_title(r'Pareto optimal front for $\\textsc{ZDT2}(x)$', size=15, y=-0.2)\n",
        "plt.show()"
      ],
      "execution_count": null,
      "outputs": [
        {
          "output_type": "display_data",
          "data": {
            "image/png": "[encoded data removed]",
            "text/plain": [
              "<Figure size 432x288 with 1 Axes>"
            ]
          },
          "metadata": {
            "tags": [],
            "needs_background": "light"
          }
        }
      ]
    },
    {
      "cell_type": "markdown",
      "metadata": {
        "id": "yEZxpv9mw9Ai"
      },
      "source": [
        "You can also read the Pareto-optimal vectors from the file provided in Canvas, stored them in a pandas' dataframe and print its content.  "
      ]
    },
    {
      "cell_type": "code",
      "metadata": {
        "id": "TJI1SrUYwYFW"
      },
      "source": [
        "# Before you run the code remember to specify a correct file path\n",
        "pareto_front = pd.read_csv('/tmp/ZDT2.pf', delim_whitespace=True)\n",
        "pareto_front.columns = ['f1','f2']\n",
        "  \n",
        "pareto_front"
      ],
      "execution_count": null,
      "outputs": []
    },
    {
      "cell_type": "markdown",
      "metadata": {
        "id": "9-6IMd1mxL7U"
      },
      "source": [
        "And again plot the Pareto-optimal objective vectors by running the following cell. As a sanity check, try running but options, automatically generated Pareto-optimal objective vectors and the ones in the file to corroborate that both shapes are the same."
      ]
    },
    {
      "cell_type": "code",
      "metadata": {
        "id": "0WrGhlYsouwU"
      },
      "source": [
        "fig=plt.figure()\n",
        "ax=fig.add_axes([0,0,1,1])\n",
        "ax.scatter(pareto_front.f1, pareto_front.f2, color='b')\n",
        "ax.set_xlabel(r'$f_1$', size=15)\n",
        "ax.set_ylabel(r'$f_2$', size=15)\n",
        "ax.set_title(r'Pareto optimal front for $\\textsc{ZDT2}(x)$', size=15, y=-0.2)\n",
        "plt.show()"
      ],
      "execution_count": null,
      "outputs": []
    },
    {
      "cell_type": "markdown",
      "metadata": {
        "id": "dXkJyJBPvy5d"
      },
      "source": [
        "### Parameters to use\n",
        "In the following section define the value of the parameters that your evolutionary strategy will use. I have added some examples of such parameters but depending on your solution you may want to add some more.\n",
        "\n",
        "Do not change the parameter values\n",
        "\n",
        "```\n",
        "# number_runs = 50\n",
        "# number_generations = 50000\n",
        "```\n",
        "Use these parameters to define the stopping criterion, you can use it as the maximum number of generations allowed for the algorithm to run or the maximum number of fitness evaluations allowed for the algorithm to run.\n",
        "\n",
        "That time is enough to find an acceptable approximation of the Pareto front of the $\\zdttwo$. This is to avoid extreme definition of stopping criterions, I do not want to run the algorithm from millions of generations.\n",
        "\n",
        "Also, if you want to use another stopping criterion together with the number of generations you can do it. If your algorithm was able to find all Pareto-optimal objective vectors before all the time budget is used go ahead and stop the run."
      ]
    },
    {
      "cell_type": "code",
      "metadata": {
        "id": "dqUZBANGAMnU"
      },
      "source": [
        "# YOU CAN CHANGE THE VALUES OF THE FOLLOWING PARAMETERS AND ADD ANY OTHER PARAMETER NEEDED IN YOUR SOLUTION\n",
        "population_size = 150\n",
        "offspring_size = 0 # not used\n",
        "mutation_prob = 0.1\n",
        "crossover_prob = 0.0\n",
        "problem_size =  2 # not used, fixed to 2.\n",
        "lEta = 10\n",
        "lowLim = 0\n",
        "upLim = 1\n",
        "tournamentSize = 5\n",
        "\n",
        "# DO NOT CHANGE THE VALUE OF THE LINE BELOW.\n",
        "number_runs = 50\n",
        "number_generations = 50000 # you can use this one as fitness function evaluations if you want"
      ],
      "execution_count": 139,
      "outputs": []
    },
    {
      "cell_type": "markdown",
      "metadata": {
        "id": "O8RnYHCJAQqX"
      },
      "source": [
        "### Evolution Strategy for $\\zdttwo$\n",
        "**The multiobjective problem ZDT2 is solved with the algorithm, NSGA II, explained by Deb, K. et al. [1]. The pseudo code presented in the paper in some parts it is not very clear therefore it was necessary to understand deeply the algorithm by reading the description to be able to propose a concrete solution for real coding. This is the reason the approach to implement the algorithm uses python objects which help to the storage of information for each individual. Having said that, the code is structured as follows:**\n",
        "1. The individuals are objects with attributes. The attributes are id, rank, m, n, distance, sp, and value. And for the initialization a list of this objects is created with random values within the range specified for the problem.\n",
        "2. The individuals are selected with tournament selection to be used for crossover, and later all the individuals are mutated.\n",
        "3. The parents and offsprings are concatenated to be used for the survival method.\n",
        "4. This is where the NSGA-II is used. It starts with the evaluation of the individual with the objectives functions. Then the rest of the attributes are reset to their original values. Later the fast-non-dominated-front algorthm is applied to the entire population. Next, the new population is filled based on the rank of the frontiers and the assigment of crowdwing distance is calculated as well. If the new population is not completely filled then the crowding distance is used. In this case it first performs a sort based on distance and finally the best individuals are used to complete the new population. \n",
        "5. The steps above are repeated until the numbers of runs is completed.\n",
        "\n",
        "\n",
        "Note: the representation of this problem is with real numbers.\n",
        " "
      ]
    },
    {
      "cell_type": "markdown",
      "metadata": {
        "id": "YbLC7ewYAYaN"
      },
      "source": [
        "#### Initialisation\n",
        "**The following code is used to create the population. The first lines of code is the class \"individual\" which stores all the attributes of each individual and the functions inside the class are used to update the attributes. The last function creates a list with the individuals objects. The values of the individuals depend on the problem to be solved.**\n"
      ]
    },
    {
      "cell_type": "code",
      "metadata": {
        "id": "nxiG8nwwBCi5"
      },
      "source": [
        "import random\n",
        "import numpy as np\n",
        "\n",
        "#Creates the initial population\n",
        "class individual:\n",
        "  def __init__(self,i):\n",
        "    self.value = [random.uniform(0,1),random.uniform(0,1)]\n",
        "    self.sp = []\n",
        "    self.rank = 0\n",
        "    self.id = i\n",
        "    self.n = 0\n",
        "    self.m = []\n",
        "    self.distance = 0\n",
        "\n",
        "  def add(self, x):\n",
        "      self.sp.append(x)\n",
        "\n",
        "  def sumn(self):\n",
        "      self.n += 1\n",
        "\n",
        "  def subn(self):\n",
        "      self.n -= 1\n",
        "\n",
        "#only two values per individual\n",
        "def newpop(populationSize): \n",
        "  population = [None] * populationSize\n",
        "\n",
        "  for i in range(populationSize): \n",
        "    population[i] = individual(i)\n",
        "  return population"
      ],
      "execution_count": 73,
      "outputs": []
    },
    {
      "cell_type": "markdown",
      "metadata": {
        "id": "BnBPyTbLAbtC"
      },
      "source": [
        "#### Stopping Criterion\n",
        "**Modify the content of this cell to provide a description about your stopping criterion**"
      ]
    },
    {
      "cell_type": "markdown",
      "metadata": {
        "id": "O9O5_GMdAipc"
      },
      "source": [
        "#### Selection for Reproduction\n",
        "**The function below is tournament selection, it selects the best individual based on the number of individuals to be compared, this number is defined by \"tournament size\". The individuals to be compared are selected randomly. It also uses the function \"crowded_comparison_operator\", which helps to determine the best individual.**"
      ]
    },
    {
      "cell_type": "code",
      "metadata": {
        "id": "hZjHKZ0aWny-"
      },
      "source": [
        "#Tournament Selection\n",
        "# Implements the tournament selection.\n",
        "def select(population, tournamentSize):\n",
        "  winner = np.random.randint(0, len(population))\n",
        "  #print(\"first\",population[winner].rank,population[winner].distance )\n",
        "  for i in range(tournamentSize - 1):\n",
        "    rival = np.random.randint(0, len(population))\n",
        "    if (crowded_comparison_operator(population[rival],population[winner])):\n",
        "      winner = rival\n",
        "  #print(\"rival\",population[rival].rank,population[rival].distance )\n",
        "  return population[winner]"
      ],
      "execution_count": 74,
      "outputs": []
    },
    {
      "cell_type": "markdown",
      "metadata": {
        "id": "OwksKX9dAqFH"
      },
      "source": [
        "#### Variation\n",
        "**The code below are the functions for crossover and mutation. Both are used in the NSGA-II [1]. However, the methods are explained in [2]. This type of variation is used for real representation. The relevant parameters are cRate and mRate which is the threshold for them to be used. The other important parameter is lEta (lower case eta) which is used to specify the amount of variation.**\n"
      ]
    },
    {
      "cell_type": "code",
      "metadata": {
        "id": "ZORsVJOwWOjT"
      },
      "source": [
        "#Crossover**\n",
        "import copy\n",
        "import random\n",
        "\n",
        "def sbx(parent1, parent2, lEta, cRate):\n",
        "  offspringA = copy.deepcopy(parent1)\n",
        "  offspringB = copy.deepcopy(parent2)\n",
        "\n",
        "  if random.random() <= cRate:\n",
        "    for i, (v1, v2) in enumerate(zip(offspringA.value, offspringB.value)):\n",
        "        rand = random.random()\n",
        "        if rand <= 0.5:\n",
        "            beta = 2. * rand\n",
        "        else:\n",
        "            beta = 1. / (2. * (1. - rand))\n",
        "        beta **= 1. / (lEta + 1.)\n",
        "        offspringA.value[i] = 0.5 * (((1 + beta) * v1) + ((1 - beta) * v2))\n",
        "        offspringB.value[i] = 0.5 * (((1 - beta) * v1) + ((1 + beta) * v2))\n",
        "\n",
        "  return offspringA, offspringB\n",
        "\n",
        "#Mutation**\n",
        "def polyMutation(ind, lowLim, uppLim, lEta, mRate):\n",
        "  parent = copy.deepcopy(ind)\n",
        "  for i in range(len(parent.value)):\n",
        "    if (random.random() <= mRate):\n",
        "      u = random.random()\n",
        "      delta = min((parent.value[i] - lowLim), (uppLim - parent.value[i])) / (uppLim - lowLim)\n",
        "      \n",
        "      if u <= 0.5:\n",
        "        deltaQ = (2*u + (1-2*u)*(1-delta)**(lEta + 1))**(1/(lEta + 1))-1\n",
        "      else:\n",
        "        deltaQ = 1-(1*(1-u)+2*(u-0.5)*(1-delta)**(lEta+1))**(1/(lEta+1))\n",
        "\n",
        "      parent.value[i] = parent.value[i] + deltaQ*(uppLim - lowLim)\n",
        "\n",
        "  return parent"
      ],
      "execution_count": 75,
      "outputs": []
    },
    {
      "cell_type": "markdown",
      "metadata": {
        "id": "lnkfXFnNAtdD"
      },
      "source": [
        "#### Selection for Survival\n",
        "\n",
        "**The following cells are the core of the NSGA-II:**\n",
        "\n",
        "+ *dominates*: this function compares individuals based on the definiton of frontiers. This is used by the fast_non_dominated_sort function.\n",
        "+ *fast_non_dominated_sort*: this used to assign frontier to each of the individuals in the population. \n",
        "+ *crowding_distance_assignment*: this function assigns distance between neighbors within the same frontier.\n",
        "+ *crowded_comparison_operator*: this is used to compare individuals once the distance attribute is filled. The idea is to compare the population of a frontier based on their distance.\n",
        "+ *nsgaII_step*: This is where all the small chunks of code are put together in order to have the NSGA-II working. \n"
      ]
    },
    {
      "cell_type": "code",
      "metadata": {
        "id": "TgB7VbY5XGY5"
      },
      "source": [
        "#dominates\n",
        "def dominates(a,b):\n",
        "  if (a[0] <= b[0]) & (a[1] <= b[1]):\n",
        "    dominator = True\n",
        "  else:\n",
        "    dominator = False\n",
        "  return dominator"
      ],
      "execution_count": 76,
      "outputs": []
    },
    {
      "cell_type": "code",
      "metadata": {
        "id": "e0Aj3saEZQmM"
      },
      "source": [
        "def fast_non_dominated_sort(pop):\n",
        "  P = pop.copy()\n",
        "\n",
        "  #Fast-non-dominated-sort(P)\n",
        "  F = [] # necesario?\n",
        "  f1 = [] # necesario?\n",
        "\n",
        "  for i in range(len(P)):\n",
        "    Q = P.copy()\n",
        "    Q.pop(i)\n",
        "    for j in range(len(Q)):\n",
        "      if dominates(P[i].m,Q[j].m):#should be m\n",
        "        P[i].add(Q[j].id)#add to sp\n",
        "      elif dominates(Q[j].m,P[i].m):#should be m\n",
        "        P[i].sumn() #sum 1 to the n counter\n",
        "    if P[i].n == 0:\n",
        "      P[i].rank = 1\n",
        "      f1.append(P[i])\n",
        "\n",
        "  F.append(f1) # necesario?\n",
        "  i = 0\n",
        "  while (len(F[i]) != 0):\n",
        "    Q = []\n",
        "    for p in F[i]:\n",
        "      for q in p.sp:\n",
        "        #encuentra el n de la q -> apuntador del id en pop\n",
        "        P[q].subn()\n",
        "        if P[q].n == 0:\n",
        "          P[q].rank = i+2\n",
        "          Q.append(P[q])\n",
        "    i += 1\n",
        "    F.append(Q)# necesario?\n",
        "\n",
        "  return F"
      ],
      "execution_count": 77,
      "outputs": []
    },
    {
      "cell_type": "code",
      "metadata": {
        "id": "9yQh2BV-rBNe"
      },
      "source": [
        "#Crowding distance assignment (debe de ser por frontera)\n",
        "#F tiene las fronteras\n",
        "def crowding_distance_assignment(pop):\n",
        "  P = pop.copy()\n",
        "\n",
        "  l = len(P)\n",
        "  for elem in P:\n",
        "    elem.distance = 0\n",
        "\n",
        "  #solo 2 objective functions \n",
        "  fmax = [1,9.9]\n",
        "  fmin = [0,0]\n",
        "\n",
        "  for i in range(2): #suma a la distancia las diferencias de los 2 objetivos con respecto a sus vecinos\n",
        "    #print(\"m: \", i)\n",
        "    newP = sorted(P, key=lambda x: x.m[i], reverse=False)\n",
        "    newP[0].distance = float('inf')\n",
        "    newP[-1].distance = float('inf')\n",
        "    for j in range(1,l-1,1):\n",
        "      newP[j].distance = newP[j].distance + (newP[j+1].m[i] - newP[j-1].m[i])/(fmax[i]-fmin[i])\n",
        "  \n",
        "  return newP"
      ],
      "execution_count": 89,
      "outputs": []
    },
    {
      "cell_type": "code",
      "metadata": {
        "id": "SzdLxOCbWjge"
      },
      "source": [
        "def crowded_comparison_operator(ind1, ind2):\n",
        "  if ((ind1.rank < ind2.rank) or ((ind1.rank == ind2.rank) and (ind1.distance > ind2.distance))):\n",
        "    return True\n",
        "  else:\n",
        "    return False"
      ],
      "execution_count": 79,
      "outputs": []
    },
    {
      "cell_type": "code",
      "metadata": {
        "id": "H6T71rKHWrrc"
      },
      "source": [
        "def nsgaII_step(old_pop,eta,cRate,lowLim,upLim,mRate,tournamentSize,fitfunction):\n",
        "  #Crossover\n",
        "  Q = []\n",
        "  for i in range(0,len(old_pop),2):\n",
        "    parent1 = select(old_pop, tournamentSize)#old_pop[i]\n",
        "    parent2 = select(old_pop, tournamentSize)#old_pop[i+1]\n",
        "    offspring1,offspring2 = sbx(parent1, parent2, eta, cRate)\n",
        "    Q.extend((offspring1,offspring2))\n",
        "\n",
        "  #Mutation\n",
        "  for i in range(len(old_pop)):\n",
        "    Q[i] = polyMutation(Q[i], lowLim, upLim, eta, mRate)\n",
        "\n",
        "  #Joining the parents and offsprings\n",
        "  R = old_pop + Q\n",
        "\n",
        "  #Calculating the fitness and reseting values for algorithm\n",
        "  for i in range(len(R)):\n",
        "    R[i].m = fitfunction(R[i].value)\n",
        "    R[i].id = i\n",
        "    R[i].rank = 0\n",
        "    R[i].n = 0\n",
        "    R[i].sp = []\n",
        "    R[i].distance = 0\n",
        "\n",
        "  #Fast non-nominated sort\n",
        "  Rf = fast_non_dominated_sort(R)\n",
        "\n",
        "  Pnew = []\n",
        "  #print(\"Pnew inicio\", len(Pnew))\n",
        "  for i in range(len(Rf)): \n",
        "    if (len(Pnew)+len(Rf[i]) <= len(old_pop)):\n",
        "      Pnew = Pnew + crowding_distance_assignment(Rf[i])  #Crowding distance assignment\n",
        "    else:\n",
        "      Rc = crowding_distance_assignment(Rf[i])\n",
        "      break\n",
        "    \n",
        "  #Sorting based on rank and distance\n",
        "  Rs = sorted(Rc, key=lambda x: (x.rank, -x.distance), reverse=False) \n",
        "  #print(\"Pnew before crowding selection\", len(Pnew))\n",
        "  #Last selection\n",
        "  Pnew = Pnew + Rs[0:len(old_pop)-len(Pnew)]\n",
        "  #print(\"Pnew FINAL\", len(Pnew))\n",
        "\n",
        "  return Pnew"
      ],
      "execution_count": 80,
      "outputs": []
    },
    {
      "cell_type": "markdown",
      "metadata": {
        "id": "y1VA0Ln5A4YY"
      },
      "source": [
        "#### Main Cycle\n",
        "In the following cell you should implement the main cycle of your evolutionary strategy, this is, putting together all elements defined previously so you can solve the problem.\n",
        "\n",
        "Once you run the main cycle, the standard output should looks something like this\n",
        "```\n",
        "# <Generation/Fitness Evaluation number> <Decision vector (Genotype)> <Objective vector (Fitness functions values)>\n",
        "```\n",
        "Feel free to add extra spaces when needed or use any other format you think will make the output look nicer. But please preserve the order."
      ]
    },
    {
      "cell_type": "markdown",
      "metadata": {
        "id": "4WnNkE5VURKw"
      },
      "source": [
        "The following code is only a for loop that calls the NSGA-II function based on the number of runs allowed. \n"
      ]
    },
    {
      "cell_type": "code",
      "metadata": {
        "id": "umuyQmz0Wvpx"
      },
      "source": [
        "#Main\n",
        "number_runs = 20\n",
        "gc = 0 # counter of generations\n",
        "old_pop = newpop(population_size)\n",
        "\n",
        "for i in range(number_runs):\n",
        "  new_pop = nsgaII_step(old_pop,lEta,crossover_prob,lowLim,upLim,mutation_prob,tournamentSize,ZDT2) \n",
        "  old_pop = new_pop\n",
        "  gc += 1"
      ],
      "execution_count": 144,
      "outputs": []
    },
    {
      "cell_type": "markdown",
      "metadata": {
        "id": "y4saiUxrUUkL"
      },
      "source": [
        "\n",
        "The code below is used to see how the frontier is created. **It is important to hightlight that not always the code runs the best frontier is found. In most of the cases it is found but the algorithm has a stochastic component that does not allow always to find the frontier. Please, run the code around 5 times in order to see how the algorithms works.**"
      ]
    },
    {
      "cell_type": "code",
      "metadata": {
        "id": "z5FCFFutW2JS",
        "outputId": "630d1cf5-2c4b-459a-ad47-27ecc5b0704f",
        "colab": {
          "base_uri": "https://localhost:8080/",
          "height": 374
        }
      },
      "source": [
        "  f1 = []\n",
        "  f2 = []\n",
        "  for elem in old_pop:\n",
        "    f1.append(elem.m[0])\n",
        "    f2.append(elem.m[1])\n",
        "\n",
        "  fig=plt.figure()\n",
        "  ax=fig.add_axes([0,0,1,1])\n",
        "  ax.scatter(f1, f2, color='b')\n",
        "  ax.set_xlabel(r'$f_1$', size=15)\n",
        "  ax.set_ylabel(r'$f_2$', size=15)\n",
        "  #plt.ylim([0,1])\n",
        "  ax.set_title(r'Pareto optimal front for $\\textsc{ZDT2}(x)$', size=15, y=-0.2)\n",
        "  plt.show()"
      ],
      "execution_count": 145,
      "outputs": [
        {
          "output_type": "display_data",
          "data": {
            "image/png": "[encoded data removed]",
            "text/plain": [
              "<Figure size 432x288 with 1 Axes>"
            ]
          },
          "metadata": {
            "tags": [],
            "needs_background": "light"
          }
        }
      ]
    },
    {
      "cell_type": "markdown",
      "metadata": {
        "id": "UMGK4n-iUWg2"
      },
      "source": [
        "The code below is used to print the population found by the algorithm."
      ]
    },
    {
      "cell_type": "code",
      "metadata": {
        "id": "a3NsmumuUZNi"
      },
      "source": [
        "for elem in old_pop:\n",
        "  print(\"Individual ID: {0}, Rank: {1}, Fitness Value: {2}\".format(elem.id, elem.rank, elem.m))"
      ],
      "execution_count": null,
      "outputs": []
    },
    {
      "cell_type": "markdown",
      "metadata": {
        "id": "BVKXkgkOfHWk"
      },
      "source": [
        "## $\\zdtthree$\n",
        "\n",
        "Here is the formal definition of the $\\zdtthree$ function.\n",
        "\n",
        "**Definition ($\\zdtthree$)**: A bi-objective test function that represents the discretness feature; its Pareto-optimal front consists of several noncontiguous convex parts. The function is defined as\n",
        "\n",
        "\\begin{align*}\n",
        "\\zdtthree(x) &= (f_1(x),f_2(x)),\\\\\n",
        "f_1(x) &= x_1,\\\\\n",
        "f_2(x) &= g(x)\\cdot\\left(1.0-\\sqrt{\\frac{x_1}{g(x)}}-\\frac{x_1}{g(x)}\\cdot\\sin\\left(10\\pi x_1\\right)\\right),\\\\\n",
        "g(x) &= 1+\\frac{9}{n-1}\\sum_{i=2}^{n}x_i,\n",
        "\\end{align*}\n",
        "with $0\\leq x_i\\leq 1$, for $1\\leq i \\leq n$."
      ]
    },
    {
      "cell_type": "markdown",
      "metadata": {
        "id": "BDxTUo68FCML"
      },
      "source": [
        "### Function Definition"
      ]
    },
    {
      "cell_type": "code",
      "metadata": {
        "id": "xnJcr-aagrhv"
      },
      "source": [
        "def ZDT3(x):\n",
        "  f1 = x[0]\n",
        "  g = 1 + ( 9 / (len(x)-1)) * sum(x[1:])\n",
        "  f2 = g * (1.0 - np.sqrt(x[0]/g) - (x[0]/g) * np.sin(10*np.pi*x[0]))\n",
        "  return [f1, f2]"
      ],
      "execution_count": 146,
      "outputs": []
    },
    {
      "cell_type": "markdown",
      "metadata": {
        "id": "ZZsQepBT2s_C"
      },
      "source": [
        "By replacing `f2` from the previously defined $\\zdtthree$ function with $f_2=1-\\sqrt{x_1}-x_1\\cdot \\sin(10\\pi x_1)$ and by defining the following values for $x_1\\in F$, where $F$ is defined as\n",
        "\\begin{align*}\n",
        "F = &\\,[0, 0.0830015349]~\\cup\\\\\n",
        "&\\,(0.1822287280, 0.2577623634]~\\cup \\\\\n",
        "&\\,(0.4093136748, 0.4538821041]~\\cup\\\\\n",
        "&\\,(0.6183967944, 0.6525117038]~\\cup\\\\\n",
        "&\\,(0.8233317983, 0.8518328654],\n",
        "\\end{align*}\n",
        "you can obtain values from the Pareto-optimal objective vectors. In the following cell you can generate Pareto-optimal objective vectors and print them using a pandas' Dataframe."
      ]
    },
    {
      "cell_type": "code",
      "metadata": {
        "id": "fQxbbiBAyKj8",
        "outputId": "cb0454c7-7cfa-429b-865e-0d4aa2ba0101",
        "colab": {
          "base_uri": "https://localhost:8080/",
          "height": 424
        }
      },
      "source": [
        "pareto_front = np.empty((0, 2))\n",
        "\n",
        "F = ((0, 0.0830015349),\n",
        "     (0.1822287280, 0.2577623634), \n",
        "     (0.4093136748, 0.4538821041), \n",
        "     (0.6183967944, 0.6525117038), \n",
        "     (0.8233317983, 0.8518328654))\n",
        "\n",
        "# Feel free to play with the parameter \"num\" so you can see the shape of the Pareto front.\n",
        "for lb, ub in F:\n",
        "  for f1 in np.linspace(lb, ub, num=100):\n",
        "    f2 = 1 - np.sqrt(f1) - f1 * np.sin(10 * np.pi * f1)\n",
        "    pareto_front = np.vstack([pareto_front, [f1, f2]])\n",
        "\n",
        "# Convert to DataFrame and show its content\n",
        "pareto_front = pd.DataFrame(pareto_front, columns=['f1', 'f2'])  \n",
        "pareto_front"
      ],
      "execution_count": null,
      "outputs": [
        {
          "output_type": "execute_result",
          "data": {
            "text/html": [
              "<div>\n",
              "<style scoped>\n",
              "    .dataframe tbody tr th:only-of-type {\n",
              "        vertical-align: middle;\n",
              "    }\n",
              "\n",
              "    .dataframe tbody tr th {\n",
              "        vertical-align: top;\n",
              "    }\n",
              "\n",
              "    .dataframe thead th {\n",
              "        text-align: right;\n",
              "    }\n",
              "</style>\n",
              "<table border=\"1\" class=\"dataframe\">\n",
              "  <thead>\n",
              "    <tr style=\"text-align: right;\">\n",
              "      <th></th>\n",
              "      <th>f1</th>\n",
              "      <th>f2</th>\n",
              "    </tr>\n",
              "  </thead>\n",
              "  <tbody>\n",
              "    <tr>\n",
              "      <th>0</th>\n",
              "      <td>0.000000</td>\n",
              "      <td>1.000000</td>\n",
              "    </tr>\n",
              "    <tr>\n",
              "      <th>1</th>\n",
              "      <td>0.000838</td>\n",
              "      <td>0.971023</td>\n",
              "    </tr>\n",
              "    <tr>\n",
              "      <th>2</th>\n",
              "      <td>0.001677</td>\n",
              "      <td>0.958963</td>\n",
              "    </tr>\n",
              "    <tr>\n",
              "      <th>3</th>\n",
              "      <td>0.002515</td>\n",
              "      <td>0.949650</td>\n",
              "    </tr>\n",
              "    <tr>\n",
              "      <th>4</th>\n",
              "      <td>0.003354</td>\n",
              "      <td>0.941737</td>\n",
              "    </tr>\n",
              "    <tr>\n",
              "      <th>...</th>\n",
              "      <td>...</td>\n",
              "      <td>...</td>\n",
              "    </tr>\n",
              "    <tr>\n",
              "      <th>495</th>\n",
              "      <td>0.850681</td>\n",
              "      <td>-0.772810</td>\n",
              "    </tr>\n",
              "    <tr>\n",
              "      <th>496</th>\n",
              "      <td>0.850969</td>\n",
              "      <td>-0.773055</td>\n",
              "    </tr>\n",
              "    <tr>\n",
              "      <th>497</th>\n",
              "      <td>0.851257</td>\n",
              "      <td>-0.773229</td>\n",
              "    </tr>\n",
              "    <tr>\n",
              "      <th>498</th>\n",
              "      <td>0.851545</td>\n",
              "      <td>-0.773334</td>\n",
              "    </tr>\n",
              "    <tr>\n",
              "      <th>499</th>\n",
              "      <td>0.851833</td>\n",
              "      <td>-0.773369</td>\n",
              "    </tr>\n",
              "  </tbody>\n",
              "</table>\n",
              "<p>500 rows × 2 columns</p>\n",
              "</div>"
            ],
            "text/plain": [
              "           f1        f2\n",
              "0    0.000000  1.000000\n",
              "1    0.000838  0.971023\n",
              "2    0.001677  0.958963\n",
              "3    0.002515  0.949650\n",
              "4    0.003354  0.941737\n",
              "..        ...       ...\n",
              "495  0.850681 -0.772810\n",
              "496  0.850969 -0.773055\n",
              "497  0.851257 -0.773229\n",
              "498  0.851545 -0.773334\n",
              "499  0.851833 -0.773369\n",
              "\n",
              "[500 rows x 2 columns]"
            ]
          },
          "metadata": {
            "tags": []
          },
          "execution_count": 343
        }
      ]
    },
    {
      "cell_type": "markdown",
      "metadata": {
        "id": "XypT078C67Gd"
      },
      "source": [
        "In the following cell you can plot the points from the previously generated dataset so you can visualise the shape of the Pareto-optimal ovjective vectors."
      ]
    },
    {
      "cell_type": "code",
      "metadata": {
        "id": "33dn3vDP2YFt",
        "outputId": "79fbb667-5cf9-4778-98b2-779cff76ebac",
        "colab": {
          "base_uri": "https://localhost:8080/",
          "height": 374
        }
      },
      "source": [
        "fig=plt.figure()\n",
        "ax=fig.add_axes([0,0,1,1])\n",
        "ax.scatter(pareto_front.f1, pareto_front.f2, color='b')\n",
        "ax.set_xlabel(r'$f_1$', size=15)\n",
        "ax.set_ylabel(r'$f_2$', size=15)\n",
        "ax.set_title(r'Pareto optimal front for $\\textsc{ZDT3}(x)$', size=15, y=-0.2)\n",
        "plt.show()"
      ],
      "execution_count": null,
      "outputs": [
        {
          "output_type": "display_data",
          "data": {
            "image/png": "[encoded data removed]",
            "text/plain": [
              "<Figure size 432x288 with 1 Axes>"
            ]
          },
          "metadata": {
            "tags": [],
            "needs_background": "light"
          }
        }
      ]
    },
    {
      "cell_type": "markdown",
      "metadata": {
        "id": "oEsOX_eO7E4I"
      },
      "source": [
        "You can also read the Pareto-optimal vectors from the file provided in Canvas, stored them in a pandas' dataframe and print its content.  "
      ]
    },
    {
      "cell_type": "code",
      "metadata": {
        "id": "6ZZt766Zhoz2"
      },
      "source": [
        "# Before you run the code remember to specify a correct file path\n",
        "pareto_front = pd.read_csv('/tmp/ZDT3.pf', delim_whitespace=True)\n",
        "pareto_front.columns = ['f1','f2']\n",
        "  \n",
        "pareto_front"
      ],
      "execution_count": null,
      "outputs": []
    },
    {
      "cell_type": "markdown",
      "metadata": {
        "id": "g_lmz8oB7TWm"
      },
      "source": [
        "And again plot the Pareto-optimal objective vectors by running the following cell. As a sanity check, try running but options, automatically generated Pareto-optimal objective vectors and the ones in the file to corroborate that both shapes are the same."
      ]
    },
    {
      "cell_type": "code",
      "metadata": {
        "id": "ZmOvXmRph8UE"
      },
      "source": [
        "fig=plt.figure()\n",
        "ax=fig.add_axes([0,0,1,1])\n",
        "ax.scatter(pareto_front.f1, pareto_front.f2, color='b')\n",
        "ax.set_xlabel(r'$f_1$', size=15)\n",
        "ax.set_ylabel(r'$f_2$', size=15)\n",
        "ax.set_title(r'Pareto optimal front for $\\textsc{ZDT3}(x)$', size=15, y=-0.2)\n",
        "plt.show()"
      ],
      "execution_count": null,
      "outputs": []
    },
    {
      "cell_type": "markdown",
      "metadata": {
        "id": "hpT_E29Gv2-7"
      },
      "source": [
        "### Parameters to use\n",
        "In the following section define the value of the parameters that your evolutionary strategy will use. I have added some examples of such parameters but depending on your solution you may want to add some more.\n",
        "\n",
        "Do not change the parameter values\n",
        "\n",
        "```\n",
        "# number_runs = 50\n",
        "# number_generations = 50000\n",
        "```\n",
        "Use these parameters to define the stopping criterion, you can use it as the maximum number of generations allowed for the algorithm to run or the maximum number of fitness evaluations allowed for the algorithm to run.\n",
        "\n",
        "That time is enough to find an acceptable approximation of the Pareto front of the $\\zdtthree$. This is to avoid extreme definition of stopping criterions, I do not want to run the algorithm from millions of generations.\n",
        "\n",
        "Also, if you want to use another stopping criterion together with the number of generations you can do it. If your algorithm was able to find all Pareto-optimal objective vectors before all the time budget is used go ahead and stop the run."
      ]
    },
    {
      "cell_type": "code",
      "metadata": {
        "id": "zkM_saaLBQaX"
      },
      "source": [
        "# YOU CAN CHANGE THE VALUES OF THE FOLLOWING PARAMETERS AND ADD ANY OTHER PARAMETER NEEDED IN YOUR SOLUTION\n",
        "population_size = 150\n",
        "offspring_size = 0 # not used\n",
        "mutation_prob = 0.4\n",
        "crossover_prob = 0.0\n",
        "problem_size =  2 # not used, fixed to 2.\n",
        "lEta = 10\n",
        "lowLim = 0\n",
        "upLim = 1\n",
        "tournamentSize = 5\n",
        "\n",
        "# DO NOT CHANGE THE VALUE OF THE LINE BELOW.\n",
        "number_runs = 50\n",
        "number_generations = 50000 # you can use this one as fitness function evaluations if you want"
      ],
      "execution_count": 182,
      "outputs": []
    },
    {
      "cell_type": "markdown",
      "metadata": {
        "id": "eblOyzBWBT9i"
      },
      "source": [
        "### Evolution Strategy for $\\zdtthree$\n",
        "**The multiobjective problem ZDT3 is solved with the algorithm, NSGA II, explained by Deb, K. et al. [1]. The pseudo code presented in the paper in some parts it is not very clear therefore it was necessary to understand deeply the algorithm by reading the description to be able to propose a concrete solution for real coding. This is the reason the approach to implement the algorithm uses python objects which help to the storage of information for each individual. Having said that, the code is structured as follows:**\n",
        "1. The individuals are objects with attributes. The attributes are id, rank, m, n, distance, sp, and value. And for the initialization a list of this objects is created with random values within the range specified for the problem.\n",
        "2. The individuals are selected with tournament selection to be used for crossover, and later all the individuals are mutated.\n",
        "3. The parents and offsprings are concatenated to be used for the survival method.\n",
        "4. This is where the NSGA-II is used. It starts with the evaluation of the individual with the objectives functions. Then the rest of the attributes are reset to their original values. Later the fast-non-dominated-front algorthm is applied to the entire population. Next, the new population is filled based on the rank of the frontiers and the assigment of crowdwing distance is calculated as well. If the new population is not completely filled then the crowding distance is used. In this case it first performs a sort based on distance and finally the best individuals are used to complete the new population. \n",
        "5. The steps above are repeated until the numbers of runs is completed.\n",
        "\n",
        "\n",
        "Note: the representation of this problem is with real numbers.\n"
      ]
    },
    {
      "cell_type": "markdown",
      "metadata": {
        "id": "NrYLOyYyBnMv"
      },
      "source": [
        "#### Initialisation\n",
        "**The following code is used to create the population. The first lines of code is the class \"individual\" which stores all the attributes of each individual and the functions inside the class are used to update the attributes. The last function creates a list with the individuals objects. The values of the individuals depend on the problem to be solved.**"
      ]
    },
    {
      "cell_type": "code",
      "metadata": {
        "id": "l76RrGWcZak5"
      },
      "source": [
        "import random\n",
        "import numpy as np\n",
        "\n",
        "#Creates the initial population\n",
        "class individual:\n",
        "  def __init__(self,i):\n",
        "    self.value = [random.uniform(0,1),random.uniform(0,1)]\n",
        "    self.sp = []\n",
        "    self.rank = 0\n",
        "    self.id = i\n",
        "    self.n = 0\n",
        "    self.m = []\n",
        "    self.distance = 0\n",
        "\n",
        "  def add(self, x):\n",
        "      self.sp.append(x)\n",
        "\n",
        "  def sumn(self):\n",
        "      self.n += 1\n",
        "\n",
        "  def subn(self):\n",
        "      self.n -= 1\n",
        "\n",
        "#only two values per individual\n",
        "def newpop(populationSize): \n",
        "  population = [None] * populationSize\n",
        "\n",
        "  for i in range(populationSize): \n",
        "    population[i] = individual(i)\n",
        "  return population"
      ],
      "execution_count": 148,
      "outputs": []
    },
    {
      "cell_type": "markdown",
      "metadata": {
        "id": "6gbp8LRUBsYM"
      },
      "source": [
        "#### Stopping Criterion\n",
        "**The following code is used to create the population. The first lines of code is the class \"individual\" which stores all the attributes of each individual and the functions inside the class are used to update the attributes. The last function creates a list with the individuals objects. The values of the individuals depend on the problem to be solved.**"
      ]
    },
    {
      "cell_type": "markdown",
      "metadata": {
        "id": "_v4nQ8jEB2fI"
      },
      "source": [
        "#### Selection for Reproduction\n",
        "**The function below is tournament selection, it selects the best individual based on the number of individuals to be compared, this number is defined by \"tournament size\". The individuals to be compared are selected randomly. It also uses the function \"crowded_comparison_operator\", which helps to determine the best individual.**"
      ]
    },
    {
      "cell_type": "code",
      "metadata": {
        "id": "MF8dAll56cDU"
      },
      "source": [
        "#Tournament Selection\n",
        "# Implements the tournament selection.\n",
        "def select(population, tournamentSize):\n",
        "  winner = np.random.randint(0, len(population))\n",
        "  #print(\"first\",population[winner].rank,population[winner].distance )\n",
        "  for i in range(tournamentSize - 1):\n",
        "    rival = np.random.randint(0, len(population))\n",
        "    if (crowded_comparison_operator(population[rival],population[winner])):\n",
        "      winner = rival\n",
        "  #print(\"rival\",population[rival].rank,population[rival].distance )\n",
        "  return population[winner]"
      ],
      "execution_count": 149,
      "outputs": []
    },
    {
      "cell_type": "markdown",
      "metadata": {
        "id": "CkyjPbhgB7Zc"
      },
      "source": [
        "#### Variation\n",
        "**The code below are the functions for crossover and mutation. Both are used in the NSGA-II [1]. However, the methods are explained in [2]. This type of variation is used for real representation. The relevant parameters are cRate and mRate which is the threshold for them to be used. The other important parameter is lEta (lower case eta) which is used to specify the amount of variation.**"
      ]
    },
    {
      "cell_type": "code",
      "metadata": {
        "id": "0YhapxNKZanN"
      },
      "source": [
        "#Crossover**\n",
        "import copy\n",
        "import random\n",
        "\n",
        "def sbx(parent1, parent2, lEta, cRate):\n",
        "  offspringA = copy.deepcopy(parent1)\n",
        "  offspringB = copy.deepcopy(parent2)\n",
        "\n",
        "  if random.random() <= cRate:\n",
        "    for i, (v1, v2) in enumerate(zip(offspringA.value, offspringB.value)):\n",
        "        rand = random.random()\n",
        "        if rand <= 0.5:\n",
        "            beta = 2. * rand\n",
        "        else:\n",
        "            beta = 1. / (2. * (1. - rand))\n",
        "        beta **= 1. / (lEta + 1.)\n",
        "        offspringA.value[i] = 0.5 * (((1 + beta) * v1) + ((1 - beta) * v2))\n",
        "        offspringB.value[i] = 0.5 * (((1 - beta) * v1) + ((1 + beta) * v2))\n",
        "\n",
        "  return offspringA, offspringB\n",
        "\n",
        "#Mutation**\n",
        "def polyMutation(ind, lowLim, uppLim, lEta, mRate):\n",
        "  parent = copy.deepcopy(ind)\n",
        "  for i in range(len(parent.value)):\n",
        "    if (random.random() <= mRate):\n",
        "      u = random.random()\n",
        "      delta = min((parent.value[i] - lowLim), (uppLim - parent.value[i])) / (uppLim - lowLim)\n",
        "      \n",
        "      if u <= 0.5:\n",
        "        deltaQ = (2*u + (1-2*u)*(1-delta)**(lEta + 1))**(1/(lEta + 1))-1\n",
        "      else:\n",
        "        deltaQ = 1-(1*(1-u)+2*(u-0.5)*(1-delta)**(lEta+1))**(1/(lEta+1))\n",
        "\n",
        "      parent.value[i] = parent.value[i] + deltaQ*(uppLim - lowLim)\n",
        "\n",
        "  return parent"
      ],
      "execution_count": 150,
      "outputs": []
    },
    {
      "cell_type": "markdown",
      "metadata": {
        "id": "qas2EE-TCFjW"
      },
      "source": [
        "#### Selection for Survival\n",
        "\n",
        "**The following cells are the core of the NSGA-II:**\n",
        "\n",
        "+ *dominates*: this function compares individuals based on the definiton of frontiers. This is used by the fast_non_dominated_sort function.\n",
        "+ *fast_non_dominated_sort*: this used to assign frontier to each of the individuals in the population. \n",
        "+ *crowding_distance_assignment*: this function assigns distance between neighbors within the same frontier.\n",
        "+ *crowded_comparison_operator*: this is used to compare individuals once the distance attribute is filled. The idea is to compare the population of a frontier based on their distance.\n",
        "+ *nsgaII_step*: This is where all the small chunks of code are put together in order to have the NSGA-II working. \n"
      ]
    },
    {
      "cell_type": "code",
      "metadata": {
        "id": "JHXUDr-QZalx"
      },
      "source": [
        "#dominates\n",
        "def dominates(a,b):\n",
        "  if (a[0] <= b[0]) & (a[1] <= b[1]):\n",
        "    dominator = True\n",
        "  else:\n",
        "    dominator = False\n",
        "  return dominator"
      ],
      "execution_count": 151,
      "outputs": []
    },
    {
      "cell_type": "code",
      "metadata": {
        "id": "X45EG5EgZamZ"
      },
      "source": [
        "def fast_non_dominated_sort(pop):\n",
        "  P = pop.copy()\n",
        "\n",
        "  #Fast-non-dominated-sort(P)\n",
        "  F = [] # necesario?\n",
        "  f1 = [] # necesario?\n",
        "\n",
        "  for i in range(len(P)):\n",
        "    Q = P.copy()\n",
        "    Q.pop(i)\n",
        "    for j in range(len(Q)):\n",
        "      if dominates(P[i].m,Q[j].m):#should be m\n",
        "        P[i].add(Q[j].id)#add to sp\n",
        "      elif dominates(Q[j].m,P[i].m):#should be m\n",
        "        P[i].sumn() #sum 1 to the n counter\n",
        "    if P[i].n == 0:\n",
        "      P[i].rank = 1\n",
        "      f1.append(P[i])\n",
        "\n",
        "  F.append(f1) # necesario?\n",
        "  i = 0\n",
        "  while (len(F[i]) != 0):\n",
        "    Q = []\n",
        "    for p in F[i]:\n",
        "      for q in p.sp:\n",
        "        #encuentra el n de la q -> apuntador del id en pop\n",
        "        P[q].subn()\n",
        "        if P[q].n == 0:\n",
        "          P[q].rank = i+2\n",
        "          Q.append(P[q])\n",
        "    i += 1\n",
        "    F.append(Q)# necesario?\n",
        "\n",
        "  return F"
      ],
      "execution_count": 152,
      "outputs": []
    },
    {
      "cell_type": "code",
      "metadata": {
        "id": "LEv-3EqiZam2"
      },
      "source": [
        "#Crowding distance assignment (debe de ser por frontera)\n",
        "#F tiene las fronteras\n",
        "def crowding_distance_assignment(pop):\n",
        "  P = pop.copy()\n",
        "\n",
        "  l = len(P)\n",
        "  for elem in P:\n",
        "    elem.distance = 0\n",
        "\n",
        "  #solo 2 objective functions \n",
        "  fmax = [1,6.84]\n",
        "  fmin = [0,1]\n",
        "\n",
        "  for i in range(2): #suma a la distancia las diferencias de los 2 objetivos con respecto a sus vecinos\n",
        "    #print(\"m: \", i)\n",
        "    newP = sorted(P, key=lambda x: x.m[i], reverse=False)\n",
        "    newP[0].distance = float('inf')\n",
        "    newP[-1].distance = float('inf')\n",
        "    for j in range(1,l-1,1):\n",
        "      newP[j].distance = newP[j].distance + (newP[j+1].m[i] - newP[j-1].m[i])/(fmax[i]-fmin[i])\n",
        "  \n",
        "  return newP"
      ],
      "execution_count": 153,
      "outputs": []
    },
    {
      "cell_type": "code",
      "metadata": {
        "id": "Su31UuWCZan3"
      },
      "source": [
        "def crowded_comparison_operator(ind1, ind2):\n",
        "  if ((ind1.rank < ind2.rank) or ((ind1.rank == ind2.rank) and (ind1.distance > ind2.distance))):\n",
        "    return True\n",
        "  else:\n",
        "    return False"
      ],
      "execution_count": 154,
      "outputs": []
    },
    {
      "cell_type": "code",
      "metadata": {
        "id": "dA09qGXeZaod"
      },
      "source": [
        "def nsgaII_step(old_pop,eta,cRate,lowLim,upLim,mRate,tournamentSize,fitfunction):\n",
        "  #Crossover\n",
        "  Q = []\n",
        "  for i in range(0,len(old_pop),2):\n",
        "    parent1 = select(old_pop, tournamentSize)#old_pop[i]\n",
        "    parent2 = select(old_pop, tournamentSize)#old_pop[i+1]\n",
        "    offspring1,offspring2 = sbx(parent1, parent2, eta, cRate)\n",
        "    Q.extend((offspring1,offspring2))\n",
        "\n",
        "  #Mutation\n",
        "  for i in range(len(old_pop)):\n",
        "    Q[i] = polyMutation(Q[i], lowLim, upLim, eta, mRate)\n",
        "\n",
        "  #Joining the parents and offsprings\n",
        "  R = old_pop + Q\n",
        "\n",
        "  #Calculating the fitness and reseting values for algorithm\n",
        "  for i in range(len(R)):\n",
        "    R[i].m = fitfunction(R[i].value)\n",
        "    R[i].id = i\n",
        "    R[i].rank = 0\n",
        "    R[i].n = 0\n",
        "    R[i].sp = []\n",
        "    R[i].distance = 0\n",
        "\n",
        "  #Fast non-nominated sort\n",
        "  Rf = fast_non_dominated_sort(R)\n",
        "\n",
        "  Pnew = []\n",
        "  #print(\"Pnew inicio\", len(Pnew))\n",
        "  for i in range(len(Rf)): \n",
        "    if (len(Pnew)+len(Rf[i]) <= len(old_pop)):\n",
        "      Pnew = Pnew + crowding_distance_assignment(Rf[i])  #Crowding distance assignment\n",
        "    else:\n",
        "      Rc = crowding_distance_assignment(Rf[i])\n",
        "      break\n",
        "    \n",
        "  #Sorting based on rank and distance\n",
        "  Rs = sorted(Rc, key=lambda x: (x.rank, -x.distance), reverse=False) \n",
        "  #print(\"Pnew before crowding selection\", len(Pnew))\n",
        "  #Last selection\n",
        "  Pnew = Pnew + Rs[0:len(old_pop)-len(Pnew)]\n",
        "  #print(\"Pnew FINAL\", len(Pnew))\n",
        "\n",
        "  return Pnew"
      ],
      "execution_count": 155,
      "outputs": []
    },
    {
      "cell_type": "markdown",
      "metadata": {
        "id": "qAfrqK6xCN6b"
      },
      "source": [
        "#### Main Cycle\n",
        "In the following cell you should implement the main cycle of your evolutionary strategy, this is, putting together all elements defined previously so you can solve the problem.\n",
        "\n",
        "Once you run the main cycle, the standard output should looks something like this\n",
        "```\n",
        "# <Generation/Fitness Evaluation number> <Decision vector (Genotype)> <Objective vector (Fitness functions values)>\n",
        "```\n",
        "Feel free to add extra spaces when needed or use any other format you think will make the output look nicer. But please preserve the order."
      ]
    },
    {
      "cell_type": "markdown",
      "metadata": {
        "id": "iTqGrX2ZU1L3"
      },
      "source": [
        "\n",
        "The following code is only a for loop that calls the NSGA-II function based on the number of runs allowed. "
      ]
    },
    {
      "cell_type": "code",
      "metadata": {
        "id": "l-L78qu5Zaov"
      },
      "source": [
        "#Main\n",
        "gc = 0 # counter of generations\n",
        "old_pop = newpop(population_size)\n",
        "number_runs  = 20\n",
        "\n",
        "for i in range(number_runs):\n",
        "  new_pop = nsgaII_step(old_pop,lEta,crossover_prob,lowLim,upLim,mutation_prob,tournamentSize,ZDT3)    \n",
        "  old_pop = new_pop\n",
        "  gc += 1"
      ],
      "execution_count": 183,
      "outputs": []
    },
    {
      "cell_type": "markdown",
      "metadata": {
        "id": "vxp_fPTuU2-e"
      },
      "source": [
        "The code below is used to see how the frontier is created. **It is important to hightlight that not always the code runs the best frontier is found. In most of the cases it is found but the algorithm has a stochastic component that does not allow always to find the frontier. Please, run the code around 5 times in order to see how the algorithms works.**"
      ]
    },
    {
      "cell_type": "code",
      "metadata": {
        "id": "LV16n13SZapL",
        "outputId": "a55a0c0a-52c3-4b78-b4ca-e1a251b16b42",
        "colab": {
          "base_uri": "https://localhost:8080/",
          "height": 374
        }
      },
      "source": [
        "  f1 = []\n",
        "  f2 = []\n",
        "  for elem in old_pop:\n",
        "    f1.append(elem.m[0])\n",
        "    f2.append(elem.m[1])\n",
        "\n",
        "  fig=plt.figure()\n",
        "  ax=fig.add_axes([0,0,1,1])\n",
        "  ax.scatter(f1, f2, color='b')\n",
        "  ax.set_xlabel(r'$f_1$', size=15)\n",
        "  ax.set_ylabel(r'$f_2$', size=15)\n",
        "  #plt.ylim([0,1])\n",
        "  ax.set_title(r'Pareto optimal front for $\\textsc{ZDT3}(x)$', size=15, y=-0.2)\n",
        "  plt.show()"
      ],
      "execution_count": 184,
      "outputs": [
        {
          "output_type": "display_data",
          "data": {
            "image/png": "[encoded data removed]",
            "text/plain": [
              "<Figure size 432x288 with 1 Axes>"
            ]
          },
          "metadata": {
            "tags": [],
            "needs_background": "light"
          }
        }
      ]
    },
    {
      "cell_type": "markdown",
      "metadata": {
        "id": "TCxH3lY1U6iz"
      },
      "source": [
        "The code below is used to print the population found by the algorithm."
      ]
    },
    {
      "cell_type": "code",
      "metadata": {
        "id": "mAhaVti1U7cK"
      },
      "source": [
        "for elem in old_pop:\n",
        "  print(\"Individual ID: {0}, Rank: {1}, Fitness Value: {2}\".format(elem.id, elem.rank, elem.m))"
      ],
      "execution_count": null,
      "outputs": []
    },
    {
      "cell_type": "markdown",
      "metadata": {
        "id": "_nNSX04JtFAE"
      },
      "source": [
        "## $\\fon$\n",
        "\n",
        "**Definition ($\\fon$)**: A bi-objective test function with a nonconvex Pareto-optimal front. The function is defined as\n",
        "\n",
        "\\begin{align*}\n",
        "\\fon(x) &= (f_1(x),f_2(x)),\\\\\n",
        "f_1(x) &= 1-\\exp\\left(-\\sum_{i=1}^{3}\\left(x_i-\\frac{1}{\\sqrt{3}}\\right)^2\\right),\\\\\n",
        "f_2(x) &= 1-\\exp\\left(-\\sum_{i=1}^{3}\\left(x_i+\\frac{1}{\\sqrt{3}}\\right)^2\\right),\n",
        "\\end{align*}\n",
        "with $-4\\leq x_i\\leq 4$ for $1\\leq i \\leq n$."
      ]
    },
    {
      "cell_type": "markdown",
      "metadata": {
        "id": "TMZedn9BE3wD"
      },
      "source": [
        "### Function Definition"
      ]
    },
    {
      "cell_type": "code",
      "metadata": {
        "id": "E0Ylx-bKv82Z"
      },
      "source": [
        "def FON(x):\n",
        "   f1 = 1 - np.exp(-sum((xi - 1/np.sqrt(3))**2 for xi in x[:3]))\n",
        "   f2 = 1 - np.exp(-sum((xi + 1/np.sqrt(3))**2 for xi in x[:3]))\n",
        "   return [f1, f2]"
      ],
      "execution_count": 13,
      "outputs": []
    },
    {
      "cell_type": "code",
      "metadata": {
        "id": "X3c4mTKcIapd",
        "outputId": "79579295-e2be-4d13-9348-91c05e68f5f1",
        "colab": {
          "base_uri": "https://localhost:8080/",
          "height": 35
        }
      },
      "source": [
        "FON([1,0,0])"
      ],
      "execution_count": 21,
      "outputs": [
        {
          "output_type": "execute_result",
          "data": {
            "text/plain": [
              "[0.5705712584731136, 0.9573488285306413]"
            ]
          },
          "metadata": {
            "tags": []
          },
          "execution_count": 21
        }
      ]
    },
    {
      "cell_type": "markdown",
      "metadata": {
        "id": "ebboYfZBGaNY"
      },
      "source": [
        "For this problem the values for $x$, `f1` and `f2` required to plot the Pareto front are omitted. Use any means at your disposal to find them (for example make a literature review). \n",
        "\n",
        "The optimal values are found with this function $f_2=1-\\exp(-[2-\\sqrt{-\\ln(1-{f_1})}]^2)$ with $0\\leq f_1\\leq 1- \\exp(-4)$  [3].\n",
        "\n",
        "Once you know how to generate the Pareto-optimal objective values create a pandas' dataset in the same way as the previous problems.\n",
        "\n"
      ]
    },
    {
      "cell_type": "code",
      "metadata": {
        "id": "ycsQFgzsTqGZ",
        "outputId": "05b0c758-4971-4595-88d2-d05ca6f0fbd2",
        "colab": {
          "base_uri": "https://localhost:8080/",
          "height": 424
        }
      },
      "source": [
        "pareto_front = np.empty((0, 2))\n",
        "\n",
        "for f1 in np.linspace(0, 1 - np.exp(-4), num=100):\n",
        "    f2 = 1 - np.exp(-np.power(2 - np.sqrt(-np.log(1-f1)),2)) \n",
        "    pareto_front = np.vstack([pareto_front, [f1, f2]])  \n",
        "\n",
        "# Convert to DataFrame and show its content\n",
        "pareto_front = pd.DataFrame(pareto_front, columns=['f1', 'f2'])  \n",
        "pareto_front"
      ],
      "execution_count": 70,
      "outputs": [
        {
          "output_type": "execute_result",
          "data": {
            "text/html": [
              "<div>\n",
              "<style scoped>\n",
              "    .dataframe tbody tr th:only-of-type {\n",
              "        vertical-align: middle;\n",
              "    }\n",
              "\n",
              "    .dataframe tbody tr th {\n",
              "        vertical-align: top;\n",
              "    }\n",
              "\n",
              "    .dataframe thead th {\n",
              "        text-align: right;\n",
              "    }\n",
              "</style>\n",
              "<table border=\"1\" class=\"dataframe\">\n",
              "  <thead>\n",
              "    <tr style=\"text-align: right;\">\n",
              "      <th></th>\n",
              "      <th>f1</th>\n",
              "      <th>f2</th>\n",
              "    </tr>\n",
              "  </thead>\n",
              "  <tbody>\n",
              "    <tr>\n",
              "      <th>0</th>\n",
              "      <td>0.000000</td>\n",
              "      <td>0.981684</td>\n",
              "    </tr>\n",
              "    <tr>\n",
              "      <th>1</th>\n",
              "      <td>0.009916</td>\n",
              "      <td>0.972966</td>\n",
              "    </tr>\n",
              "    <tr>\n",
              "      <th>2</th>\n",
              "      <td>0.019832</td>\n",
              "      <td>0.968378</td>\n",
              "    </tr>\n",
              "    <tr>\n",
              "      <th>3</th>\n",
              "      <td>0.029748</td>\n",
              "      <td>0.964388</td>\n",
              "    </tr>\n",
              "    <tr>\n",
              "      <th>4</th>\n",
              "      <td>0.039664</td>\n",
              "      <td>0.960670</td>\n",
              "    </tr>\n",
              "    <tr>\n",
              "      <th>...</th>\n",
              "      <td>...</td>\n",
              "      <td>...</td>\n",
              "    </tr>\n",
              "    <tr>\n",
              "      <th>95</th>\n",
              "      <td>0.942020</td>\n",
              "      <td>0.093038</td>\n",
              "    </tr>\n",
              "    <tr>\n",
              "      <th>96</th>\n",
              "      <td>0.951936</td>\n",
              "      <td>0.064305</td>\n",
              "    </tr>\n",
              "    <tr>\n",
              "      <th>97</th>\n",
              "      <td>0.961852</td>\n",
              "      <td>0.036457</td>\n",
              "    </tr>\n",
              "    <tr>\n",
              "      <th>98</th>\n",
              "      <td>0.971768</td>\n",
              "      <td>0.012304</td>\n",
              "    </tr>\n",
              "    <tr>\n",
              "      <th>99</th>\n",
              "      <td>0.981684</td>\n",
              "      <td>0.000000</td>\n",
              "    </tr>\n",
              "  </tbody>\n",
              "</table>\n",
              "<p>100 rows × 2 columns</p>\n",
              "</div>"
            ],
            "text/plain": [
              "          f1        f2\n",
              "0   0.000000  0.981684\n",
              "1   0.009916  0.972966\n",
              "2   0.019832  0.968378\n",
              "3   0.029748  0.964388\n",
              "4   0.039664  0.960670\n",
              "..       ...       ...\n",
              "95  0.942020  0.093038\n",
              "96  0.951936  0.064305\n",
              "97  0.961852  0.036457\n",
              "98  0.971768  0.012304\n",
              "99  0.981684  0.000000\n",
              "\n",
              "[100 rows x 2 columns]"
            ]
          },
          "metadata": {
            "tags": []
          },
          "execution_count": 70
        }
      ]
    },
    {
      "cell_type": "markdown",
      "metadata": {
        "id": "pwU0_zdYJqfm"
      },
      "source": [
        "Use the same code from the previous problems to plot the content of your dataset to visualise the Pareto front."
      ]
    },
    {
      "cell_type": "code",
      "metadata": {
        "id": "xKkpEa40J7EO",
        "outputId": "bbbfddd9-7aef-41fd-f72e-ed97044238c2",
        "colab": {
          "base_uri": "https://localhost:8080/",
          "height": 374
        }
      },
      "source": [
        "fig=plt.figure()\n",
        "ax=fig.add_axes([0,0,1,1])\n",
        "ax.scatter(pareto_front.f1, pareto_front.f2, color='b')\n",
        "ax.set_xlabel(r'$f_1$', size=15)\n",
        "ax.set_ylabel(r'$f_2$', size=15)\n",
        "ax.set_title(r'Pareto optimal front for $\\textsc{FON}(x)$', size=15, y=-0.2)\n",
        "plt.show()"
      ],
      "execution_count": 72,
      "outputs": [
        {
          "output_type": "display_data",
          "data": {
            "image/png": "[encoded data removed]",
            "text/plain": [
              "<Figure size 432x288 with 1 Axes>"
            ]
          },
          "metadata": {
            "tags": [],
            "needs_background": "light"
          }
        }
      ]
    },
    {
      "cell_type": "markdown",
      "metadata": {
        "id": "MsPsBnZpE5Dk"
      },
      "source": [
        "You can check if your dataset corresponds to the Pareto front of the $\\fon$ problem by comparing it with the values of the Pareto-optimal vectors from the file provided in Canvas. \n",
        "\n",
        "In the following the values of the file are stored in a pandas' dataframe and printed."
      ]
    },
    {
      "cell_type": "code",
      "metadata": {
        "id": "XYidBBknvBmv",
        "outputId": "026e09d9-6b83-45f0-e242-8d1928d776a4",
        "colab": {
          "base_uri": "https://localhost:8080/",
          "height": 424
        }
      },
      "source": [
        "pareto_front = pd.read_csv('Fonseca.pf', delim_whitespace=True)\n",
        "pareto_front.columns = ['f1','f2']\n",
        "  \n",
        "pareto_front"
      ],
      "execution_count": 10,
      "outputs": [
        {
          "output_type": "execute_result",
          "data": {
            "text/html": [
              "<div>\n",
              "<style scoped>\n",
              "    .dataframe tbody tr th:only-of-type {\n",
              "        vertical-align: middle;\n",
              "    }\n",
              "\n",
              "    .dataframe tbody tr th {\n",
              "        vertical-align: top;\n",
              "    }\n",
              "\n",
              "    .dataframe thead th {\n",
              "        text-align: right;\n",
              "    }\n",
              "</style>\n",
              "<table border=\"1\" class=\"dataframe\">\n",
              "  <thead>\n",
              "    <tr style=\"text-align: right;\">\n",
              "      <th></th>\n",
              "      <th>f1</th>\n",
              "      <th>f2</th>\n",
              "    </tr>\n",
              "  </thead>\n",
              "  <tbody>\n",
              "    <tr>\n",
              "      <th>0</th>\n",
              "      <td>0.000262</td>\n",
              "      <td>0.980464</td>\n",
              "    </tr>\n",
              "    <tr>\n",
              "      <th>1</th>\n",
              "      <td>0.000476</td>\n",
              "      <td>0.980104</td>\n",
              "    </tr>\n",
              "    <tr>\n",
              "      <th>2</th>\n",
              "      <td>0.000689</td>\n",
              "      <td>0.979737</td>\n",
              "    </tr>\n",
              "    <tr>\n",
              "      <th>3</th>\n",
              "      <td>0.000903</td>\n",
              "      <td>0.979364</td>\n",
              "    </tr>\n",
              "    <tr>\n",
              "      <th>4</th>\n",
              "      <td>0.001244</td>\n",
              "      <td>0.978986</td>\n",
              "    </tr>\n",
              "    <tr>\n",
              "      <th>...</th>\n",
              "      <td>...</td>\n",
              "      <td>...</td>\n",
              "    </tr>\n",
              "    <tr>\n",
              "      <th>428</th>\n",
              "      <td>0.980820</td>\n",
              "      <td>0.000177</td>\n",
              "    </tr>\n",
              "    <tr>\n",
              "      <th>429</th>\n",
              "      <td>0.981169</td>\n",
              "      <td>0.000091</td>\n",
              "    </tr>\n",
              "    <tr>\n",
              "      <th>430</th>\n",
              "      <td>0.981512</td>\n",
              "      <td>0.000005</td>\n",
              "    </tr>\n",
              "    <tr>\n",
              "      <th>431</th>\n",
              "      <td>0.000005</td>\n",
              "      <td>0.981512</td>\n",
              "    </tr>\n",
              "    <tr>\n",
              "      <th>432</th>\n",
              "      <td>0.000091</td>\n",
              "      <td>0.981169</td>\n",
              "    </tr>\n",
              "  </tbody>\n",
              "</table>\n",
              "<p>433 rows × 2 columns</p>\n",
              "</div>"
            ],
            "text/plain": [
              "           f1        f2\n",
              "0    0.000262  0.980464\n",
              "1    0.000476  0.980104\n",
              "2    0.000689  0.979737\n",
              "3    0.000903  0.979364\n",
              "4    0.001244  0.978986\n",
              "..        ...       ...\n",
              "428  0.980820  0.000177\n",
              "429  0.981169  0.000091\n",
              "430  0.981512  0.000005\n",
              "431  0.000005  0.981512\n",
              "432  0.000091  0.981169\n",
              "\n",
              "[433 rows x 2 columns]"
            ]
          },
          "metadata": {
            "tags": []
          },
          "execution_count": 10
        }
      ]
    },
    {
      "cell_type": "markdown",
      "metadata": {
        "id": "T1QP1_bWFQ_G"
      },
      "source": [
        "And again plot the Pareto-optimal objective vectors by running the following cell. As a sanity check, compare your automatically generated Pareto-optimal objective vectors and the ones in the file to corroborate that both shapes are the same."
      ]
    },
    {
      "cell_type": "code",
      "metadata": {
        "id": "_FmFGJ_bvxEf",
        "outputId": "140afcaa-e78b-44e0-8f6a-6ad1c9c81614",
        "colab": {
          "base_uri": "https://localhost:8080/",
          "height": 374
        }
      },
      "source": [
        "fig=plt.figure()\n",
        "ax=fig.add_axes([0,0,1,1])\n",
        "ax.scatter(pareto_front.f1, pareto_front.f2, color='b')\n",
        "ax.set_xlabel(r'$f_1$', size=15)\n",
        "ax.set_ylabel(r'$f_2$', size=15)\n",
        "ax.set_title(r'Pareto optimal front for $\\textsc{FON}(x)$', size=15, y=-0.2)\n",
        "plt.show()"
      ],
      "execution_count": 22,
      "outputs": [
        {
          "output_type": "display_data",
          "data": {
            "image/png": "[encoded data removed]",
            "text/plain": [
              "<Figure size 432x288 with 1 Axes>"
            ]
          },
          "metadata": {
            "tags": [],
            "needs_background": "light"
          }
        }
      ]
    },
    {
      "cell_type": "markdown",
      "metadata": {
        "id": "ZxvgA86ev6Qt"
      },
      "source": [
        "### Parameters to use\n",
        "In the following section define the value of the parameters that your evolutionary strategy will use. I have added some examples of such parameters but depending on your solution you may want to add some more.\n",
        "\n",
        "Do not change the parameter values\n",
        "\n",
        "```\n",
        "# number_runs = 50\n",
        "# number_generations = 50000\n",
        "```\n",
        "Use these parameters to define the stopping criterion, you can use it as the maximum number of generations allowed for the algorithm to run or the maximum number of fitness evaluations allowed for the algorithm to run.\n",
        "\n",
        "That time is enough to find an acceptable approximation of the Pareto front of the $\\fon$. This is to avoid extreme definition of stopping criterions, I do not want to run the algorithm from millions of generations.\n",
        "\n",
        "Also, if you want to use another stopping criterion together with the number of generations you can do it. If your algorithm was able to find all Pareto-optimal objective vectors before all the time budget is used go ahead and stop the run."
      ]
    },
    {
      "cell_type": "code",
      "metadata": {
        "id": "hKubMNgsCeic"
      },
      "source": [
        "# YOU CAN CHANGE THE VALUES OF THE FOLLOWING PARAMETERS AND ADD ANY OTHER PARAMETER NEEDED IN YOUR SOLUTION\n",
        "population_size = 150\n",
        "offspring_size = 0 # not used\n",
        "mutation_prob = 0.1\n",
        "crossover_prob = 0.4\n",
        "problem_size =  3 # not used, fixed to 3.\n",
        "lEta = 20\n",
        "lowLim = -4\n",
        "upLim = 4\n",
        "tournamentSize = 5\n",
        "\n",
        "# DO NOT CHANGE THE VALUE OF THE LINE BELOW.\n",
        "number_runs = 50\n",
        "number_generations = 50000 # you can use this one as fitness function evaluations if you want"
      ],
      "execution_count": 56,
      "outputs": []
    },
    {
      "cell_type": "markdown",
      "metadata": {
        "id": "hP85Kp2HCq2V"
      },
      "source": [
        "### Evolution Strategy for $\\fon$\n",
        "**The multiobjective problem FON is solved with the algorithm, NSGA II, explained by Deb, K. et al. [1]. The pseudo code presented in the paper in some parts it is not very clear therefore it was necessary to understand deeply the algorithm by reading the description to be able to propose a concrete solution for real coding. This is the reason the approach to implement the algorithm uses python objects which help to the storage of information for each individual. Having said that, the code is structured as follows:**\n",
        "1. The individuals are objects with attributes. The attributes are id, rank, m, n, distance, sp, and value. And for the initialization a list of this objects is created with random values within the range specified for the problem.\n",
        "2. The individuals are selected with tournament selection to be used for crossover, and later all the individuals are mutated.\n",
        "3. The parents and offsprings are concatenated to be used for the survival method.\n",
        "4. This is where the NSGA-II is used. It starts with the evaluation of the individual with the objectives functions. Then the rest of the attributes are reset to their original values. Later the fast-non-dominated-front algorthm is applied to the entire population. Next, the new population is filled based on the rank of the frontiers and the assigment of crowdwing distance is calculated as well. If the new population is not completely filled then the crowding distance is used. In this case it first performs a sort based on distance and finally the best individuals are used to complete the new population. \n",
        "5. The steps above are repeated until the numbers of runs is completed.\n",
        "\n",
        "\n",
        "Note: the representation of this problem is with real numbers."
      ]
    },
    {
      "cell_type": "markdown",
      "metadata": {
        "id": "3hv9OhISCq2W"
      },
      "source": [
        "#### Initialisation\n",
        "**The following code is used to create the population. The first lines of code is the class \"individual\" which stores all the attributes of each individual and the functions inside the class are used to update the attributes. The last function creates a list with the individuals objects. The values of the individuals depend on the problem to be solved.**"
      ]
    },
    {
      "cell_type": "code",
      "metadata": {
        "id": "e0STjGxsZ45i"
      },
      "source": [
        "import random\n",
        "import numpy as np\n",
        "\n",
        "#Creates the initial population\n",
        "class individual:\n",
        "  def __init__(self,i):\n",
        "    self.value = [random.uniform(-4,4),random.uniform(-4,4),random.uniform(-4,4)] #Fixed to size 3\n",
        "    self.sp = []\n",
        "    self.rank = 0\n",
        "    self.id = i\n",
        "    self.n = 0\n",
        "    self.m = []\n",
        "    self.distance = 0\n",
        "\n",
        "  def add(self, x):\n",
        "      self.sp.append(x)\n",
        "\n",
        "  def sumn(self):\n",
        "      self.n += 1\n",
        "\n",
        "  def subn(self):\n",
        "      self.n -= 1\n",
        "\n",
        "#only two values per individual\n",
        "def newpop(populationSize): \n",
        "  population = [None] * populationSize\n",
        "\n",
        "  for i in range(populationSize): \n",
        "    population[i] = individual(i)\n",
        "  return population"
      ],
      "execution_count": 45,
      "outputs": []
    },
    {
      "cell_type": "markdown",
      "metadata": {
        "id": "VZwr5fY6Cq2Z"
      },
      "source": [
        "#### Stopping Criterion\n",
        "**The stop criterion used for this code is based on the number of allowed runs.**"
      ]
    },
    {
      "cell_type": "markdown",
      "metadata": {
        "id": "MvTub5m5Cq2b"
      },
      "source": [
        "#### Selection for Reproduction\n",
        "\n",
        "**The function below is tournament selection, it selects the best individual based on the number of individuals to be compared, this number is defined by \"tournament size\". The individuals to be compared are selected randomly. It also uses the function \"crowded_comparison_operator\", which helps to determine the best individual.**"
      ]
    },
    {
      "cell_type": "code",
      "metadata": {
        "id": "3S9h-a1sZ48a"
      },
      "source": [
        "#Tournament Selection\n",
        "# Implements the tournament selection.\n",
        "def select(population, tournamentSize):\n",
        "  winner = np.random.randint(0, len(population))\n",
        "  #print(\"first\",population[winner].rank,population[winner].distance )\n",
        "  for i in range(tournamentSize - 1):\n",
        "    rival = np.random.randint(0, len(population))\n",
        "    if (crowded_comparison_operator(population[rival],population[winner])):\n",
        "      winner = rival\n",
        "  #print(\"rival\",population[rival].rank,population[rival].distance )\n",
        "  return population[winner]"
      ],
      "execution_count": 46,
      "outputs": []
    },
    {
      "cell_type": "markdown",
      "metadata": {
        "id": "PhJDTW88Cq2e"
      },
      "source": [
        "#### Variation\n",
        "**The code below are the functions for crossover and mutation. Both are used in the NSGA-II [1]. However, the methods are explained in [2]. This type of variation is used for real representation. The relevant parameters are cRate and mRate which is the threshold for them to be used. The other important parameter is lEta (lower case eta) which is used to specify the amount of variation.**"
      ]
    },
    {
      "cell_type": "code",
      "metadata": {
        "id": "rWf9AOOSZ47h"
      },
      "source": [
        "#Crossover**\n",
        "import copy\n",
        "import random\n",
        "\n",
        "def sbx(parent1, parent2, lEta, cRate):\n",
        "  offspringA = copy.deepcopy(parent1)\n",
        "  offspringB = copy.deepcopy(parent2)\n",
        "\n",
        "  if random.random() <= cRate:\n",
        "    for i, (v1, v2) in enumerate(zip(offspringA.value, offspringB.value)):\n",
        "        rand = random.random()\n",
        "        if rand <= 0.5:\n",
        "            beta = 2. * rand\n",
        "        else:\n",
        "            beta = 1. / (2. * (1. - rand))\n",
        "        beta **= 1. / (lEta + 1.)\n",
        "        offspringA.value[i] = 0.5 * (((1 + beta) * v1) + ((1 - beta) * v2))\n",
        "        offspringB.value[i] = 0.5 * (((1 - beta) * v1) + ((1 + beta) * v2))\n",
        "\n",
        "  return offspringA, offspringB\n",
        "\n",
        "#Mutation**\n",
        "def polyMutation(ind, lowLim, uppLim, lEta, mRate):\n",
        "  parent = copy.deepcopy(ind)\n",
        "  for i in range(len(parent.value)):\n",
        "    if (random.random() <= mRate):\n",
        "      u = random.random()\n",
        "      delta = min((parent.value[i] - lowLim), (uppLim - parent.value[i])) / (uppLim - lowLim)\n",
        "      \n",
        "      if u <= 0.5:\n",
        "        deltaQ = (2*u + (1-2*u)*(1-delta)**(lEta + 1))**(1/(lEta + 1))-1\n",
        "      else:\n",
        "        deltaQ = 1-(1*(1-u)+2*(u-0.5)*(1-delta)**(lEta+1))**(1/(lEta+1))\n",
        "\n",
        "      parent.value[i] = parent.value[i] + deltaQ*(uppLim - lowLim)\n",
        "\n",
        "  return parent"
      ],
      "execution_count": 47,
      "outputs": []
    },
    {
      "cell_type": "markdown",
      "metadata": {
        "id": "rALtkXckCq2j"
      },
      "source": [
        "#### Selection for Survival\n",
        "\n",
        "**The following cells are the core of the NSGA-II:**\n",
        "\n",
        "+ *dominates*: this function compares individuals based on the definiton of frontiers. This is used by the fast_non_dominated_sort function.\n",
        "+ *fast_non_dominated_sort*: this used to assign frontier to each of the individuals in the population. \n",
        "+ *crowding_distance_assignment*: this function assigns distance between neighbors within the same frontier.\n",
        "+ *crowded_comparison_operator*: this is used to compare individuals once the distance attribute is filled. The idea is to compare the population of a frontier based on their distance.\n",
        "+ *nsgaII_step*: This is where all the small chunks of code are put together in order to have the NSGA-II working. "
      ]
    },
    {
      "cell_type": "code",
      "metadata": {
        "id": "hkjtAB3YZ46Q"
      },
      "source": [
        "#dominates\n",
        "def dominates(a,b):\n",
        "  if (a[0] <= b[0]) & (a[1] <= b[1]):\n",
        "    dominator = True\n",
        "  else:\n",
        "    dominator = False\n",
        "  return dominator"
      ],
      "execution_count": 48,
      "outputs": []
    },
    {
      "cell_type": "code",
      "metadata": {
        "id": "8Q2R3QVQZ460"
      },
      "source": [
        "def fast_non_dominated_sort(pop):\n",
        "  P = pop.copy()\n",
        "\n",
        "  #Fast-non-dominated-sort(P)\n",
        "  F = [] \n",
        "  f1 = [] \n",
        "\n",
        "  for i in range(len(P)):\n",
        "    Q = P.copy()\n",
        "    Q.pop(i)\n",
        "    for j in range(len(Q)):\n",
        "      if dominates(P[i].m,Q[j].m):#should be m\n",
        "        P[i].add(Q[j].id)#add to sp\n",
        "      elif dominates(Q[j].m,P[i].m):#should be m\n",
        "        P[i].sumn() #sum 1 to the n counter\n",
        "    if P[i].n == 0:\n",
        "      P[i].rank = 1\n",
        "      f1.append(P[i])\n",
        "\n",
        "  F.append(f1) # \n",
        "  i = 0\n",
        "  while (len(F[i]) != 0):\n",
        "    Q = []\n",
        "    for p in F[i]:\n",
        "      for q in p.sp:\n",
        "        #encuentra el n de la q -> apuntador del id en pop\n",
        "        P[q].subn()\n",
        "        if P[q].n == 0:\n",
        "          P[q].rank = i+2\n",
        "          Q.append(P[q])\n",
        "    i += 1\n",
        "    F.append(Q)# \n",
        "\n",
        "  return F"
      ],
      "execution_count": 49,
      "outputs": []
    },
    {
      "cell_type": "code",
      "metadata": {
        "id": "swLiNCrdZ47L"
      },
      "source": [
        "#Crowding distance assignment (debe de ser por frontera)\n",
        "#F tiene las fronteras\n",
        "def crowding_distance_assignment(pop):\n",
        "  P = pop.copy()\n",
        "\n",
        "  l = len(P)\n",
        "  for elem in P:\n",
        "    elem.distance = 0\n",
        "\n",
        "  #solo 2 objective functions \n",
        "  fmax = [1,1]\n",
        "  fmin = [0,0]\n",
        "\n",
        "  for i in range(2): #suma a la distancia las diferencias de los 2 objetivos con respecto a sus vecinos\n",
        "    #print(\"m: \", i)\n",
        "    newP = sorted(P, key=lambda x: x.m[i], reverse=False)\n",
        "    newP[0].distance = float('inf')\n",
        "    newP[-1].distance = float('inf')\n",
        "    for j in range(1,l-1,1):\n",
        "      newP[j].distance = newP[j].distance + (newP[j+1].m[i] - newP[j-1].m[i])/(fmax[i]-fmin[i])\n",
        "  \n",
        "  return newP"
      ],
      "execution_count": 50,
      "outputs": []
    },
    {
      "cell_type": "code",
      "metadata": {
        "id": "VulPCEpRZ48I"
      },
      "source": [
        "def crowded_comparison_operator(ind1, ind2):\n",
        "  if ((ind1.rank < ind2.rank) or ((ind1.rank == ind2.rank) and (ind1.distance > ind2.distance))):\n",
        "    return True\n",
        "  else:\n",
        "    return False"
      ],
      "execution_count": 51,
      "outputs": []
    },
    {
      "cell_type": "code",
      "metadata": {
        "id": "JVJY_PI3Z48q"
      },
      "source": [
        "def nsgaII_step(old_pop,eta,cRate,lowLim,upLim,mRate,tournamentSize,fitfunction):\n",
        "  #Crossover\n",
        "  Q = []\n",
        "  for i in range(0,len(old_pop),2):\n",
        "    parent1 = select(old_pop, tournamentSize)#old_pop[i]\n",
        "    parent2 = select(old_pop, tournamentSize)#old_pop[i+1]\n",
        "    offspring1,offspring2 = sbx(parent1, parent2, eta, cRate)\n",
        "    Q.extend((offspring1,offspring2))\n",
        "\n",
        "  #Mutation\n",
        "  for i in range(len(old_pop)):\n",
        "    Q[i] = polyMutation(Q[i], lowLim, upLim, eta, mRate)\n",
        "\n",
        "  #Joining the parents and offsprings\n",
        "  R = old_pop + Q\n",
        "\n",
        "  #Calculating the fitness and reseting values for algorithm\n",
        "  for i in range(len(R)):\n",
        "    R[i].m = fitfunction(R[i].value)\n",
        "    R[i].id = i\n",
        "    R[i].rank = 0\n",
        "    R[i].n = 0\n",
        "    R[i].sp = []\n",
        "    R[i].distance = 0\n",
        "\n",
        "  #Fast non-nominated sort\n",
        "  Rf = fast_non_dominated_sort(R)\n",
        "\n",
        "  Pnew = []\n",
        "  #print(\"Pnew inicio\", len(Pnew))\n",
        "  for i in range(len(Rf)): \n",
        "    if (len(Pnew)+len(Rf[i]) <= len(old_pop)):\n",
        "      Pnew = Pnew + crowding_distance_assignment(Rf[i])  #Crowding distance assignment\n",
        "    else:\n",
        "      Rc = crowding_distance_assignment(Rf[i])\n",
        "      break\n",
        "    \n",
        "  #Sorting based on rank and distance\n",
        "  Rs = sorted(Rc, key=lambda x: (x.rank, -x.distance), reverse=False) \n",
        "  #print(\"Pnew before crowding selection\", len(Pnew))\n",
        "  #Last selection\n",
        "  Pnew = Pnew + Rs[0:len(old_pop)-len(Pnew)]\n",
        "  #print(\"Pnew FINAL\", len(Pnew))\n",
        "\n",
        "  return Pnew"
      ],
      "execution_count": 52,
      "outputs": []
    },
    {
      "cell_type": "markdown",
      "metadata": {
        "id": "8Ugpc7pqCq2l"
      },
      "source": [
        "#### Main Cycle\n",
        "In the following cell you should implement the main cycle of your evolutionary strategy, this is, putting together all elements defined previously so you can solve the problem.\n",
        "\n",
        "Once you run the main cycle, the standard output should looks something like this\n",
        "```\n",
        "# <Generation/Fitness Evaluation number> <Decision vector (Genotype)> <Objective vector (Fitness functions values)>\n",
        "```\n",
        "Feel free to add extra spaces when needed or use any other format you think will make the output look nicer. But please preserve the order."
      ]
    },
    {
      "cell_type": "markdown",
      "metadata": {
        "id": "aMlPU26AVZLe"
      },
      "source": [
        "The following code is only a for loop that calls the NSGA-II function based on the number of runs allowed. "
      ]
    },
    {
      "cell_type": "code",
      "metadata": {
        "id": "5OD7kyYIZ488"
      },
      "source": [
        "#Main\n",
        "gc = 0 # counter of generations\n",
        "old_pop = newpop(population_size)\n",
        "\n",
        "for i in range(number_runs):\n",
        "  new_pop = nsgaII_step(old_pop,lEta,crossover_prob,lowLim,upLim,mutation_prob,tournamentSize,FON)\n",
        "  old_pop = new_pop\n",
        "  gc += 1\n"
      ],
      "execution_count": 57,
      "outputs": []
    },
    {
      "cell_type": "markdown",
      "metadata": {
        "id": "_GbDg4ujVdFJ"
      },
      "source": [
        "The code below is used to see how the frontier is created."
      ]
    },
    {
      "cell_type": "code",
      "metadata": {
        "id": "8yU5IDGQZ49Q",
        "outputId": "00c15586-3b85-4c55-f81e-997afb666010",
        "colab": {
          "base_uri": "https://localhost:8080/",
          "height": 374
        }
      },
      "source": [
        "  f1 = []\n",
        "  f2 = []\n",
        "  for elem in old_pop:\n",
        "    f1.append(elem.m[0])\n",
        "    f2.append(elem.m[1])\n",
        "\n",
        "  fig=plt.figure()\n",
        "  ax=fig.add_axes([0,0,1,1])\n",
        "  ax.scatter(f1, f2, color='b')\n",
        "  ax.set_xlabel(r'$f_1$', size=15)\n",
        "  ax.set_ylabel(r'$f_2$', size=15)\n",
        "  #plt.ylim([0,1])\n",
        "  ax.set_title(r'Pareto optimal front for $\\textsc{FON}(x)$', size=15, y=-0.2)\n",
        "  plt.show()"
      ],
      "execution_count": 58,
      "outputs": [
        {
          "output_type": "display_data",
          "data": {
            "image/png": "[encoded data removed]",
            "text/plain": [
              "<Figure size 432x288 with 1 Axes>"
            ]
          },
          "metadata": {
            "tags": [],
            "needs_background": "light"
          }
        }
      ]
    },
    {
      "cell_type": "markdown",
      "metadata": {
        "id": "yVCvL8YkVfrP"
      },
      "source": [
        "The code below is used to print the population found by the algorithm."
      ]
    },
    {
      "cell_type": "code",
      "metadata": {
        "id": "mgEoT-nMVhD6",
        "outputId": "21eb5847-d986-4796-f8b8-d11ffa329f12",
        "colab": {
          "base_uri": "https://localhost:8080/",
          "height": 1000
        }
      },
      "source": [
        "for elem in old_pop:\n",
        "  print(\"Individual ID: {0}, Rank: {1}, Fitness Value: {2}\".format(elem.id, elem.rank, elem.m))"
      ],
      "execution_count": 55,
      "outputs": [
        {
          "output_type": "stream",
          "text": [
            "Individual ID: 0, Rank: 1, Fitness Value: [0.982328162784182, 8.909681973578998e-05]\n",
            "Individual ID: 226, Rank: 1, Fitness Value: [0.982328162784182, 8.909681973578998e-05]\n",
            "Individual ID: 1, Rank: 1, Fitness Value: [1.487792936216703e-05, 0.9816421608212161]\n",
            "Individual ID: 228, Rank: 1, Fitness Value: [1.487792936216703e-05, 0.9816421608212161]\n",
            "Individual ID: 175, Rank: 1, Fitness Value: [0.5263843851142875, 0.7299311676441504]\n",
            "Individual ID: 55, Rank: 1, Fitness Value: [0.9140924985917975, 0.17513541700423896]\n",
            "Individual ID: 65, Rank: 1, Fitness Value: [0.816623469894164, 0.38656488930868316]\n",
            "Individual ID: 129, Rank: 1, Fitness Value: [0.6499398391362149, 0.6234515382995583]\n",
            "Individual ID: 98, Rank: 1, Fitness Value: [0.7436828309922578, 0.5015706564550507]\n",
            "Individual ID: 211, Rank: 1, Fitness Value: [0.8416464869647482, 0.3408831671843051]\n",
            "Individual ID: 66, Rank: 1, Fitness Value: [0.5421937109947754, 0.7130380422929324]\n",
            "Individual ID: 48, Rank: 1, Fitness Value: [0.15992324694406845, 0.9194645246755778]\n",
            "Individual ID: 111, Rank: 1, Fitness Value: [0.4980446556503153, 0.7497857664968259]\n",
            "Individual ID: 74, Rank: 1, Fitness Value: [0.9209531931195617, 0.15465613028916325]\n",
            "Individual ID: 9, Rank: 1, Fitness Value: [0.6103548213484528, 0.6539729017142872]\n",
            "Individual ID: 100, Rank: 1, Fitness Value: [0.5352240225226234, 0.7185478630737023]\n",
            "Individual ID: 12, Rank: 1, Fitness Value: [0.39613338682397803, 0.8108293794865]\n",
            "Individual ID: 84, Rank: 1, Fitness Value: [0.9097220933763202, 0.18560173157810056]\n",
            "Individual ID: 62, Rank: 1, Fitness Value: [0.01979753483616753, 0.9704351240629148]\n",
            "Individual ID: 114, Rank: 1, Fitness Value: [0.6226069994294913, 0.6532873924457179]\n",
            "Individual ID: 282, Rank: 1, Fitness Value: [0.7964907673541041, 0.4224478308114912]\n",
            "Individual ID: 110, Rank: 1, Fitness Value: [0.5641730494344454, 0.6954937026073991]\n",
            "Individual ID: 250, Rank: 1, Fitness Value: [0.8915873484537886, 0.22988124520706665]\n",
            "Individual ID: 68, Rank: 1, Fitness Value: [0.9347685340222228, 0.1198463879089755]\n",
            "Individual ID: 87, Rank: 1, Fitness Value: [0.2626194764486848, 0.8775965648413926]\n",
            "Individual ID: 116, Rank: 1, Fitness Value: [0.7072212414255199, 0.5488990344466296]\n",
            "Individual ID: 134, Rank: 1, Fitness Value: [0.3379472073340486, 0.8424143133693222]\n",
            "Individual ID: 67, Rank: 1, Fitness Value: [0.8509747766088884, 0.3239045155091991]\n",
            "Individual ID: 96, Rank: 1, Fitness Value: [0.9520792954780006, 0.07067421168286381]\n",
            "Individual ID: 20, Rank: 1, Fitness Value: [0.5917019727088226, 0.671289426810559]\n",
            "Individual ID: 102, Rank: 1, Fitness Value: [0.37716649175539874, 0.8244818049608138]\n",
            "Individual ID: 173, Rank: 1, Fitness Value: [0.9531990910822764, 0.06249465864189896]\n",
            "Individual ID: 283, Rank: 1, Fitness Value: [0.665549572074132, 0.6005602099351073]\n",
            "Individual ID: 24, Rank: 1, Fitness Value: [0.2825804403598128, 0.871214575374985]\n",
            "Individual ID: 50, Rank: 1, Fitness Value: [0.009008538110074293, 0.9739519003990457]\n",
            "Individual ID: 45, Rank: 1, Fitness Value: [0.92893629860656, 0.13874623699027244]\n",
            "Individual ID: 260, Rank: 1, Fitness Value: [0.06484706774301774, 0.9538235982871335]\n",
            "Individual ID: 30, Rank: 1, Fitness Value: [0.06484706774301774, 0.9538235982871335]\n",
            "Individual ID: 295, Rank: 1, Fitness Value: [0.781797598448307, 0.44722357912691724]\n",
            "Individual ID: 174, Rank: 1, Fitness Value: [0.7596191055592015, 0.47811506628559974]\n",
            "Individual ID: 39, Rank: 1, Fitness Value: [0.7008233977730576, 0.5605984983896635]\n",
            "Individual ID: 83, Rank: 1, Fitness Value: [0.6778597073496069, 0.5852373448577064]\n",
            "Individual ID: 186, Rank: 1, Fitness Value: [0.413121277795383, 0.800965856986614]\n",
            "Individual ID: 125, Rank: 1, Fitness Value: [0.8231819712375519, 0.3761269296929708]\n",
            "Individual ID: 29, Rank: 1, Fitness Value: [0.3156247999944649, 0.853585142022805]\n",
            "Individual ID: 13, Rank: 1, Fitness Value: [0.5135669988910088, 0.7396507209216427]\n",
            "Individual ID: 253, Rank: 1, Fitness Value: [0.12998119129069852, 0.930861785468703]\n",
            "Individual ID: 40, Rank: 1, Fitness Value: [0.732948991246662, 0.5216852628497034]\n",
            "Individual ID: 3, Rank: 1, Fitness Value: [0.8298713701851314, 0.36245567451769867]\n",
            "Individual ID: 33, Rank: 1, Fitness Value: [0.7706462669232711, 0.46500169409296466]\n",
            "Individual ID: 43, Rank: 1, Fitness Value: [0.08409571821473094, 0.946333135179087]\n",
            "Individual ID: 204, Rank: 1, Fitness Value: [0.38265424584354624, 0.8206161797744611]\n",
            "Individual ID: 34, Rank: 1, Fitness Value: [0.8987192116601067, 0.21463120826687299]\n",
            "Individual ID: 179, Rank: 1, Fitness Value: [0.7540922202642033, 0.4954913942243673]\n",
            "Individual ID: 294, Rank: 1, Fitness Value: [0.9395522095573047, 0.10267083251252407]\n",
            "Individual ID: 139, Rank: 1, Fitness Value: [0.9228401293143451, 0.14769621399099597]\n",
            "Individual ID: 115, Rank: 1, Fitness Value: [0.251358336614494, 0.8828952001853979]\n",
            "Individual ID: 286, Rank: 1, Fitness Value: [0.7714906838765014, 0.46369425913391304]\n",
            "Individual ID: 69, Rank: 1, Fitness Value: [0.24590287055083349, 0.8846690392918088]\n",
            "Individual ID: 53, Rank: 1, Fitness Value: [0.08409571821473094, 0.946333135179087]\n",
            "Individual ID: 54, Rank: 1, Fitness Value: [0.5750569622297734, 0.6904454399497775]\n",
            "Individual ID: 73, Rank: 1, Fitness Value: [0.044944296825194074, 0.9619878926877351]\n",
            "Individual ID: 57, Rank: 1, Fitness Value: [0.9497884759528582, 0.08830961996470077]\n",
            "Individual ID: 184, Rank: 1, Fitness Value: [0.5135669988910088, 0.7396507209216427]\n",
            "Individual ID: 60, Rank: 1, Fitness Value: [0.6914234928279654, 0.5692321717663121]\n",
            "Individual ID: 262, Rank: 1, Fitness Value: [0.6593526346196451, 0.6069595798431708]\n",
            "Individual ID: 63, Rank: 1, Fitness Value: [0.874076369303735, 0.27095418085445644]\n",
            "Individual ID: 120, Rank: 1, Fitness Value: [0.8985890158143183, 0.22840686854461867]\n",
            "Individual ID: 280, Rank: 1, Fitness Value: [0.6292621848909321, 0.6415809153713332]\n",
            "Individual ID: 70, Rank: 1, Fitness Value: [0.9750012124683585, 0.014161044624807273]\n",
            "Individual ID: 85, Rank: 1, Fitness Value: [0.7147383830627314, 0.5395267950124537]\n",
            "Individual ID: 56, Rank: 1, Fitness Value: [0.044944296825194074, 0.9619878926877351]\n",
            "Individual ID: 172, Rank: 1, Fitness Value: [0.6339476334012147, 0.6306023596499164]\n",
            "Individual ID: 32, Rank: 1, Fitness Value: [0.9079719484847556, 0.20128298561580982]\n",
            "Individual ID: 119, Rank: 1, Fitness Value: [0.7572485006137328, 0.490812849832744]\n",
            "Individual ID: 136, Rank: 1, Fitness Value: [0.5560646767907879, 0.7024421184107452]\n",
            "Individual ID: 77, Rank: 1, Fitness Value: [0.8601905503515237, 0.3019987456331853]\n",
            "Individual ID: 78, Rank: 1, Fitness Value: [0.8090528047011449, 0.404133841940739]\n",
            "Individual ID: 252, Rank: 1, Fitness Value: [0.8264093820656436, 0.37079311572417506]\n",
            "Individual ID: 81, Rank: 1, Fitness Value: [0.10005697078582299, 0.9407405880463591]\n",
            "Individual ID: 297, Rank: 1, Fitness Value: [0.8298713701851314, 0.36245567451769867]\n",
            "Individual ID: 118, Rank: 1, Fitness Value: [0.3259092602350212, 0.849012102220843]\n",
            "Individual ID: 99, Rank: 1, Fitness Value: [0.4535193097967889, 0.7792800956167985]\n",
            "Individual ID: 274, Rank: 1, Fitness Value: [0.5772649057723477, 0.6851657115956147]\n",
            "Individual ID: 71, Rank: 1, Fitness Value: [0.7147383830627314, 0.5395267950124537]\n",
            "Individual ID: 90, Rank: 1, Fitness Value: [0.3573515705736956, 0.8325053139382548]\n",
            "Individual ID: 108, Rank: 1, Fitness Value: [0.4578192582852605, 0.7764530966610835]\n",
            "Individual ID: 177, Rank: 1, Fitness Value: [0.732948991246662, 0.5216852628497034]\n",
            "Individual ID: 72, Rank: 1, Fitness Value: [0.9774633688677172, 0.0035565290912312753]\n",
            "Individual ID: 205, Rank: 1, Fitness Value: [0.9465472054476396, 0.09033149747970437]\n",
            "Individual ID: 86, Rank: 1, Fitness Value: [0.9638340838088786, 0.03570747488144277]\n",
            "Individual ID: 89, Rank: 1, Fitness Value: [0.1424427407621479, 0.926316075905259]\n",
            "Individual ID: 95, Rank: 1, Fitness Value: [0.22419842070129958, 0.8938334565898848]\n",
            "Individual ID: 92, Rank: 1, Fitness Value: [0.18636463799688097, 0.908727967990213]\n",
            "Individual ID: 141, Rank: 1, Fitness Value: [0.5560646767907879, 0.7024421184107452]\n",
            "Individual ID: 131, Rank: 1, Fitness Value: [0.3294635843351763, 0.8474421569603434]\n",
            "Individual ID: 122, Rank: 1, Fitness Value: [0.17099362807893947, 0.9162382717010235]\n",
            "Individual ID: 106, Rank: 1, Fitness Value: [0.17099362807893947, 0.9162382717010235]\n",
            "Individual ID: 101, Rank: 1, Fitness Value: [0.4446264902078342, 0.7831890932712056]\n",
            "Individual ID: 103, Rank: 1, Fitness Value: [0.22419842070129958, 0.8938334565898848]\n",
            "Individual ID: 150, Rank: 1, Fitness Value: [0.36136532872243676, 0.8301864821037437]\n",
            "Individual ID: 135, Rank: 1, Fitness Value: [0.03190619341103018, 0.9653955517424216]\n",
            "Individual ID: 107, Rank: 1, Fitness Value: [0.6970418904425735, 0.5646871138537852]\n",
            "Individual ID: 162, Rank: 1, Fitness Value: [0.9604668392476552, 0.04244330387560413]\n",
            "Individual ID: 109, Rank: 1, Fitness Value: [0.10005697078582299, 0.9407405880463591]\n",
            "Individual ID: 121, Rank: 1, Fitness Value: [0.5984494748324496, 0.6648286548243245]\n",
            "Individual ID: 35, Rank: 1, Fitness Value: [0.8858008366785584, 0.2463669702931327]\n",
            "Individual ID: 117, Rank: 1, Fitness Value: [0.8816965616726101, 0.2561880694486499]\n",
            "Individual ID: 51, Rank: 1, Fitness Value: [0.9715666560647401, 0.019042570180433205]\n",
            "Individual ID: 146, Rank: 1, Fitness Value: [0.43003291208842, 0.7912785899438683]\n",
            "Individual ID: 220, Rank: 1, Fitness Value: [0.484156039433003, 0.7560226976571122]\n",
            "Individual ID: 254, Rank: 1, Fitness Value: [0.27388722393200904, 0.8750420973454699]\n",
            "Individual ID: 123, Rank: 1, Fitness Value: [0.6844606583875235, 0.5775147045225228]\n",
            "Individual ID: 124, Rank: 1, Fitness Value: [0.4446264902078342, 0.7831890932712056]\n",
            "Individual ID: 112, Rank: 1, Fitness Value: [0.5984494748324496, 0.6648286548243245]\n",
            "Individual ID: 126, Rank: 1, Fitness Value: [0.7129632385651086, 0.5426108851546849]\n",
            "Individual ID: 127, Rank: 1, Fitness Value: [0.8587202318038508, 0.30651213434825353]\n",
            "Individual ID: 293, Rank: 1, Fitness Value: [0.9581770676925024, 0.047984463317419346]\n",
            "Individual ID: 273, Rank: 1, Fitness Value: [0.1438382049614959, 0.9257712426049232]\n",
            "Individual ID: 224, Rank: 1, Fitness Value: [0.47200859248662574, 0.7653336869935782]\n",
            "Individual ID: 183, Rank: 1, Fitness Value: [0.4633167704649457, 0.7700395534194417]\n",
            "Individual ID: 298, Rank: 1, Fitness Value: [0.734138172594951, 0.5147934809078785]\n",
            "Individual ID: 113, Rank: 1, Fitness Value: [0.18636463799688097, 0.908727967990213]\n",
            "Individual ID: 8, Rank: 1, Fitness Value: [0.5772649057723477, 0.6851657115956147]\n",
            "Individual ID: 290, Rank: 1, Fitness Value: [0.930404882240043, 0.12760546678480622]\n",
            "Individual ID: 145, Rank: 1, Fitness Value: [0.23434922348873555, 0.8893985322895711]\n",
            "Individual ID: 76, Rank: 1, Fitness Value: [0.8061547812688485, 0.40949004987675064]\n",
            "Individual ID: 80, Rank: 1, Fitness Value: [0.6593526346196451, 0.6069595798431708]\n",
            "Individual ID: 299, Rank: 1, Fitness Value: [0.7799183993060909, 0.44980371450235923]\n",
            "Individual ID: 133, Rank: 1, Fitness Value: [0.8740690714428285, 0.2709740346498468]\n",
            "Individual ID: 36, Rank: 1, Fitness Value: [0.6315579340255935, 0.6406577174950379]\n",
            "Individual ID: 105, Rank: 1, Fitness Value: [0.03190619341103018, 0.9653955517424216]\n",
            "Individual ID: 281, Rank: 1, Fitness Value: [0.19850543346541094, 0.9043450299063762]\n",
            "Individual ID: 21, Rank: 1, Fitness Value: [0.11237333797064053, 0.9365117618430538]\n",
            "Individual ID: 137, Rank: 1, Fitness Value: [0.6866542003546527, 0.5770034197019973]\n",
            "Individual ID: 140, Rank: 1, Fitness Value: [0.12218431153014253, 0.9335770913906805]\n",
            "Individual ID: 207, Rank: 1, Fitness Value: [0.0008840329576003114, 0.9795870295067336]\n",
            "Individual ID: 44, Rank: 1, Fitness Value: [0.8061547812688485, 0.40949004987675064]\n",
            "Individual ID: 132, Rank: 1, Fitness Value: [0.23434922348873555, 0.8893985322895711]\n",
            "Individual ID: 94, Rank: 1, Fitness Value: [0.8816965616726101, 0.2561880694486499]\n",
            "Individual ID: 291, Rank: 1, Fitness Value: [0.7928146368691942, 0.42736639401626897]\n",
            "Individual ID: 147, Rank: 1, Fitness Value: [0.34859372039147196, 0.8366548726542447]\n",
            "Individual ID: 149, Rank: 1, Fitness Value: [0.34859372039147196, 0.8366548726542447]\n",
            "Individual ID: 288, Rank: 1, Fitness Value: [0.7896205482916392, 0.4329049075451816]\n",
            "Individual ID: 178, Rank: 1, Fitness Value: [0.2097830975071734, 0.9018813766815662]\n",
            "Individual ID: 236, Rank: 1, Fitness Value: [0.865674232574025, 0.28848031219884274]\n",
            "Individual ID: 41, Rank: 1, Fitness Value: [0.734138172594951, 0.5147934809078785]\n",
            "Individual ID: 241, Rank: 1, Fitness Value: [0.2974569662176748, 0.8619474241929854]\n",
            "Individual ID: 239, Rank: 1, Fitness Value: [0.11237333797064053, 0.9365117618430538]\n",
            "Individual ID: 237, Rank: 1, Fitness Value: [0.8845911616231501, 0.2489745117214167]\n"
          ],
          "name": "stdout"
        }
      ]
    },
    {
      "cell_type": "markdown",
      "metadata": {
        "id": "v_rZGsibPzLv"
      },
      "source": [
        "## Results and Discussions\n",
        "\n",
        "The problems were solved using the same approach (NSGA-II) with small changes in the parameters and in the range of values for the individuals. Overall the use of python objects were helpful to store all the information about each individual. The results can be listed below:\n",
        "\n",
        "+ In most of the cases the problems are solved by the algorithm. But, still there is a small stochastic component that does not allow the algorithm to run perfectly all the times. However, in all of the problems the population is getting closer to the pareto front.\n",
        "+ It was found that the parameters of mutation and crossover such as lEtha, mutation_prob and crossover_prob produce huge variations, therefore many time was spend to find the best parameters. Also, it was found that crossover produced one of the highest variations that is the reason it is not used in the first three problems.\n",
        "+ There are cases where the algorithm failed to remove the extreme values, and to make the pareto front be in the range [0,1], however, as mentioned before, a small change in the parameters produce huge variations.\n",
        "+ Another important point is the correctly use of fmax and fmin for the crowding distance assignment, it is not very easy to understand the meaning from the article. But a small changes produces high variations.\n",
        "+ The algorithm is working fine but in some cases, such as ZDT1, the values of the parameters have a room of improvement.\n",
        "\n",
        "Overall, the algorithm works fine but there are cases that it produces solutions far from the optimal. "
      ]
    },
    {
      "cell_type": "markdown",
      "metadata": {
        "id": "d8C7j3QDP7AW"
      },
      "source": [
        "## Conclusions\n",
        "\n",
        "The problems and approach used in this jupyter notebook were very challenging. Besides the pseudo code of the algorithm was not very easy to understand neither the finding of the right parameters, the coding of it was possible. And once one of the problems was solved, then the other were at some point easy because they only required small changes. The idea of finding the pareto front is interesting, now it is only mathematical problems, but it can be used to solve problems in other areas of study. "
      ]
    },
    {
      "cell_type": "markdown",
      "metadata": {
        "id": "yFx3ydBRP_Jw"
      },
      "source": [
        "## References\n",
        "\n",
        "**If you use some method from the literature do not forget to add it here and the proper reference where needed.**\n",
        "\n",
        "**Do not forger to remove all unnecessary material and just leave the list of references in this section.**\n",
        "\n",
        "For example:\n",
        "\n",
        "\"*The following solutions is based on the NSGA-II defined by Deb et al. [1].*\"\n",
        "\n",
        "1. Deb, K., Pratap, A., Agarwal, S., and Meyarivan, T. (2002). A fast and elitist multiobjective genetic algorithm: NSGA-II. IEEE Transactions\n",
        "on Evolutionary Computation, 6(2):182-197.\n",
        "2. K. Deb and R. B. Agrawal, “Simulated binary crossover for continuous\n",
        "search space,” in Complex Syst., Apr. 1995, vol. 9, pp. 115–148.\n",
        "3. Ali R. Al-Roomi. (2016). Fonseca-Fleming's Problem (FON). October 22nd, 2020, de Power Sitio web: https://al-roomi.org/benchmarks/multi-objective/unconstrained-list/321-fonseca-fleming-s-function-fon "
      ]
    }
  ]
}