{
 "cells": [
  {
   "cell_type": "markdown",
   "metadata": {},
   "source": [
    "# **HW2 -> Hanoi Towers**"
   ]
  },
  {
   "cell_type": "code",
   "execution_count": 7,
   "metadata": {},
   "outputs": [],
   "source": [
    "import numpy as np\n",
    "#N disk defintion and population of chromosomes\n",
    "n = 3\n",
    "n_pop = 5"
   ]
  },
  {
   "cell_type": "code",
   "execution_count": 39,
   "metadata": {},
   "outputs": [],
   "source": [
    "#Towers definition\n",
    "def create_towers(n):\n",
    "    \"\"\"\n",
    "    Create towers\n",
    "    \"\"\"\n",
    "    t1 = []\n",
    "    t2 = []\n",
    "    t3 = []\n",
    "\n",
    "    values = np.arange(n)+1\n",
    "\n",
    "    for i in range (n):\n",
    "        t1.append(values[i])\n",
    "\n",
    "    t1.reverse()\n",
    "    return t1,t2,t3"
   ]
  },
  {
   "cell_type": "code",
   "execution_count": 40,
   "metadata": {},
   "outputs": [
    {
     "data": {
      "text/plain": [
       "([3, 2, 1], [], [])"
      ]
     },
     "execution_count": 40,
     "metadata": {},
     "output_type": "execute_result"
    }
   ],
   "source": [
    "create_towers(n)"
   ]
  },
  {
   "cell_type": "code",
   "execution_count": 44,
   "metadata": {},
   "outputs": [
    {
     "data": {
      "text/plain": [
       "[array([5, 4, 2, 1, 5, 0, 3, 1, 2, 5]),\n",
       " array([3, 3, 4, 2, 2, 0, 0, 3, 2, 3]),\n",
       " array([2, 1, 2, 2, 4, 0, 5, 1, 1, 4]),\n",
       " array([5, 2, 4, 1, 5, 4, 3, 4, 5, 5]),\n",
       " array([3, 1, 2, 3, 4, 1, 2, 1, 5, 0]),\n",
       " array([1, 0, 5, 1, 2, 3, 1, 1, 1, 1]),\n",
       " array([0, 1, 3, 0, 5, 4, 2, 3, 0, 1])]"
      ]
     },
     "execution_count": 44,
     "metadata": {},
     "output_type": "execute_result"
    }
   ],
   "source": [
    "#Chromosomes creation\n",
    "popu = []\n",
    "\n",
    "for i in range(n_pop):\n",
    "    popu.append(np.random.randint(6,size = 10))\n",
    "\n",
    "#adding optimal solution\n",
    "popu.append(np.array([1,0,5,1,2,3,1,1,1,1]))\n",
    "popu.append(np.array([0,1,3,0,5,4,2,3,0,1]))\n",
    "\n",
    "popu"
   ]
  },
  {
   "cell_type": "code",
   "execution_count": 45,
   "metadata": {},
   "outputs": [],
   "source": [
    "#function to update the towers based on the action\n",
    "\n",
    "def update(action, t1,t2,t3):\n",
    "    \"\"\"\n",
    "    Function to update the towers based on the action\n",
    "    \"\"\"\n",
    "    if action == 0: #from t1 to t2\n",
    "        t2.append(t1.pop())\n",
    "        return(t1,t2, t3)\n",
    "    elif action == 1:  #from t1 to t3\n",
    "        t3.append(t1.pop())\n",
    "        return(t1,t2, t3)\n",
    "    elif action == 2:  #from t2 to t1\n",
    "        t1.append(t2.pop())\n",
    "        return(t1,t2, t3)\n",
    "    elif action == 3:  #from t2 to t3\n",
    "        t3.append(t2.pop())\n",
    "        return(t1,t2, t3)\n",
    "    elif action == 4:  #from t3 to t1\n",
    "        t1.append(t3.pop())\n",
    "        return(t1,t2, t3)\n",
    "    elif action == 5:  #from t3 to t2\n",
    "        t2.append(t3.pop())\n",
    "        return(t1,t2, t3)\n",
    "    else:\n",
    "        pass\n",
    "        "
   ]
  },
  {
   "cell_type": "code",
   "execution_count": 46,
   "metadata": {},
   "outputs": [],
   "source": [
    "def possible_action(action, ta, tb, tc):\n",
    "    \"\"\"\n",
    "    Already avoids poping from empty list\n",
    "    Already avoids the smaller disk on larger ones\n",
    "    \"\"\"\n",
    "    t1 = ta.copy()\n",
    "    t2 = tb.copy()\n",
    "    t3 = tc.copy()\n",
    "    try:\n",
    "        if action == 0: #from t1 to t2\n",
    "            t2.append(t1.pop())\n",
    "        elif action == 1:  #from t1 to t3\n",
    "            t3.append(t1.pop())\n",
    "        elif action == 2:  #from t2 to t1\n",
    "            t1.append(t2.pop())\n",
    "        elif action == 3:  #from t2 to t3\n",
    "            t3.append(t2.pop())\n",
    "        elif action == 4:  #from t3 to t1\n",
    "            t1.append(t3.pop())\n",
    "        elif action == 5:  #from t3 to t2\n",
    "            t2.append(t3.pop())\n",
    "        else:\n",
    "            pass\n",
    "        \n",
    "        if check_weigth(t1) or check_weigth(t2) or check_weigth(t3):\n",
    "            return False\n",
    "        else:\n",
    "            return True\n",
    "        \n",
    "    except:\n",
    "        return False"
   ]
  },
  {
   "cell_type": "code",
   "execution_count": 47,
   "metadata": {},
   "outputs": [],
   "source": [
    "def check_weigth2(t):\n",
    "    \"\"\"\n",
    "    Funtion to check that there is no small disk below a large one\n",
    "    If there is one then return true\n",
    "    \"\"\"\n",
    "    l = len(t)\n",
    "    if l == 0:\n",
    "        return False\n",
    "    elif l == 1:\n",
    "        return False\n",
    "    elif l == 2:\n",
    "        if t[1] > t[0]:\n",
    "            return True\n",
    "        else:\n",
    "            return False\n",
    "    elif l == 3:\n",
    "        if t[1] > t[0]:\n",
    "            return True\n",
    "        elif t[2] > t[1]:\n",
    "            return True\n",
    "        else:\n",
    "            return False"
   ]
  },
  {
   "cell_type": "code",
   "execution_count": 876,
   "metadata": {},
   "outputs": [],
   "source": [
    "def check_weigth(t):\n",
    "    \"\"\"\n",
    "    Funtion to check that there is no small disk below a large one\n",
    "    If there is one then return true\n",
    "    \"\"\"\n",
    "    val = False\n",
    "    for i in range(len(t)-1):\n",
    "        if t[i] < t[i+1]:\n",
    "            val = True\n",
    "            break\n",
    "    return val"
   ]
  },
  {
   "cell_type": "code",
   "execution_count": 880,
   "metadata": {},
   "outputs": [
    {
     "data": {
      "text/plain": [
       "False"
      ]
     },
     "execution_count": 880,
     "metadata": {},
     "output_type": "execute_result"
    }
   ],
   "source": [
    "#Testing\n",
    "check_weigth([4,3,2,1])"
   ]
  },
  {
   "cell_type": "code",
   "execution_count": 55,
   "metadata": {},
   "outputs": [
    {
     "name": "stdout",
     "output_type": "stream",
     "text": [
      "([3], [1], [2])\n"
     ]
    }
   ],
   "source": [
    "#testing -> \n",
    "t1 = [3,2]\n",
    "t2 = [1]\n",
    "t3 = []\n",
    "\n",
    "if possible_action(1, t1,t2,t3):\n",
    "    print( update(1, t1,t2,t3))\n",
    "else:\n",
    "    print (\"no se puede\")"
   ]
  },
  {
   "cell_type": "code",
   "execution_count": 486,
   "metadata": {},
   "outputs": [],
   "source": [
    "def eval_towers(t3, n, pos):\n",
    "    \"\"\"\n",
    "    Function that evalutes the solution\n",
    "    Evaluates solutions that complete the towers\n",
    "    Evalutes solutions that didn't complete the towers\n",
    "    Three portions: \n",
    "        1 -> evaluates the number of steps\n",
    "        2 -> evaluates the number of disk on t3\n",
    "        3 -> evalutes the weight of disks on t3\n",
    "    \"\"\"\n",
    "    steps_object = 2**n-1\n",
    "    weight_object = sum(np.arange(n)+1)\n",
    "    if weight_object == sum(t3):\n",
    "        return ((sum(t3)/(pos+1))+10)\n",
    "    else:\n",
    "        return (sum(t3)/(pos+1)) \n",
    "\n",
    "    #return len(t3)/(pos+1) + len(t3)/n + sum(t3)/sum(np.arange(n)+1)"
   ]
  },
  {
   "cell_type": "markdown",
   "metadata": {},
   "source": [
    "**Testing the evaluation of a population**"
   ]
  },
  {
   "cell_type": "code",
   "execution_count": 487,
   "metadata": {},
   "outputs": [
    {
     "name": "stdout",
     "output_type": "stream",
     "text": [
      "0.0 [] 4\n",
      "0.3333333333333333 [1] 2\n",
      "0.0 [] 5\n",
      "0.0 [] 4\n",
      "0.0 [] 4\n",
      "10.75 [3, 2, 1] 7\n",
      "0.45454545454545453 [3, 2] 10\n"
     ]
    }
   ],
   "source": [
    "n = 3\n",
    "#analyze each chromosome\n",
    "for pop in popu:\n",
    "    #create towers for each solution\n",
    "    steps = 0\n",
    "    t1,t2,t3 = create_towers(n)\n",
    "    #analyze each action of the chromosome\n",
    "    for i in range (len(pop)):\n",
    "        #check if the action is posible given the constraints\n",
    "        if possible_action(pop[i], t1, t2, t3):\n",
    "            #If so, then update the towers, done in the condition\n",
    "            t1,t2,t3 = update(pop[i], t1, t2, t3)\n",
    "            steps += 1\n",
    "        else:\n",
    "            #If no,keep going\n",
    "            pass\n",
    "        #If the tower 3 is completed then no need to complete the other actions\n",
    "        if len(t3) == n:\n",
    "            break\n",
    "    #then evaluates the chromosome\n",
    "    print(eval_towers(t3, n, steps), t3, steps)"
   ]
  },
  {
   "cell_type": "code",
   "execution_count": 496,
   "metadata": {},
   "outputs": [],
   "source": [
    "def eval_tunned(individual,problem):\n",
    "    \"\"\"\n",
    "    Functiont that takes 1 individual and returns its corresponding evaluation to the problem\n",
    "    \"\"\"\n",
    "    #count of steps\n",
    "    steps = 0\n",
    "    #create towers\n",
    "    t1,t2,t3 = create_towers(problem.n)\n",
    "    for i in range (len(individual)):\n",
    "        #check if the action is posible given the constraints\n",
    "        if possible_action(individual[i], t1, t2, t3):\n",
    "            #If so, then update the towers, done in the condition\n",
    "            t1,t2,t3 = update(individual[i], t1, t2, t3)\n",
    "            steps += 1\n",
    "        else:\n",
    "            #If no,keep going\n",
    "            pass\n",
    "        #If the tower 3 is completed then no need to complete the other actions\n",
    "        if len(t3) == problem.n:\n",
    "            break\n",
    "    #then evaluates the chromosome\n",
    "    return eval_towers(t3, problem.n, steps)"
   ]
  },
  {
   "cell_type": "code",
   "execution_count": 60,
   "metadata": {},
   "outputs": [
    {
     "name": "stdout",
     "output_type": "stream",
     "text": [
      "[3, 2, 1] [] []\n",
      "[3, 2] [1] []\n",
      "[3] [1] [2]\n",
      "[3] [] [2, 1]\n",
      "[] [3] [2, 1]\n",
      "[] [3, 1] [2]\n",
      "[2] [3, 1] []\n",
      "[2, 1] [3] []\n",
      "[2, 1] [] [3]\n",
      "[2] [1] [3]\n",
      "[] [1] [3, 2]\n"
     ]
    }
   ],
   "source": [
    "#testing possible solutions manually\n",
    "t1 = [3,2,1]\n",
    "t2 = []\n",
    "t3 = []\n",
    "sol = [1,0,5,1,2,3,1,1,1,1]\n",
    "solp = [0, 1, 3, 0, 5, 4, 2, 3, 0, 1]\n",
    "tes = [0, 1, 3, 0, 5, 4, 2, 3, 0, 1]\n",
    "\n",
    "print(t1,t2,t3)\n",
    "t1,t2,t3 = update(tes[0], t1, t2, t3)\n",
    "print(t1,t2,t3)\n",
    "t1,t2,t3 = update(tes[1], t1, t2, t3)\n",
    "print(t1,t2,t3)\n",
    "t1,t2,t3 = update(tes[2], t1, t2, t3)\n",
    "print(t1,t2,t3)\n",
    "t1,t2,t3 = update(tes[3], t1, t2, t3)\n",
    "print(t1,t2,t3)\n",
    "t1,t2,t3 = update(tes[4], t1, t2, t3)\n",
    "print(t1,t2,t3)\n",
    "t1,t2,t3 = update(tes[5], t1, t2, t3)\n",
    "print(t1,t2,t3)\n",
    "t1,t2,t3 = update(tes[6], t1, t2, t3)\n",
    "print(t1,t2,t3)\n",
    "t1,t2,t3 = update(tes[7], t1, t2, t3)\n",
    "print(t1,t2,t3)\n",
    "t1,t2,t3 = update(tes[8], t1, t2, t3)\n",
    "print(t1,t2,t3)\n",
    "t1,t2,t3 = update(tes[9], t1, t2, t3)\n",
    "print(t1,t2,t3)"
   ]
  },
  {
   "cell_type": "markdown",
   "metadata": {},
   "source": [
    "# Genetic algorithm code"
   ]
  },
  {
   "cell_type": "code",
   "execution_count": 61,
   "metadata": {},
   "outputs": [],
   "source": [
    "# Implements the random initialization of individuals using the binary representation.\n",
    "def createIndividual(nbBits):\n",
    "    return np.random.randint(6, size = nbBits)"
   ]
  },
  {
   "cell_type": "code",
   "execution_count": 64,
   "metadata": {},
   "outputs": [],
   "source": [
    "#from teacher code\n",
    "# Implements the one point crossover on individuals using the binary representation.\n",
    "import random\n",
    "import numpy\n",
    "\n",
    "def combine(parentA, parentB, cRate):\n",
    "    \"\"\"\n",
    "    cRate  = value to allow combination the higher the higher allowance\n",
    "    Note that cPoint is randomly selected, there is no preference for the first part of the code\n",
    "    \"\"\"\n",
    "    if (random.random() <= cRate):\n",
    "        cPoint = numpy.random.randint(1, len(parentA))   \n",
    "        offspringA = numpy.append(parentA[0:cPoint], parentB[cPoint:])\n",
    "        offspringB = numpy.append(parentB[0:cPoint], parentA[cPoint:])\n",
    "    else:\n",
    "        offspringA = numpy.copy(parentA)\n",
    "        offspringB = numpy.copy(parentB)\n",
    "    return offspringA, offspringB"
   ]
  },
  {
   "cell_type": "code",
   "execution_count": 65,
   "metadata": {},
   "outputs": [],
   "source": [
    "# Implements the flip mutation on individuals using the binary representation.\n",
    "def mutate(individual, mRate):\n",
    "    \"\"\"\n",
    "    Note that the randint has a range, it can be changed depending on the problem\n",
    "    \"\"\"\n",
    "    for i in range(len(individual)):\n",
    "        if (random.random() <= mRate):\n",
    "            individual[i] = random.randint(0, 5)\n",
    "    return individual"
   ]
  },
  {
   "cell_type": "code",
   "execution_count": 66,
   "metadata": {},
   "outputs": [],
   "source": [
    "# Implements the tournament selection.\n",
    "def select(population, evaluation, tournamentSize):\n",
    "    winner = numpy.random.randint(0, len(population))\n",
    "    for i in range(tournamentSize - 1):\n",
    "        rival = numpy.random.randint(0, len(population))\n",
    "        if (evaluation[rival] > evaluation[winner]):\n",
    "            winner = rival\n",
    "    return population[winner]"
   ]
  },
  {
   "cell_type": "code",
   "execution_count": 852,
   "metadata": {},
   "outputs": [],
   "source": [
    "#Code from teacher but updated\n",
    "def geneticAlgorithm(problem, populationSize, generations, cRate, mRate):\n",
    "    # Creates the initial population (it also evaluates it)\n",
    "    population = [None] * populationSize\n",
    "    evaluation = [None] * populationSize  \n",
    "    for i in range(populationSize):\n",
    "        individual = createIndividual(problem.length)\n",
    "        population[i] = individual\n",
    "        evaluation[i] = eval_tunned(individual, problem) \n",
    "    # Keeps a record of the best individual found so far\n",
    "    index = 0;\n",
    "    for i in range(1, populationSize):\n",
    "        if (evaluation[i] > evaluation[index]):\n",
    "            index = i;\n",
    "    bestIndividual = population[index]\n",
    "    bestEvaluation = evaluation[index]\n",
    "    # Runs the evolutionary process    \n",
    "    for i in range(generations):\n",
    "        k = 0\n",
    "        newPopulation = [None] * populationSize    \n",
    "        for j in range(populationSize // 2):\n",
    "            parentA = select(population, evaluation, 3)\n",
    "            parentB = select(population, evaluation, 3)\n",
    "            newPopulation[k], newPopulation[k + 1] = combine(parentA, parentB, cRate)       \n",
    "            k = k + 2    \n",
    "        population = newPopulation\n",
    "        for i in range(populationSize):\n",
    "            population[i] = mutate(population[i], mRate)\n",
    "            evaluation[i] = eval_tunned(population[i], problem)\n",
    "            # Keeps a record of the best individual found so far\n",
    "            if (evaluation[i] > bestEvaluation):\n",
    "                bestEvaluation = evaluation[i]\n",
    "                bestIndividual = population[i]\n",
    "    return bestIndividual, bestEvaluation"
   ]
  },
  {
   "cell_type": "code",
   "execution_count": 447,
   "metadata": {},
   "outputs": [],
   "source": [
    "#Definition of the class of for the problem \n",
    "class problema:\n",
    "    \"\"\"\n",
    "    length = the length of the individual\n",
    "    n = number of towers\n",
    "    \"\"\"\n",
    "    def __init__(self, length, n):\n",
    "        self.length = length\n",
    "        self.n =  n"
   ]
  },
  {
   "cell_type": "code",
   "execution_count": 449,
   "metadata": {},
   "outputs": [],
   "source": [
    "def move(pos):\n",
    "    \"\"\"\n",
    "    Function to return the movement\n",
    "    \"\"\"\n",
    "    if pos == 0: #from t1 to t2\n",
    "        return \"From T1 to T2\"\n",
    "    elif pos == 1:  #from t1 to t3\n",
    "        return \"From T1 to T3\"\n",
    "    elif pos == 2:  #from t2 to t1\n",
    "        return \"From T2 to T1\"\n",
    "    elif pos == 3:  #from t2 to t3\n",
    "        return \"From T2 to T3\"\n",
    "    elif pos == 4:  #from t3 to t1\n",
    "        return \"From T3 to T1\"\n",
    "    elif pos == 5:  #from t3 to t2\n",
    "        return \"From T3 to T2\"\n",
    "    else:\n",
    "        pass"
   ]
  },
  {
   "cell_type": "code",
   "execution_count": 450,
   "metadata": {},
   "outputs": [],
   "source": [
    "def print_solution(n, solution):\n",
    "    \"\"\"\n",
    "    Function to print the solution\n",
    "    \"\"\"\n",
    "    #create towers for each solution\n",
    "    t1,t2,t3 = create_towers(n)\n",
    "    #analyze each action of the chromosome\n",
    "    print(t1,t2,t3)\n",
    "    for i in range (len(solution)):\n",
    "        #check if the action is posible given the constraints\n",
    "        if possible_action(solution[i], t1, t2, t3):\n",
    "            #If so, then update the towers, done in the condition\n",
    "            t1,t2,t3 = update(solution[i], t1, t2, t3)\n",
    "            print(move(solution[i]),t1,t2,t3)\n",
    "        else:\n",
    "            #If no,keep going\n",
    "            pass\n",
    "        #If the tower 3 is completed then no need to complete the other actions\n",
    "        if len(t3) == n:\n",
    "            break    "
   ]
  },
  {
   "cell_type": "markdown",
   "metadata": {},
   "source": [
    "# Testing the genetic algorithm"
   ]
  },
  {
   "cell_type": "code",
   "execution_count": 936,
   "metadata": {},
   "outputs": [
    {
     "name": "stdout",
     "output_type": "stream",
     "text": [
      "[3 1 0 3 5 1 2 3 3 1 3 5 5 0 0 4 2 0 3 4]\n",
      "10.75\n",
      "[3, 2, 1] [] []\n",
      "From T1 to T3 [3, 2] [] [1]\n",
      "From T1 to T2 [3] [2] [1]\n",
      "From T3 to T2 [3] [2, 1] []\n",
      "From T1 to T3 [] [2, 1] [3]\n",
      "From T2 to T1 [1] [2] [3]\n",
      "From T2 to T3 [1] [] [3, 2]\n",
      "From T1 to T3 [] [] [3, 2, 1]\n"
     ]
    }
   ],
   "source": [
    "# Before running the code, we must initialize the random number generators.\n",
    "#numpy.random.seed(42)\n",
    "#random.seed(numpy.random.randint(10000))\n",
    "# Generates a problem with individual lenght and number of towers\n",
    "n = 3\n",
    "length = 20\n",
    "p1 = problema(length, n)\n",
    "# solves the problem using the genetic algorithm\n",
    "solution, evaluation = geneticAlgorithm(p1, 20, 50, 0.1, 0.7)\n",
    "print(solution)\n",
    "print(evaluation)\n",
    "print_solution(n, solution)"
   ]
  },
  {
   "cell_type": "markdown",
   "metadata": {},
   "source": [
    "Testing the solution again"
   ]
  },
  {
   "cell_type": "code",
   "execution_count": 514,
   "metadata": {},
   "outputs": [
    {
     "name": "stdout",
     "output_type": "stream",
     "text": [
      "[3, 2, 1] 11\n",
      "10.5\n"
     ]
    }
   ],
   "source": [
    "#channge individual for the solution\n",
    "individual = [1, 0, 4, 0, 1, 2, 0, 2, 3, 4, 4, 3, 2, 3, 4, 0, 0, 0, 3, 4]\n",
    "#count of steps\n",
    "steps = 0\n",
    "#create towers\n",
    "t1,t2,t3 = create_towers(p1.n)\n",
    "for i in range (len(individual)):\n",
    "    #check if the action is posible given the constraints\n",
    "    if possible_action(individual[i], t1, t2, t3):\n",
    "        #If so, then update the towers, done in the condition\n",
    "        t1,t2,t3 = update(individual[i], t1, t2, t3)\n",
    "        steps += 1\n",
    "    else:\n",
    "        #If no,keep going\n",
    "        pass\n",
    "    #If the tower 3 is completed then no need to complete the other actions\n",
    "    if len(t3) == p1.n:\n",
    "        break\n",
    "\n",
    "print(t3,steps)\n",
    "\n",
    "steps_object = 2**p1.n-1\n",
    "weight_object = sum(np.arange(p1.n)+1)\n",
    "if weight_object == sum(t3):\n",
    "    print ((sum(t3))/(steps+1)+10)\n",
    "else:\n",
    "    print ((sum(t3))/(steps+1))"
   ]
  },
  {
   "cell_type": "markdown",
   "metadata": {},
   "source": [
    "# 1st Part of the genetic works"
   ]
  },
  {
   "cell_type": "code",
   "execution_count": 627,
   "metadata": {},
   "outputs": [
    {
     "name": "stdout",
     "output_type": "stream",
     "text": [
      "[1 3 2 2 3 0 5 1 1 3 4 3 5 3 3 1 0 2 2 3] 10.545454545454545\n",
      "[3, 2, 1] [] []\n",
      "From T1 to T3 [3, 2] [] [1]\n",
      "From T1 to T2 [3] [2] [1]\n",
      "From T3 to T2 [3] [2, 1] []\n",
      "From T1 to T3 [] [2, 1] [3]\n",
      "From T2 to T3 [] [2] [3, 1]\n",
      "From T3 to T1 [1] [2] [3]\n",
      "From T2 to T3 [1] [] [3, 2]\n",
      "From T3 to T2 [1] [2] [3]\n",
      "From T2 to T3 [1] [] [3, 2]\n",
      "From T1 to T3 [] [] [3, 2, 1]\n",
      "[3 3 4 4 3 0 0 4 2 3 0 1 0 0 0 3 3 3 4 1]\n"
     ]
    }
   ],
   "source": [
    "# Creates the initial population (it also evaluates it)\n",
    "populationSize = 20\n",
    "problem = p1\n",
    "\n",
    "population = [None] * populationSize\n",
    "evaluation = [None] * populationSize  \n",
    "for i in range(populationSize):\n",
    "    individual = createIndividual(problem.length)\n",
    "    population[i] = individual\n",
    "    evaluation[i] = eval_tunned(individual, problem) \n",
    "# Keeps a record of the best individual found so far\n",
    "index = 0;\n",
    "for i in range(1, populationSize):\n",
    "    if (evaluation[i] > evaluation[index]):\n",
    "        index = i;\n",
    "bestIndividual = population[index]\n",
    "bestEvaluation = evaluation[index]\n",
    "\n",
    "print(bestIndividual,bestEvaluation)\n",
    "print_solution(3,bestIndividual)"
   ]
  },
  {
   "cell_type": "code",
   "execution_count": 692,
   "metadata": {},
   "outputs": [
    {
     "name": "stdout",
     "output_type": "stream",
     "text": [
      "[1 3 2 2 3 0 5 1 1 3 4 3 5 3 3 1 0 2 2 3] 10.545454545454545\n"
     ]
    }
   ],
   "source": [
    "#saving for testing\n",
    "best_init_ind = bestIndividual\n",
    "best_init_eval = bestEvaluation\n",
    "print(best_init_ind,best_init_eval)"
   ]
  },
  {
   "cell_type": "markdown",
   "metadata": {},
   "source": [
    "# 2nd part of the genetic"
   ]
  },
  {
   "cell_type": "code",
   "execution_count": 851,
   "metadata": {},
   "outputs": [
    {
     "name": "stdout",
     "output_type": "stream",
     "text": [
      "entre\n",
      "[3 3 3 4 3 2 3 1 1 2 0 5 1 2 3 1 5 1 1 1] 10.75\n"
     ]
    }
   ],
   "source": [
    "generations = 3\n",
    "mRate = 0.1\n",
    "cRate = 0.9\n",
    "bestIndividual = best_init_ind\n",
    "bestEvaluation = best_init_eval\n",
    "\n",
    "# Runs the evolutionary process    \n",
    "for i in range(generations):\n",
    "    k = 0\n",
    "    newPopulation = [None] * populationSize    \n",
    "    for j in range(populationSize // 2):\n",
    "        parentA = select(population, evaluation, 3)\n",
    "        parentB = select(population, evaluation, 3)\n",
    "        newPopulation[k], newPopulation[k + 1] = combine(parentA, parentB, cRate)       \n",
    "        k = k + 2    \n",
    "    population = newPopulation\n",
    "    for i in range(populationSize):\n",
    "        population[i] = mutate(population[i], mRate)\n",
    "        evaluation[i] = eval_tunned(population[i], problem)\n",
    "        # Keeps a record of the best individual found so far\n",
    "        if (evaluation[i] > bestEvaluation):\n",
    "            bestEvaluation = evaluation[i]\n",
    "            bestIndividual = population[i]\n",
    "            print(\"entre\")\n",
    "\n",
    "print(bestIndividual,bestEvaluation)"
   ]
  },
  {
   "cell_type": "code",
   "execution_count": 849,
   "metadata": {},
   "outputs": [
    {
     "data": {
      "text/plain": [
       "[array([1, 3, 1, 1, 3, 2, 3, 1, 1, 2, 0, 5, 1, 2, 3, 4, 3, 1, 3, 3]),\n",
       " array([4, 3, 3, 1, 3, 2, 3, 1, 1, 2, 0, 5, 1, 2, 5, 3, 2, 0, 0, 4]),\n",
       " array([1, 3, 1, 1, 3, 1, 3, 1, 1, 2, 0, 5, 1, 2, 3, 1, 5, 1, 0, 3]),\n",
       " array([1, 3, 3, 1, 3, 2, 1, 1, 1, 2, 0, 5, 1, 2, 3, 2, 0, 1, 3, 3]),\n",
       " array([2, 3, 3, 1, 3, 1, 1, 1, 1, 3, 0, 5, 1, 1, 5, 2, 0, 1, 3, 3]),\n",
       " array([1, 3, 1, 1, 3, 2, 3, 1, 1, 2, 0, 5, 3, 2, 3, 5, 5, 1, 0, 2]),\n",
       " array([1, 3, 1, 1, 3, 2, 3, 1, 1, 2, 0, 3, 1, 2, 5, 1, 0, 1, 3, 3]),\n",
       " array([1, 3, 2, 1, 3, 2, 3, 0, 1, 2, 0, 5, 1, 2, 3, 2, 0, 1, 3, 3]),\n",
       " array([4, 3, 1, 1, 3, 2, 3, 1, 1, 2, 0, 5, 1, 2, 3, 0, 3, 1, 3, 2]),\n",
       " array([4, 3, 3, 1, 3, 2, 3, 1, 1, 2, 0, 5, 2, 1, 5, 1, 5, 1, 0, 3]),\n",
       " array([1, 0, 2, 1, 3, 1, 3, 1, 1, 2, 4, 5, 1, 2, 3, 2, 0, 1, 3, 3]),\n",
       " array([1, 3, 1, 1, 1, 5, 3, 1, 1, 2, 0, 5, 1, 1, 0, 1, 0, 1, 0, 3]),\n",
       " array([1, 1, 3, 1, 3, 2, 3, 1, 1, 2, 0, 5, 1, 5, 3, 3, 0, 1, 3, 3]),\n",
       " array([3, 3, 3, 1, 3, 2, 3, 1, 1, 2, 0, 5, 1, 2, 3, 1, 5, 1, 3, 3]),\n",
       " array([4, 3, 3, 1, 3, 2, 3, 1, 1, 1, 0, 5, 1, 2, 3, 0, 3, 1, 3, 3]),\n",
       " array([4, 3, 1, 1, 3, 2, 3, 1, 2, 3, 0, 5, 1, 2, 3, 3, 0, 1, 3, 3]),\n",
       " array([1, 1, 3, 1, 3, 1, 3, 1, 1, 2, 0, 5, 1, 1, 0, 1, 0, 1, 0, 5]),\n",
       " array([0, 4, 3, 1, 3, 1, 3, 1, 1, 2, 0, 5, 1, 1, 0, 1, 5, 0, 5, 3]),\n",
       " array([0, 3, 1, 1, 3, 2, 3, 1, 1, 2, 0, 0, 1, 2, 3, 2, 0, 1, 3, 3]),\n",
       " array([1, 3, 2, 1, 3, 2, 3, 0, 1, 2, 0, 5, 1, 2, 3, 2, 2, 1, 3, 4])]"
      ]
     },
     "execution_count": 849,
     "metadata": {},
     "output_type": "execute_result"
    }
   ],
   "source": [
    "newPopulation"
   ]
  },
  {
   "cell_type": "code",
   "execution_count": 710,
   "metadata": {},
   "outputs": [
    {
     "name": "stdout",
     "output_type": "stream",
     "text": [
      "[3, 2, 1] 10\n",
      "10.545454545454545\n"
     ]
    }
   ],
   "source": [
    "#channge individual for the solution\n",
    "individual = [1, 3, 2, 2, 3, 0, 5, 1, 1, 3, 4, 3, 5, 3, 3, 1, 0, 2, 2, 3]\n",
    "#count of steps\n",
    "steps = 0\n",
    "#create towers\n",
    "t1,t2,t3 = create_towers(p1.n)\n",
    "for i in range (len(individual)):\n",
    "    #check if the action is posible given the constraints\n",
    "    if possible_action(individual[i], t1, t2, t3):\n",
    "        #If so, then update the towers, done in the condition\n",
    "        t1,t2,t3 = update(individual[i], t1, t2, t3)\n",
    "        steps += 1\n",
    "    else:\n",
    "        #If no,keep going\n",
    "        pass\n",
    "    #If the tower 3 is completed then no need to complete the other actions\n",
    "    if len(t3) == p1.n:\n",
    "        break\n",
    "\n",
    "print(t3,steps)\n",
    "\n",
    "steps_object = 2**p1.n-1\n",
    "weight_object = sum(np.arange(p1.n)+1)\n",
    "if weight_object == sum(t3):\n",
    "    print ((sum(t3))/(steps+1)+10)\n",
    "else:\n",
    "    print ((sum(t3))/(steps+1))"
   ]
  },
  {
   "cell_type": "code",
   "execution_count": null,
   "metadata": {},
   "outputs": [],
   "source": []
  }
 ],
 "metadata": {
  "kernelspec": {
   "display_name": "Python 3",
   "language": "python",
   "name": "python3"
  },
  "language_info": {
   "codemirror_mode": {
    "name": "ipython",
    "version": 3
   },
   "file_extension": ".py",
   "mimetype": "text/x-python",
   "name": "python",
   "nbconvert_exporter": "python",
   "pygments_lexer": "ipython3",
   "version": "3.7.3"
  }
 },
 "nbformat": 4,
 "nbformat_minor": 4
}
